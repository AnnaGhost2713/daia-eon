{
 "cells": [
  {
   "metadata": {},
   "cell_type": "markdown",
   "source": [
    "# Das File nimmt die Daten aus /data/piranha_training_data.json und /data/piranha_synthetic_data.json als Input und unterteilt die Daten in Train, Validation und Test (Train: 100% synthetic, Validation: 20% der real data, Test: 80% der real data)\n",
    "\n",
    "Gespeichert wird es dann im Ordner /data/piranha_split"
   ],
   "id": "b77d90ce89e06a8"
  },
  {
   "metadata": {},
   "cell_type": "code",
   "outputs": [],
   "execution_count": null,
   "source": [
    "import json, random\n",
    "from pathlib import Path\n",
    "\n",
    "# echte Daten laden\n",
    "with open(\"../old_data/piranha_old/piranha_training_data.json\", \"r\", encoding=\"utf-8\") as f:\n",
    "    real_data = json.load(f)\n",
    "\n",
    "# synthetische Daten laden\n",
    "with open(\"../old_data/piranha_old/piranha_synthetic_data.json\", \"r\", encoding=\"utf-8\") as f:\n",
    "    synthetic_data = json.load(f)\n",
    "\n",
    "# echte Daten zufällig aufteilen\n",
    "random.shuffle(real_data)\n",
    "validation_size = int(0.2 * len(real_data))\n",
    "validation_data = real_data[:validation_size]\n",
    "test_data = real_data[validation_size:]\n",
    "\n",
    "# Ordner erstellen und alle Splits speichern\n",
    "Path(\"../old_data/piranha_split\").mkdir(exist_ok=True)\n",
    "with open(\"../old_data/piranha_split/train.json\", \"w\") as f: json.dump(synthetic_data, f, indent=2)\n",
    "with open(\"../old_data/piranha_split/validation.json\", \"w\") as f: json.dump(validation_data, f, indent=2)\n",
    "with open(\"../old_data/piranha_split/test.json\", \"w\") as f: json.dump(test_data, f, indent=2)\n"
   ],
   "id": "72fda5d68ea789aa"
  }
 ],
 "metadata": {
  "kernelspec": {
   "display_name": "Python 3",
   "language": "python",
   "name": "python3"
  },
  "language_info": {
   "codemirror_mode": {
    "name": "ipython",
    "version": 2
   },
   "file_extension": ".py",
   "mimetype": "text/x-python",
   "name": "python",
   "nbconvert_exporter": "python",
   "pygments_lexer": "ipython2",
   "version": "2.7.6"
  }
 },
 "nbformat": 4,
 "nbformat_minor": 5
}
