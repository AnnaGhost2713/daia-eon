{
 "cells": [
  {
   "metadata": {},
   "cell_type": "code",
   "outputs": [],
   "execution_count": null,
   "source": [
    "import json\n",
    "\n",
    "def anonymize_from_labels(data):\n",
    "    anonymized_results = []\n",
    "\n",
    "    for entry in data:\n",
    "        text = entry[\"text\"]\n",
    "        labels = entry.get(\"labels\", [])\n",
    "\n",
    "        # Labels nach Startposition rückwärts sortieren, damit Ersetzungen stabil bleiben\n",
    "        labels_sorted = sorted(labels, key=lambda l: l[\"start\"], reverse=True)\n",
    "\n",
    "        for label in labels_sorted:\n",
    "            start = label[\"start\"]\n",
    "            end = label[\"end\"]\n",
    "            label_type = label[\"label\"]\n",
    "            if start < end and end <= len(text):\n",
    "                text = text[:start] + f\"<{label_type}>\" + text[end:]\n",
    "\n",
    "        anonymized_results.append(text)\n",
    "\n",
    "    return anonymized_results\n",
    "\n",
    "# JSON-Datei laden\n",
    "with open(\"../../../old_data/piranha_old/piranha_training_data.json\", \"r\", encoding=\"utf-8\") as f:\n",
    "    data = json.load(f)\n",
    "\n",
    "# Anonymisieren\n",
    "anonymized_texts = anonymize_from_labels(data)\n",
    "\n",
    "# Speichern der anonymisierten E-Mails in eine Textdatei\n",
    "with open(\"../../../old_data/anonymized_emails.txt\", \"w\", encoding=\"utf-8\") as out_file:\n",
    "    for i, text in enumerate(anonymized_texts):\n",
    "        out_file.write(f\"\\n--- E-Mail {i+1} ---\\n{text}\\n\")\n",
    "\n",
    "print(\"Alle anonymisierten E-Mails wurden in 'anonymized_emails.txt' gespeichert.\")\n"
   ],
   "id": "63030e064af7daf9"
  },
  {
   "metadata": {},
   "cell_type": "code",
   "outputs": [],
   "execution_count": null,
   "source": [
    "with open(\"../../../old_data/piranha_old/piranha_training_data.json\", \"r\", encoding=\"utf-8\") as f:\n",
    "    data = json.load(f)\n",
    "\n",
    "anonymized_texts = anonymize_from_labels(data)\n",
    "\n",
    "# Beispielausgabe\n",
    "for i, anon in enumerate(anonymized_texts[:3]):\n",
    "    print(f\"\\n--- E-Mail {i+1} ---\\n\")\n",
    "    print(anon)\n"
   ],
   "id": "575fb4919cffd9c8"
  }
 ],
 "metadata": {
  "kernelspec": {
   "display_name": "Python 3",
   "language": "python",
   "name": "python3"
  },
  "language_info": {
   "codemirror_mode": {
    "name": "ipython",
    "version": 2
   },
   "file_extension": ".py",
   "mimetype": "text/x-python",
   "name": "python",
   "nbconvert_exporter": "python",
   "pygments_lexer": "ipython2",
   "version": "2.7.6"
  }
 },
 "nbformat": 4,
 "nbformat_minor": 5
}
