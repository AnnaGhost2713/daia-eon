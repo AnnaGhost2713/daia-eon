{
 "cells": [
  {
   "cell_type": "code",
   "id": "initial_id",
   "metadata": {
    "collapsed": true,
    "ExecuteTime": {
     "end_time": "2025-06-05T17:35:38.802080Z",
     "start_time": "2025-06-05T17:35:38.465816Z"
    }
   },
   "source": [
    "import os\n",
    "import re\n",
    "import json\n",
    "import pandas as pd\n",
    "from pathlib import Path\n",
    "\n",
    "GROUPED_PLACEHOLDERS = {\n",
    "    \"NAME\": [\"NAME\", \"SKYPE\"],\n",
    "    \"ADRESSE\": [\"ADRESSE\"],\n",
    "    \"VERTRAG\": [\"VERTRAGSNUMMER\", \"KUNDENNUMMER\", \"ZUORDNUNGSNUMMER\"],\n",
    "    \"ZAHLUNG\": [\"ZAHLUNG\", \"IBAN\", \"BIC\"],\n",
    "    \"TECHNISCHE_DATEN\": [\"ZÄHLERSTAND\", \"ZÄHLERNUMMER\", \"VERBRAUCH\", \"WLV\"],\n",
    "    \"KONTAKT\": [\"TELEFONNUMMER\", \"EMAIL\", \"MAIL\", \"LINK\", \"GESENDET_MIT\", \"FIRMENDATEN\", \"FAX\"],\n",
    "    \"FIRMA\": [\"FIRMA\"],\n",
    "    \"DATUM\": [\"DATUM\"]\n",
    "}\n",
    "\n",
    "def map_column_to_label(col_name):\n",
    "    upper_col = col_name.upper()\n",
    "    for label, keywords in GROUPED_PLACEHOLDERS.items():\n",
    "        if any(keyword in upper_col for keyword in keywords):\n",
    "            return label\n",
    "    return None\n",
    "\n",
    "def find_all_occurrences(text, value):\n",
    "    \"\"\"Finde alle (nicht überlappenden) Vorkommen von `value` im `text`, case-insensitive.\"\"\"\n",
    "    matches = []\n",
    "    pattern = re.escape(value)\n",
    "    for match in re.finditer(pattern, text, re.IGNORECASE):\n",
    "        matches.append((match.start(), match.end()))\n",
    "    return matches\n",
    "\n",
    "def generate_piranha_training_data(df, email_folder_path, output_file_path):\n",
    "    training_data = []\n",
    "\n",
    "    for index, row in df.iterrows():\n",
    "        file_name = row[\"TextFile\"]\n",
    "        email_path = os.path.join(email_folder_path, file_name)\n",
    "\n",
    "        try:\n",
    "            with open(email_path, \"r\", encoding=\"utf-8\") as file:\n",
    "                text = file.read()\n",
    "        except FileNotFoundError:\n",
    "            print(f\"❌ Datei nicht gefunden: {file_name}\")\n",
    "            continue\n",
    "\n",
    "        labels = []\n",
    "        for col in row.index:\n",
    "            if pd.isna(row[col]):\n",
    "                continue\n",
    "            label_type = map_column_to_label(col)\n",
    "            if label_type:\n",
    "                value = str(row[col]).strip()\n",
    "                if not value:\n",
    "                    continue\n",
    "\n",
    "                matches = find_all_occurrences(text, value)\n",
    "                if not matches:\n",
    "                    print(f\"⚠️ Wert nicht gefunden: '{value}' in Datei {file_name}\")\n",
    "                for start_idx, end_idx in matches:\n",
    "                    labels.append({\n",
    "                        \"start\": start_idx,\n",
    "                        \"end\": end_idx,\n",
    "                        \"label\": label_type\n",
    "                    })\n",
    "\n",
    "        training_data.append({\n",
    "            \"text\": text,\n",
    "            \"labels\": labels\n",
    "        })\n",
    "\n",
    "    with open(output_file_path, \"w\", encoding=\"utf-8\") as f:\n",
    "        json.dump(training_data, f, ensure_ascii=False, indent=2)\n",
    "\n",
    "    print(f\"✅ Piranha-Trainingsdaten gespeichert unter: {output_file_path}\")\n",
    "\n",
    "\n",
    "    # Beispielhafte Anwendung:\n",
    "df = pd.read_excel(\"../data/DAiA_Manual_Labeling_zusammengefasst.xlsx\")\n",
    "generate_piranha_training_data(\n",
    "    df,\n",
    "    email_folder_path=\"../data/golden_dataset_original\",        # Pfad zu den Original-E-Mails\n",
    "    output_file_path=\"../data/piranha_training_data_zusammengefasst.json\"       # Ziel-Datei mit JSON-Daten\n",
    ")\n",
    "\n"
   ],
   "outputs": [
    {
     "name": "stdout",
     "output_type": "stream",
     "text": [
      "⚠️ Wert nicht gefunden: '919684277.0' in Datei 24.txt\n",
      "⚠️ Wert nicht gefunden: '0.0' in Datei 26.txt\n",
      "⚠️ Wert nicht gefunden: '14042.0' in Datei 100.txt\n",
      "⚠️ Wert nicht gefunden: '2019.0' in Datei 162.txt\n",
      "✅ Piranha-Trainingsdaten gespeichert unter: ../data/piranha_training_data_zusammengefasst.json\n"
     ]
    }
   ],
   "execution_count": 1
  }
 ],
 "metadata": {
  "kernelspec": {
   "display_name": "Python 3",
   "language": "python",
   "name": "python3"
  },
  "language_info": {
   "codemirror_mode": {
    "name": "ipython",
    "version": 2
   },
   "file_extension": ".py",
   "mimetype": "text/x-python",
   "name": "python",
   "nbconvert_exporter": "python",
   "pygments_lexer": "ipython2",
   "version": "2.7.6"
  }
 },
 "nbformat": 4,
 "nbformat_minor": 5
}
