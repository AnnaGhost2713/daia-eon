{
 "cells": [
  {
   "cell_type": "code",
   "id": "initial_id",
   "metadata": {
    "collapsed": true,
    "ExecuteTime": {
     "end_time": "2025-06-05T18:36:15.859061Z",
     "start_time": "2025-06-05T18:36:15.841001Z"
    }
   },
   "source": [
    "import json\n",
    "\n",
    "# Original mit \"labels\"\n",
    "with open(\"../data/real_focus_zusammengefasst/test_zusammengefasst.json\", \"r\", encoding=\"utf-8\") as f:\n",
    "    test_data = json.load(f)\n",
    "\n",
    "# Konvertieren\n",
    "for entry in test_data:\n",
    "    entry[\"entities\"] = [[lbl[\"start\"], lbl[\"end\"], lbl[\"label\"]] for lbl in entry.get(\"labels\", [])]\n",
    "\n",
    "# Speichern in neuer Datei\n",
    "with open(\"../data/real_focus_zusammengefasst/test_entities_zusammengefasst.json\", \"w\", encoding=\"utf-8\") as f:\n",
    "    json.dump(test_data, f, indent=2, ensure_ascii=False)\n"
   ],
   "outputs": [],
   "execution_count": 3
  }
 ],
 "metadata": {
  "kernelspec": {
   "display_name": "Python 3",
   "language": "python",
   "name": "python3"
  },
  "language_info": {
   "codemirror_mode": {
    "name": "ipython",
    "version": 2
   },
   "file_extension": ".py",
   "mimetype": "text/x-python",
   "name": "python",
   "nbconvert_exporter": "python",
   "pygments_lexer": "ipython2",
   "version": "2.7.6"
  }
 },
 "nbformat": 4,
 "nbformat_minor": 5
}
