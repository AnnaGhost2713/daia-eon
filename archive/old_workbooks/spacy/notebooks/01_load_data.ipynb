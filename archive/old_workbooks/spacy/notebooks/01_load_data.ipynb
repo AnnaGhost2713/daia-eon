{
 "cells": [
  {
   "cell_type": "code",
   "execution_count": 1,
   "id": "7eb34d27-748c-4a6a-81a3-6f5761be405b",
   "metadata": {},
   "outputs": [],
   "source": [
    "# Importing Python Libraries\n",
    "import os\n",
    "import pandas as pd"
   ]
  },
  {
   "cell_type": "code",
   "execution_count": 2,
   "id": "22726ba9-f231-40b4-9dca-4f6ba9ece19b",
   "metadata": {},
   "outputs": [
    {
     "name": "stdout",
     "output_type": "stream",
     "text": [
      "Loaded 161 emails\n"
     ]
    },
    {
     "data": {
      "text/html": [
       "<div>\n",
       "<style scoped>\n",
       "    .dataframe tbody tr th:only-of-type {\n",
       "        vertical-align: middle;\n",
       "    }\n",
       "\n",
       "    .dataframe tbody tr th {\n",
       "        vertical-align: top;\n",
       "    }\n",
       "\n",
       "    .dataframe thead th {\n",
       "        text-align: right;\n",
       "    }\n",
       "</style>\n",
       "<table border=\"1\" class=\"dataframe\">\n",
       "  <thead>\n",
       "    <tr style=\"text-align: right;\">\n",
       "      <th></th>\n",
       "      <th>filename</th>\n",
       "      <th>text</th>\n",
       "    </tr>\n",
       "  </thead>\n",
       "  <tbody>\n",
       "    <tr>\n",
       "      <th>0</th>\n",
       "      <td>0.txt</td>\n",
       "      <td>Wie angefordert der Kontoauszug. Abbuchung Eur...</td>\n",
       "    </tr>\n",
       "    <tr>\n",
       "      <th>1</th>\n",
       "      <td>1.txt</td>\n",
       "      <td>Hallo liebes Eon Team,\\nes geht um die Vertrag...</td>\n",
       "    </tr>\n",
       "    <tr>\n",
       "      <th>2</th>\n",
       "      <td>10.txt</td>\n",
       "      <td>&gt;\\n&gt; Sehr geehrter Damen und Herren,\\n&gt;\\n&gt; Wür...</td>\n",
       "    </tr>\n",
       "  </tbody>\n",
       "</table>\n",
       "</div>"
      ],
      "text/plain": [
       "  filename                                               text\n",
       "0    0.txt  Wie angefordert der Kontoauszug. Abbuchung Eur...\n",
       "1    1.txt  Hallo liebes Eon Team,\\nes geht um die Vertrag...\n",
       "2   10.txt  >\\n> Sehr geehrter Damen und Herren,\\n>\\n> Wür..."
      ]
     },
     "execution_count": 2,
     "metadata": {},
     "output_type": "execute_result"
    }
   ],
   "source": [
    "# Loading Emails into a DataFrame\n",
    "# Set the path to your raw emails\n",
    "raw_data_dir = \"/Users/annama/Documents/Master/SS 25/Data Analytics in Applications/2025-04-15-golden-dataset\"\n",
    "\n",
    "# Read all .txt files into a list\n",
    "emails = []\n",
    "for filename in sorted(os.listdir(raw_data_dir)):\n",
    "    if filename.endswith(\".txt\"):\n",
    "        with open(os.path.join(raw_data_dir, filename), \"r\", encoding=\"utf-8\") as file:\n",
    "            content = file.read().strip()\n",
    "            emails.append({\n",
    "                \"filename\": filename,\n",
    "                \"text\": content\n",
    "            })\n",
    "\n",
    "# Create DataFrame\n",
    "df = pd.DataFrame(emails)\n",
    "\n",
    "# Show how many emails were loaded\n",
    "print(f\"Loaded {len(df)} emails\")\n",
    "df.head(3)"
   ]
  },
  {
   "cell_type": "code",
   "execution_count": 3,
   "id": "49beb11e-3577-4f59-855e-c13b90f3f4e3",
   "metadata": {},
   "outputs": [
    {
     "data": {
      "text/html": [
       "<div>\n",
       "<style scoped>\n",
       "    .dataframe tbody tr th:only-of-type {\n",
       "        vertical-align: middle;\n",
       "    }\n",
       "\n",
       "    .dataframe tbody tr th {\n",
       "        vertical-align: top;\n",
       "    }\n",
       "\n",
       "    .dataframe thead th {\n",
       "        text-align: right;\n",
       "    }\n",
       "</style>\n",
       "<table border=\"1\" class=\"dataframe\">\n",
       "  <thead>\n",
       "    <tr style=\"text-align: right;\">\n",
       "      <th></th>\n",
       "      <th>filename</th>\n",
       "      <th>text</th>\n",
       "      <th>clean_text</th>\n",
       "    </tr>\n",
       "  </thead>\n",
       "  <tbody>\n",
       "    <tr>\n",
       "      <th>0</th>\n",
       "      <td>0.txt</td>\n",
       "      <td>Wie angefordert der Kontoauszug. Abbuchung Eur...</td>\n",
       "      <td>Wie angefordert der Kontoauszug. Abbuchung Eur...</td>\n",
       "    </tr>\n",
       "    <tr>\n",
       "      <th>1</th>\n",
       "      <td>1.txt</td>\n",
       "      <td>Hallo liebes Eon Team,\\nes geht um die Vertrag...</td>\n",
       "      <td>Hallo liebes Eon Team, es geht um die Vertrags...</td>\n",
       "    </tr>\n",
       "    <tr>\n",
       "      <th>2</th>\n",
       "      <td>10.txt</td>\n",
       "      <td>&gt;\\n&gt; Sehr geehrter Damen und Herren,\\n&gt;\\n&gt; Wür...</td>\n",
       "      <td>&gt; &gt; Sehr geehrter Damen und Herren, &gt; &gt; Würde ...</td>\n",
       "    </tr>\n",
       "  </tbody>\n",
       "</table>\n",
       "</div>"
      ],
      "text/plain": [
       "  filename                                               text  \\\n",
       "0    0.txt  Wie angefordert der Kontoauszug. Abbuchung Eur...   \n",
       "1    1.txt  Hallo liebes Eon Team,\\nes geht um die Vertrag...   \n",
       "2   10.txt  >\\n> Sehr geehrter Damen und Herren,\\n>\\n> Wür...   \n",
       "\n",
       "                                          clean_text  \n",
       "0  Wie angefordert der Kontoauszug. Abbuchung Eur...  \n",
       "1  Hallo liebes Eon Team, es geht um die Vertrags...  \n",
       "2  > > Sehr geehrter Damen und Herren, > > Würde ...  "
      ]
     },
     "execution_count": 3,
     "metadata": {},
     "output_type": "execute_result"
    }
   ],
   "source": [
    "# Cleaning the email text\n",
    "def clean_email(text):\n",
    "    # Strip excess whitespace\n",
    "    text = \"\\n\".join(line.strip() for line in text.splitlines())\n",
    "    text = \" \".join(text.split())  # Normalize to single spaces\n",
    "    return text\n",
    "\n",
    "df[\"clean_text\"] = df[\"text\"].apply(clean_email)\n",
    "df.head(3)"
   ]
  },
  {
   "cell_type": "code",
   "execution_count": 4,
   "id": "853ce13e-cfb5-4eaf-a843-4576f138d916",
   "metadata": {},
   "outputs": [
    {
     "data": {
      "text/html": [
       "<div>\n",
       "<style scoped>\n",
       "    .dataframe tbody tr th:only-of-type {\n",
       "        vertical-align: middle;\n",
       "    }\n",
       "\n",
       "    .dataframe tbody tr th {\n",
       "        vertical-align: top;\n",
       "    }\n",
       "\n",
       "    .dataframe thead th {\n",
       "        text-align: right;\n",
       "    }\n",
       "</style>\n",
       "<table border=\"1\" class=\"dataframe\">\n",
       "  <thead>\n",
       "    <tr style=\"text-align: right;\">\n",
       "      <th></th>\n",
       "      <th>filename</th>\n",
       "      <th>text</th>\n",
       "      <th>clean_text</th>\n",
       "      <th>manually_anonymized</th>\n",
       "    </tr>\n",
       "  </thead>\n",
       "  <tbody>\n",
       "    <tr>\n",
       "      <th>0</th>\n",
       "      <td>0.txt</td>\n",
       "      <td>Wie angefordert der Kontoauszug. Abbuchung Eur...</td>\n",
       "      <td>Wie angefordert der Kontoauszug. Abbuchung Eur...</td>\n",
       "      <td></td>\n",
       "    </tr>\n",
       "    <tr>\n",
       "      <th>1</th>\n",
       "      <td>1.txt</td>\n",
       "      <td>Hallo liebes Eon Team,\\nes geht um die Vertrag...</td>\n",
       "      <td>Hallo liebes Eon Team, es geht um die Vertrags...</td>\n",
       "      <td></td>\n",
       "    </tr>\n",
       "    <tr>\n",
       "      <th>2</th>\n",
       "      <td>10.txt</td>\n",
       "      <td>&gt;\\n&gt; Sehr geehrter Damen und Herren,\\n&gt;\\n&gt; Wür...</td>\n",
       "      <td>&gt; &gt; Sehr geehrter Damen und Herren, &gt; &gt; Würde ...</td>\n",
       "      <td></td>\n",
       "    </tr>\n",
       "  </tbody>\n",
       "</table>\n",
       "</div>"
      ],
      "text/plain": [
       "  filename                                               text  \\\n",
       "0    0.txt  Wie angefordert der Kontoauszug. Abbuchung Eur...   \n",
       "1    1.txt  Hallo liebes Eon Team,\\nes geht um die Vertrag...   \n",
       "2   10.txt  >\\n> Sehr geehrter Damen und Herren,\\n>\\n> Wür...   \n",
       "\n",
       "                                          clean_text manually_anonymized  \n",
       "0  Wie angefordert der Kontoauszug. Abbuchung Eur...                      \n",
       "1  Hallo liebes Eon Team, es geht um die Vertrags...                      \n",
       "2  > > Sehr geehrter Damen und Herren, > > Würde ...                      "
      ]
     },
     "execution_count": 4,
     "metadata": {},
     "output_type": "execute_result"
    }
   ],
   "source": [
    "# Adding placeholder for manual anonymization\n",
    "df[\"manually_anonymized\"] = \"\"  # For later labeling work\n",
    "df.head(3)"
   ]
  },
  {
   "cell_type": "code",
   "execution_count": 5,
   "id": "a7ecdc4f-3541-417e-9a11-c14dabe36149",
   "metadata": {},
   "outputs": [],
   "source": [
    "# (optional) saving to CSV for labelling\n",
    "df.to_csv(\"../data/gold_standard/labeled_emails.csv\", index=False)"
   ]
  },
  {
   "cell_type": "code",
   "execution_count": null,
   "id": "d57f1268-0ab9-4972-b77c-52c460f3fcd4",
   "metadata": {},
   "outputs": [],
   "source": []
  }
 ],
 "metadata": {
  "kernelspec": {
   "display_name": "Python 3",
   "language": "python",
   "name": "python3"
  },
  "language_info": {
   "codemirror_mode": {
    "name": "ipython",
    "version": 3
   },
   "file_extension": ".py",
   "mimetype": "text/x-python",
   "name": "python",
   "nbconvert_exporter": "python",
   "pygments_lexer": "ipython3",
   "version": "3.10.11"
  }
 },
 "nbformat": 4,
 "nbformat_minor": 5
}
