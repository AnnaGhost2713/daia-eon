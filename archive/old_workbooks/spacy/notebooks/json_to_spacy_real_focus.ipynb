{
 "cells": [
  {
   "cell_type": "code",
   "id": "initial_id",
   "metadata": {
    "collapsed": true,
    "ExecuteTime": {
     "end_time": "2025-06-05T17:37:03.832201Z",
     "start_time": "2025-06-05T17:37:02.725800Z"
    }
   },
   "source": [
    "import json\n",
    "import spacy\n",
    "from pathlib import Path\n",
    "from spacy.tokens import DocBin\n",
    "\n",
    "def convert_labeled_json_to_spacy(input_json, output_spacy):\n",
    "    nlp = spacy.blank(\"de\")\n",
    "    doc_bin = DocBin()\n",
    "\n",
    "    with open(input_json, \"r\", encoding=\"utf-8\") as f:\n",
    "        data = json.load(f)\n",
    "\n",
    "    for entry in data:\n",
    "        text = entry[\"text\"]\n",
    "        label_objs = entry.get(\"labels\", [])\n",
    "        entities = [[lbl[\"start\"], lbl[\"end\"], lbl[\"label\"]] for lbl in label_objs]\n",
    "\n",
    "        doc = nlp.make_doc(text)\n",
    "        spans = []\n",
    "        seen_tokens = set()\n",
    "\n",
    "        for start, end, label in entities:\n",
    "            span = doc.char_span(start, end, label=label)\n",
    "            if span is None:\n",
    "                continue\n",
    "            # Prüfe, ob Token überlappen\n",
    "            if any(t.i in seen_tokens for t in span):\n",
    "                continue\n",
    "            spans.append(span)\n",
    "            seen_tokens.update(t.i for t in span)\n",
    "\n",
    "        doc.ents = spans\n",
    "        doc_bin.add(doc)\n",
    "\n",
    "    doc_bin.to_disk(output_spacy)\n",
    "    print(f\"✅ Gespeichert: {output_spacy}\")\n",
    "\n",
    "\n",
    "# ⚙️ Eingabedateien (anpassen wenn nötig)\n",
    "convert_labeled_json_to_spacy(\"../data/real_focus_zusammengefasst/train_zusammengefasst.json\", \"../data/train_zusammengefasst.spacy\")\n",
    "convert_labeled_json_to_spacy(\"../data/real_focus_zusammengefasst/dev_zusammengefasst.json\", \"../data/dev_zusammengefasst.spacy\")\n",
    "\n",
    "\n",
    "\n"
   ],
   "outputs": [
    {
     "name": "stdout",
     "output_type": "stream",
     "text": [
      "✅ Gespeichert: ../data/train_zusammengefasst.spacy\n",
      "✅ Gespeichert: ../data/dev_zusammengefasst.spacy\n"
     ]
    }
   ],
   "execution_count": 1
  }
 ],
 "metadata": {
  "kernelspec": {
   "display_name": "Python 3",
   "language": "python",
   "name": "python3"
  },
  "language_info": {
   "codemirror_mode": {
    "name": "ipython",
    "version": 2
   },
   "file_extension": ".py",
   "mimetype": "text/x-python",
   "name": "python",
   "nbconvert_exporter": "python",
   "pygments_lexer": "ipython2",
   "version": "2.7.6"
  }
 },
 "nbformat": 4,
 "nbformat_minor": 5
}
