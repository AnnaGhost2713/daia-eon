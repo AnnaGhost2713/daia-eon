{
 "cells": [
  {
   "metadata": {},
   "cell_type": "markdown",
   "source": "# File zum Testen anhand eines selbst gewählten Beispiels ob das Modell klappt",
   "id": "18c5217600b1a5bb"
  },
  {
   "cell_type": "code",
   "id": "initial_id",
   "metadata": {
    "collapsed": true,
    "ExecuteTime": {
     "end_time": "2025-06-01T18:51:27.422521Z",
     "start_time": "2025-06-01T18:51:27.324053Z"
    }
   },
   "source": [
    "from transformers import AutoTokenizer, AutoModelForTokenClassification\n",
    "import torch\n",
    "\n",
    "# Pfad zum lokal gespeicherten Modell\n",
    "model_path = model_path = \"/Users/timonmartens/Library/CloudStorage/OneDrive-Persönlich/Desktop/Veranstaltungen/Data Analytics in Applications/daia-eon/piranha_model\"\n",
    "\n",
    "\n",
    "# Tokenizer & Modell lokal laden\n",
    "tokenizer = AutoTokenizer.from_pretrained(model_path, local_files_only=True)\n",
    "model = AutoModelForTokenClassification.from_pretrained(model_path, local_files_only=True)\n",
    "\n",
    "# Testtext\n",
    "text = \"Mein Name ist Max und ich habe die Nummer 124342. Viele Grüße Paul\"\n",
    "\n",
    "# Tokenisierung\n",
    "tokens = tokenizer(text, return_tensors=\"pt\", truncation=True)\n",
    "with torch.no_grad():\n",
    "    outputs = model(**tokens)\n",
    "\n",
    "# Vorhersage\n",
    "predictions = torch.argmax(outputs.logits, dim=2)[0].numpy()\n",
    "token_ids = tokens[\"input_ids\"][0].numpy()\n",
    "decoded_tokens = tokenizer.convert_ids_to_tokens(token_ids)\n",
    "\n",
    "# Labels zu IDs laden\n",
    "label_list = model.config.id2label\n",
    "\n",
    "# Ergebnis anzeigen\n",
    "print(\"\\n📌 Tokenweise Vorhersage:\\n\")\n",
    "for token, pred in zip(decoded_tokens, predictions):\n",
    "    label = label_list[pred]\n",
    "    print(f\"{token:20} -> {label}\")\n"
   ],
   "outputs": [
    {
     "name": "stdout",
     "output_type": "stream",
     "text": [
      "\n",
      "📌 Tokenweise Vorhersage:\n",
      "\n",
      "[CLS]                -> O\n",
      "Mein                 -> O\n",
      "Name                 -> O\n",
      "ist                  -> O\n",
      "Max                  -> O\n",
      "und                  -> O\n",
      "ich                  -> O\n",
      "habe                 -> O\n",
      "die                  -> O\n",
      "Nummer               -> O\n",
      "124                  -> B-VERTRAG\n",
      "##34                 -> I-VERTRAG\n",
      "##2                  -> I-VERTRAG\n",
      ".                    -> O\n",
      "Viele                -> O\n",
      "Grü                  -> O\n",
      "##ße                 -> O\n",
      "Paul                 -> O\n",
      "[SEP]                -> O\n"
     ]
    }
   ],
   "execution_count": 6
  }
 ],
 "metadata": {
  "kernelspec": {
   "display_name": "Python 3",
   "language": "python",
   "name": "python3"
  },
  "language_info": {
   "codemirror_mode": {
    "name": "ipython",
    "version": 2
   },
   "file_extension": ".py",
   "mimetype": "text/x-python",
   "name": "python",
   "nbconvert_exporter": "python",
   "pygments_lexer": "ipython2",
   "version": "2.7.6"
  }
 },
 "nbformat": 4,
 "nbformat_minor": 5
}
