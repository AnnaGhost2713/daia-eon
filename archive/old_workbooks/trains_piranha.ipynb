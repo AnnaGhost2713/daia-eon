{
 "cells": [
  {
   "metadata": {},
   "cell_type": "markdown",
   "source": "# File, dass das Modell trainiert",
   "id": "9c4d81d8d036a61"
  },
  {
   "cell_type": "code",
   "execution_count": null,
   "id": "initial_id",
   "metadata": {
    "collapsed": true
   },
   "outputs": [],
   "source": [
    "from piranha.trainer import train_ner\n",
    "from pathlib import Path\n",
    "\n",
    "train_ner(\n",
    "    train_file=Path(\"data/train.json\"),\n",
    "    eval_file=Path(\"data/validation.json\"),\n",
    "    output_dir=Path(\"model\"),\n",
    "    model_name=\"piranha-ner\",\n",
    "    epochs=10,\n",
    "    batch_size=16,\n",
    "    learning_rate=5e-5\n",
    ")\n"
   ]
  }
 ],
 "metadata": {
  "kernelspec": {
   "display_name": "Python 3",
   "language": "python",
   "name": "python3"
  },
  "language_info": {
   "codemirror_mode": {
    "name": "ipython",
    "version": 2
   },
   "file_extension": ".py",
   "mimetype": "text/x-python",
   "name": "python",
   "nbconvert_exporter": "python",
   "pygments_lexer": "ipython2",
   "version": "2.7.6"
  }
 },
 "nbformat": 4,
 "nbformat_minor": 5
}
