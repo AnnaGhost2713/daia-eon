{
 "cells": [
  {
   "cell_type": "code",
   "id": "initial_id",
   "metadata": {
    "collapsed": true,
    "ExecuteTime": {
     "end_time": "2025-07-03T08:46:59.941454Z",
     "start_time": "2025-07-03T08:46:59.931989Z"
    }
   },
   "source": [
    "import json, random\n",
    "from pathlib import Path\n",
    "\n",
    "# Echte Daten laden\n",
    "with open(\"./spacy_training_data.json\", \"r\", encoding=\"utf-8\") as f:\n",
    "    real_data = json.load(f)\n",
    "\n",
    "# Shuffle\n",
    "random.shuffle(real_data)\n",
    "\n",
    "# Feste Größen für Test und Validierung\n",
    "n_test = 24\n",
    "n_val = 24\n",
    "\n",
    "# Split\n",
    "test_data = real_data[:n_test]\n",
    "validation_data = real_data[n_test:n_test + n_val]\n",
    "train_data = real_data[n_test + n_val:]\n",
    "\n",
    "# Ordner erstellen\n",
    "Path(\"../old_data/spacy_split\").mkdir(exist_ok=True)\n",
    "\n",
    "# Speichern\n",
    "with open(\"../old_data/spacy_split/train.json\", \"w\", encoding=\"utf-8\") as f:\n",
    "    json.dump(train_data, f, indent=2, ensure_ascii=False)\n",
    "\n",
    "with open(\"../old_data/spacy_split/validation.json\", \"w\", encoding=\"utf-8\") as f:\n",
    "    json.dump(validation_data, f, indent=2, ensure_ascii=False)\n",
    "\n",
    "with open(\"../old_data/spacy_split/test.json\", \"w\", encoding=\"utf-8\") as f:\n",
    "    json.dump(test_data, f, indent=2, ensure_ascii=False)\n",
    "\n",
    "print(f\"✅ Gesplittet: {len(train_data)} train, {len(validation_data)} val, {len(test_data)} test\")\n"
   ],
   "outputs": [
    {
     "name": "stdout",
     "output_type": "stream",
     "text": [
      "✅ Gesplittet: 112 train, 24 val, 24 test\n"
     ]
    }
   ],
   "execution_count": 1
  }
 ],
 "metadata": {
  "kernelspec": {
   "display_name": "Python 3",
   "language": "python",
   "name": "python3"
  },
  "language_info": {
   "codemirror_mode": {
    "name": "ipython",
    "version": 2
   },
   "file_extension": ".py",
   "mimetype": "text/x-python",
   "name": "python",
   "nbconvert_exporter": "python",
   "pygments_lexer": "ipython2",
   "version": "2.7.6"
  }
 },
 "nbformat": 4,
 "nbformat_minor": 5
}
