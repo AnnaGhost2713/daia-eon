{
 "cells": [
  {
   "metadata": {
    "ExecuteTime": {
     "end_time": "2025-07-16T14:12:02.498533Z",
     "start_time": "2025-07-16T14:11:59.330131Z"
    }
   },
   "cell_type": "code",
   "source": [
    "import json\n",
    "import spacy\n",
    "from spacy.training import offsets_to_biluo_tags\n",
    "from spacy.lang.de import German\n",
    "from pathlib import Path\n",
    "\n",
    "def validate_alignment(file_path):\n",
    "    nlp = German()\n",
    "    file_path = Path(file_path)\n",
    "\n",
    "    with file_path.open(\"r\", encoding=\"utf-8\") as f:\n",
    "        data = json.load(f)\n",
    "\n",
    "    total_files = len(data)\n",
    "    misaligned_files = 0\n",
    "    misaligned_details = []\n",
    "\n",
    "    for entry in data:\n",
    "        text = entry[\"text\"]\n",
    "        labels_raw = entry.get(\"labels\", [])\n",
    "        labels = [(l[\"start\"], l[\"end\"], l[\"label\"]) for l in labels_raw]\n",
    "        doc = nlp.make_doc(text)\n",
    "\n",
    "        try:\n",
    "            tags = offsets_to_biluo_tags(doc, labels)\n",
    "        except Exception:\n",
    "            continue\n",
    "\n",
    "        if \"-\" in tags:\n",
    "            misaligned_files += 1\n",
    "            details = []\n",
    "            for l in labels:\n",
    "                s, e, t = l\n",
    "                original = text[s:e].replace(\"\\n\", \"\\\\n\")\n",
    "                details.append(f\"{t}: '{original}' @ {s}-{e}\")\n",
    "            misaligned_details.append((entry.get(\"file\", \"unknown\"), details))\n",
    "\n",
    "    print(\"\\n🔍 Ergebnis:\")\n",
    "    print(f\"  Insgesamt überprüft: {total_files}\")\n",
    "    print(f\"  Davon mit fehlerhaften Labels: {misaligned_files}\\n\")\n",
    "\n",
    "    # Nur zusammengefasste Ausgabe:\n",
    "   # for filename, issues in misaligned_details:\n",
    "      #  print(f\"⚠️ Datei: {filename}\")\n",
    "      #  for issue in issues:\n",
    "       #     print(f\"  → {issue}\")\n",
    "        #print()\n",
    "\n",
    "# Beispielaufruf\n",
    "validate_alignment(\"synthetic_mails_option_b.json\")"
   ],
   "id": "3d5375a6a55a77ff",
   "outputs": [
    {
     "name": "stdout",
     "output_type": "stream",
     "text": [
      "\n",
      "🔍 Ergebnis:\n",
      "  Insgesamt überprüft: 14360\n",
      "  Davon mit fehlerhaften Labels: 4485\n",
      "\n"
     ]
    }
   ],
   "execution_count": 5
  },
  {
   "cell_type": "code",
   "id": "initial_id",
   "metadata": {
    "collapsed": true,
    "ExecuteTime": {
     "end_time": "2025-07-15T09:46:20.657341Z",
     "start_time": "2025-07-15T09:46:20.646552Z"
    }
   },
   "source": [
    "import json\n",
    "from pathlib import Path\n",
    "\n",
    "\n",
    "def anonymize_file(input_path, output_path):\n",
    "    # Lade die JSON-Datei\n",
    "    with open(input_path, \"r\", encoding=\"utf-8\") as f:\n",
    "        data = json.load(f)\n",
    "\n",
    "    anonymized_entries = []\n",
    "\n",
    "    for entry in data:\n",
    "        text = entry[\"text\"]\n",
    "        # Ersetze Labels von hinten nach vorne – kein Offset nötig!\n",
    "        labels = sorted(entry[\"labels\"], key=lambda l: l[\"start\"], reverse=True)\n",
    "\n",
    "        for label in labels:\n",
    "            start, end = label[\"start\"], label[\"end\"]\n",
    "            placeholder = f\"[{label['label']}]\"\n",
    "            text = text[:start] + placeholder + text[end:]\n",
    "\n",
    "        anonymized_entries.append({\n",
    "            \"file\": entry[\"file\"],\n",
    "            \"anonymized_text\": text\n",
    "        })\n",
    "\n",
    "    # Speichere das Ergebnis als neue JSON-Datei\n",
    "    with open(output_path, \"w\", encoding=\"utf-8\") as f:\n",
    "        json.dump(anonymized_entries, f, ensure_ascii=False, indent=2)\n",
    "\n",
    "    print(f\"✅ Anonymisierte Datei gespeichert unter: {output_path.resolve()}\")\n",
    "\n",
    "# Beispiel: Nutze den tatsächlichen Dateinamen, z. B. \"granu_train.json\"\n",
    "input_file = Path(\"./golden_dataset_norm_cleaned.json\")  # 👉 Passe das an deine hochgeladene Datei an\n",
    "output_file = Path(\"./anonymized_output_cleaned.json\")\n",
    "\n",
    "anonymize_file(input_file, output_file)"
   ],
   "outputs": [
    {
     "name": "stdout",
     "output_type": "stream",
     "text": [
      "✅ Anonymisierte Datei gespeichert unter: /Users/timonmartens/Library/CloudStorage/OneDrive-Persönlich/Desktop/Veranstaltungen/Data Analytics in Applications/daia-eon/data/original/anonymized_output_cleaned.json\n"
     ]
    }
   ],
   "execution_count": 11
  }
 ],
 "metadata": {
  "kernelspec": {
   "display_name": "Python 3",
   "language": "python",
   "name": "python3"
  },
  "language_info": {
   "codemirror_mode": {
    "name": "ipython",
    "version": 2
   },
   "file_extension": ".py",
   "mimetype": "text/x-python",
   "name": "python",
   "nbconvert_exporter": "python",
   "pygments_lexer": "ipython2",
   "version": "2.7.6"
  }
 },
 "nbformat": 4,
 "nbformat_minor": 5
}
