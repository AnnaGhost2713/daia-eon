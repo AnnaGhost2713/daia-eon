{
 "cells": [
  {
   "metadata": {},
   "cell_type": "markdown",
   "source": "This Notebook is only designed for testing of correct alignment of the json files as well as to create anonymized emails based on the json files for testing purposes.",
   "id": "a0c464bc692fb633"
  },
  {
   "metadata": {
    "ExecuteTime": {
     "end_time": "2025-07-17T19:49:54.896279Z",
     "start_time": "2025-07-17T19:49:54.851231Z"
    }
   },
   "cell_type": "code",
   "source": [
    "import json\n",
    "import spacy\n",
    "from spacy.training import offsets_to_biluo_tags\n",
    "from spacy.lang.de import German\n",
    "from pathlib import Path\n",
    "\n",
    "def validate_alignment(file_path):\n",
    "    nlp = German()\n",
    "    file_path = Path(file_path)\n",
    "\n",
    "    with file_path.open(\"r\", encoding=\"utf-8\") as f:\n",
    "        data = json.load(f)\n",
    "\n",
    "    total_files = len(data)\n",
    "    misaligned_files = 0\n",
    "    misaligned_details = []\n",
    "\n",
    "    for entry in data:\n",
    "        text = entry[\"text\"]\n",
    "        labels_raw = entry.get(\"labels\", [])\n",
    "        labels = [(l[\"start\"], l[\"end\"], l[\"label\"]) for l in labels_raw]\n",
    "        doc = nlp.make_doc(text)\n",
    "\n",
    "        try:\n",
    "            tags = offsets_to_biluo_tags(doc, labels)\n",
    "        except Exception:\n",
    "            continue\n",
    "\n",
    "        if \"-\" in tags:\n",
    "            misaligned_files += 1\n",
    "            details = []\n",
    "            for l in labels:\n",
    "                s, e, t = l\n",
    "                original = text[s:e].replace(\"\\n\", \"\\\\n\")\n",
    "                details.append(f\"{t}: '{original}' @ {s}-{e}\")\n",
    "            misaligned_details.append((entry.get(\"file\", \"unknown\"), details))\n",
    "\n",
    "    print(\"\\n🔍 Ergebnis:\")\n",
    "    print(f\"  Insgesamt überprüft: {total_files}\")\n",
    "    print(f\"  Davon mit fehlerhaften Labels: {misaligned_files}\\n\")\n",
    "\n",
    "    # Nur zusammengefasste Ausgabe:\n",
    "   # for filename, issues in misaligned_details:\n",
    "      #  print(f\"⚠️ Datei: {filename}\")\n",
    "      #  for issue in issues:\n",
    "       #     print(f\"  → {issue}\")\n",
    "        #print()\n",
    "\n",
    "# Beispielaufruf\n",
    "validate_alignment(\"/ground_truth_split/train_norm.json\")"
   ],
   "id": "3d5375a6a55a77ff",
   "outputs": [
    {
     "ename": "FileNotFoundError",
     "evalue": "[Errno 2] No such file or directory: '/ground_truth_split/train_norm.json'",
     "output_type": "error",
     "traceback": [
      "\u001B[0;31m---------------------------------------------------------------------------\u001B[0m",
      "\u001B[0;31mFileNotFoundError\u001B[0m                         Traceback (most recent call last)",
      "Cell \u001B[0;32mIn[15], line 50\u001B[0m\n\u001B[1;32m     40\u001B[0m     \u001B[38;5;28mprint\u001B[39m(\u001B[38;5;124mf\u001B[39m\u001B[38;5;124m\"\u001B[39m\u001B[38;5;124m  Davon mit fehlerhaften Labels: \u001B[39m\u001B[38;5;132;01m{\u001B[39;00mmisaligned_files\u001B[38;5;132;01m}\u001B[39;00m\u001B[38;5;130;01m\\n\u001B[39;00m\u001B[38;5;124m\"\u001B[39m)\n\u001B[1;32m     42\u001B[0m     \u001B[38;5;66;03m# Nur zusammengefasste Ausgabe:\u001B[39;00m\n\u001B[1;32m     43\u001B[0m    \u001B[38;5;66;03m# for filename, issues in misaligned_details:\u001B[39;00m\n\u001B[1;32m     44\u001B[0m       \u001B[38;5;66;03m#  print(f\"⚠️ Datei: {filename}\")\u001B[39;00m\n\u001B[0;32m   (...)\u001B[0m\n\u001B[1;32m     48\u001B[0m \n\u001B[1;32m     49\u001B[0m \u001B[38;5;66;03m# Beispielaufruf\u001B[39;00m\n\u001B[0;32m---> 50\u001B[0m \u001B[43mvalidate_alignment\u001B[49m\u001B[43m(\u001B[49m\u001B[38;5;124;43m\"\u001B[39;49m\u001B[38;5;124;43m/ground_truth_split/train_norm.json\u001B[39;49m\u001B[38;5;124;43m\"\u001B[39;49m\u001B[43m)\u001B[49m\n",
      "Cell \u001B[0;32mIn[15], line 11\u001B[0m, in \u001B[0;36mvalidate_alignment\u001B[0;34m(file_path)\u001B[0m\n\u001B[1;32m      8\u001B[0m nlp \u001B[38;5;241m=\u001B[39m German()\n\u001B[1;32m      9\u001B[0m file_path \u001B[38;5;241m=\u001B[39m Path(file_path)\n\u001B[0;32m---> 11\u001B[0m \u001B[38;5;28;01mwith\u001B[39;00m \u001B[43mfile_path\u001B[49m\u001B[38;5;241;43m.\u001B[39;49m\u001B[43mopen\u001B[49m\u001B[43m(\u001B[49m\u001B[38;5;124;43m\"\u001B[39;49m\u001B[38;5;124;43mr\u001B[39;49m\u001B[38;5;124;43m\"\u001B[39;49m\u001B[43m,\u001B[49m\u001B[43m \u001B[49m\u001B[43mencoding\u001B[49m\u001B[38;5;241;43m=\u001B[39;49m\u001B[38;5;124;43m\"\u001B[39;49m\u001B[38;5;124;43mutf-8\u001B[39;49m\u001B[38;5;124;43m\"\u001B[39;49m\u001B[43m)\u001B[49m \u001B[38;5;28;01mas\u001B[39;00m f:\n\u001B[1;32m     12\u001B[0m     data \u001B[38;5;241m=\u001B[39m json\u001B[38;5;241m.\u001B[39mload(f)\n\u001B[1;32m     14\u001B[0m total_files \u001B[38;5;241m=\u001B[39m \u001B[38;5;28mlen\u001B[39m(data)\n",
      "File \u001B[0;32m/opt/anaconda3/envs/piranha-env/lib/python3.10/pathlib.py:1119\u001B[0m, in \u001B[0;36mPath.open\u001B[0;34m(self, mode, buffering, encoding, errors, newline)\u001B[0m\n\u001B[1;32m   1117\u001B[0m \u001B[38;5;28;01mif\u001B[39;00m \u001B[38;5;124m\"\u001B[39m\u001B[38;5;124mb\u001B[39m\u001B[38;5;124m\"\u001B[39m \u001B[38;5;129;01mnot\u001B[39;00m \u001B[38;5;129;01min\u001B[39;00m mode:\n\u001B[1;32m   1118\u001B[0m     encoding \u001B[38;5;241m=\u001B[39m io\u001B[38;5;241m.\u001B[39mtext_encoding(encoding)\n\u001B[0;32m-> 1119\u001B[0m \u001B[38;5;28;01mreturn\u001B[39;00m \u001B[38;5;28;43mself\u001B[39;49m\u001B[38;5;241;43m.\u001B[39;49m\u001B[43m_accessor\u001B[49m\u001B[38;5;241;43m.\u001B[39;49m\u001B[43mopen\u001B[49m\u001B[43m(\u001B[49m\u001B[38;5;28;43mself\u001B[39;49m\u001B[43m,\u001B[49m\u001B[43m \u001B[49m\u001B[43mmode\u001B[49m\u001B[43m,\u001B[49m\u001B[43m \u001B[49m\u001B[43mbuffering\u001B[49m\u001B[43m,\u001B[49m\u001B[43m \u001B[49m\u001B[43mencoding\u001B[49m\u001B[43m,\u001B[49m\u001B[43m \u001B[49m\u001B[43merrors\u001B[49m\u001B[43m,\u001B[49m\n\u001B[1;32m   1120\u001B[0m \u001B[43m                           \u001B[49m\u001B[43mnewline\u001B[49m\u001B[43m)\u001B[49m\n",
      "\u001B[0;31mFileNotFoundError\u001B[0m: [Errno 2] No such file or directory: '/ground_truth_split/train_norm.json'"
     ]
    }
   ],
   "execution_count": 15
  },
  {
   "metadata": {
    "ExecuteTime": {
     "end_time": "2025-07-17T19:03:13.612101Z",
     "start_time": "2025-07-17T19:03:13.496572Z"
    }
   },
   "cell_type": "code",
   "source": [
    "#Test zwei\n",
    "\n",
    "import json\n",
    "\n",
    "def validate_spans(path):\n",
    "    errors = []\n",
    "    with open(path, encoding=\"utf‑8\") as f:\n",
    "        data = json.load(f)\n",
    "    # Stelle sicher, dass es eine Liste ist\n",
    "    if isinstance(data, dict):\n",
    "        data = [data]\n",
    "    for idx, entry in enumerate(data):\n",
    "        text = entry[\"text\"]\n",
    "        for lab in entry[\"labels\"]:\n",
    "            start, end, label = lab[\"start\"], lab[\"end\"], lab[\"label\"]\n",
    "            # 1) Out‑of‑bounds?\n",
    "            if start < 0 or end > len(text) or start >= end:\n",
    "                errors.append(\n",
    "                    f\"Beispiel {idx}: Ungültige Indizes für '{label}': \"\n",
    "                    f\"start={start}, end={end}, Textlänge={len(text)}\"\n",
    "                )\n",
    "                continue\n",
    "            span = text[start:end]\n",
    "            # 2) Leerzeichen am Rand?\n",
    "            if span[0].isspace() or span[-1].isspace():\n",
    "                errors.append(\n",
    "                    f\"Beispiel {idx}: Label '{label}' spannt auf whitespace: '{span!r}'\"\n",
    "                )\n",
    "            # 3) Sehr einfacher Check auf Satzzeichen am Rand\n",
    "            if span[0] in \".,;:!?\" or span[-1] in \".,;:!?\":\n",
    "                errors.append(\n",
    "                    f\"Beispiel {idx}: Label '{label}' spannt auf Satzzeichen: '{span!r}'\"\n",
    "                )\n",
    "    if errors:\n",
    "        print(\"⚠️ Gefundene Probleme:\")\n",
    "        for e in errors[:20]:  # zeige max. 20 Errors\n",
    "            print(\" -\", e)\n",
    "        print(f\"Insgesamt {len(errors)} Probleme gefunden.\")\n",
    "    else:\n",
    "        print(\"✅ Alle Annotationen scheinen korrekt indiziert zu sein.\")\n",
    "\n",
    "# Aufruf für deine Datei\n",
    "validate_spans(\"synthetic_mails_option_a_cleaned_new.json\")"
   ],
   "id": "64a3593eb0e34940",
   "outputs": [
    {
     "name": "stdout",
     "output_type": "stream",
     "text": [
      "⚠️ Gefundene Probleme:\n",
      " - Beispiel 0: Label 'VERTRAGSNUMMER' spannt auf Satzzeichen: ''406976889822.''\n",
      " - Beispiel 1: Label 'VERTRAGSNUMMER' spannt auf Satzzeichen: ''405563747587.''\n",
      " - Beispiel 2: Label 'VERTRAGSNUMMER' spannt auf Satzzeichen: ''408492564592.''\n",
      " - Beispiel 2: Label 'STRASSE' spannt auf Satzzeichen: ''Schweitzerstr.''\n",
      " - Beispiel 3: Label 'VERTRAGSNUMMER' spannt auf Satzzeichen: ''409322946798.''\n",
      " - Beispiel 4: Label 'VERTRAGSNUMMER' spannt auf Satzzeichen: ''400817607062.''\n",
      " - Beispiel 5: Label 'VERTRAGSNUMMER' spannt auf Satzzeichen: ''407 445 316 632.''\n",
      " - Beispiel 6: Label 'VERTRAGSNUMMER' spannt auf Satzzeichen: ''400 968 612 176.''\n",
      " - Beispiel 7: Label 'VERTRAGSNUMMER' spannt auf Satzzeichen: ''403 964 781 803.''\n",
      " - Beispiel 8: Label 'VERTRAGSNUMMER' spannt auf Satzzeichen: ''408 503 214 898.''\n",
      " - Beispiel 9: Label 'VERTRAGSNUMMER' spannt auf Satzzeichen: ''405892097952.''\n",
      " - Beispiel 10: Label 'VERTRAGSNUMMER' spannt auf Satzzeichen: ''405 661 758 188.''\n",
      " - Beispiel 11: Label 'VERTRAGSNUMMER' spannt auf Satzzeichen: ''409775425159.''\n",
      " - Beispiel 12: Label 'VERTRAGSNUMMER' spannt auf Satzzeichen: ''407226927516.''\n",
      " - Beispiel 13: Label 'VERTRAGSNUMMER' spannt auf Satzzeichen: ''404 670 322 082.''\n",
      " - Beispiel 14: Label 'VERTRAGSNUMMER' spannt auf Satzzeichen: ''405954699891.''\n",
      " - Beispiel 15: Label 'VERTRAGSNUMMER' spannt auf Satzzeichen: ''408638347130.''\n",
      " - Beispiel 16: Label 'VERTRAGSNUMMER' spannt auf Satzzeichen: ''402182422289.''\n",
      " - Beispiel 17: Label 'VERTRAGSNUMMER' spannt auf Satzzeichen: ''409582514651.''\n",
      " - Beispiel 18: Label 'VERTRAGSNUMMER' spannt auf Satzzeichen: ''408652369063.''\n",
      "Insgesamt 2183 Probleme gefunden.\n"
     ]
    }
   ],
   "execution_count": 2
  },
  {
   "metadata": {
    "ExecuteTime": {
     "end_time": "2025-07-17T19:33:13.670356Z",
     "start_time": "2025-07-17T19:33:10.933008Z"
    }
   },
   "cell_type": "code",
   "source": [
    "import json\n",
    "import spacy\n",
    "from spacy.training import offsets_to_biluo_tags\n",
    "from spacy.lang.de import German\n",
    "from pathlib import Path\n",
    "\n",
    "def validate_alignment(file_path):\n",
    "    nlp = German()\n",
    "    file_path = Path(file_path)\n",
    "\n",
    "    # 1) Überprüfe zuerst, ob die Datei überhaupt existiert\n",
    "    if not file_path.exists():\n",
    "        print(f\"❌ Datei nicht gefunden: {file_path.resolve()}\")\n",
    "        return\n",
    "\n",
    "    with file_path.open(\"r\", encoding=\"utf-8\") as f:\n",
    "        data = json.load(f)\n",
    "\n",
    "    total_files = len(data)\n",
    "    misaligned_files = 0\n",
    "    misaligned_details = []\n",
    "\n",
    "    for entry in data:\n",
    "        text = entry.get(\"text\", \"\")\n",
    "        labels_raw = entry.get(\"labels\", [])\n",
    "        labels = [(l[\"start\"], l[\"end\"], l[\"label\"]) for l in labels_raw]\n",
    "        doc = nlp.make_doc(text)\n",
    "\n",
    "        try:\n",
    "            tags = offsets_to_biluo_tags(doc, labels)\n",
    "        except Exception as e:\n",
    "            # 2) Gib die Exception-Meldung und den komplexen Kontext aus\n",
    "            print(f\"\\n⚠️ Exception in offsets_to_biluo_tags für Datei '{entry.get('file','<kein dateiname>')}'\")\n",
    "            print(\"  Error:\", e)\n",
    "            print(\"  Text-Ausschnitt:\", repr(text[:50]), \"…\")\n",
    "            print(\"  Labels:\", labels)\n",
    "            # optional: springe hier nicht ab, sondern schaue dir das nächste Beispiel an\n",
    "            continue\n",
    "\n",
    "        # 3) Wenn BILUO-Tags ein '-' enthalten, dann ist Alignment futsch\n",
    "        if any(tag == \"-\" for tag in tags):\n",
    "            misaligned_files += 1\n",
    "            details = []\n",
    "            for start, end, label in labels:\n",
    "                span_text = text[start:end].replace(\"\\n\", \"\\\\n\")\n",
    "                details.append(f\"{label}: '{span_text}' @ {start}-{end}\")\n",
    "                # 4) Zusätzlich prüfen, ob doc.char_span überhaupt eine gültige Span erzeugt\n",
    "                span = doc.char_span(start, end, label=label, alignment_mode=\"strict\")\n",
    "                if span is None:\n",
    "                    details.append(f\"   → doc.char_span konnte '{span_text}' nicht finden\")\n",
    "            misaligned_details.append((entry.get(\"file\", \"unknown\"), details))\n",
    "\n",
    "    print(\"\\n🔍 Ergebnis:\")\n",
    "    print(f\"  Insgesamt überprüft: {total_files}\")\n",
    "    print(f\"  Davon mit fehlerhaften Labels: {misaligned_files}\\n\")\n",
    "\n",
    "    # 5) Ausführliche Details ausgeben\n",
    "    for filename, issues in misaligned_details:\n",
    "        print(f\"⚠️ Datei: {filename}\")\n",
    "        for issue in issues:\n",
    "            print(f\"  → {issue}\")\n",
    "        print()\n",
    "\n",
    "# Beispielaufruf\n",
    "validate_alignment(\"synthetic_mails_option_a_cleaned_new.json\")"
   ],
   "id": "1ebc64a0e8777e21",
   "outputs": [
    {
     "name": "stdout",
     "output_type": "stream",
     "text": [
      "\n",
      "🔍 Ergebnis:\n",
      "  Insgesamt überprüft: 13560\n",
      "  Davon mit fehlerhaften Labels: 0\n",
      "\n"
     ]
    }
   ],
   "execution_count": 9
  },
  {
   "cell_type": "code",
   "id": "initial_id",
   "metadata": {
    "collapsed": true,
    "ExecuteTime": {
     "end_time": "2025-07-15T09:46:20.657341Z",
     "start_time": "2025-07-15T09:46:20.646552Z"
    }
   },
   "source": [
    "import json\n",
    "from pathlib import Path\n",
    "\n",
    "\n",
    "def anonymize_file(input_path, output_path):\n",
    "    # Lade die JSON-Datei\n",
    "    with open(input_path, \"r\", encoding=\"utf-8\") as f:\n",
    "        data = json.load(f)\n",
    "\n",
    "    anonymized_entries = []\n",
    "\n",
    "    for entry in data:\n",
    "        text = entry[\"text\"]\n",
    "        # Ersetze Labels von hinten nach vorne – kein Offset nötig!\n",
    "        labels = sorted(entry[\"labels\"], key=lambda l: l[\"start\"], reverse=True)\n",
    "\n",
    "        for label in labels:\n",
    "            start, end = label[\"start\"], label[\"end\"]\n",
    "            placeholder = f\"[{label['label']}]\"\n",
    "            text = text[:start] + placeholder + text[end:]\n",
    "\n",
    "        anonymized_entries.append({\n",
    "            \"file\": entry[\"file\"],\n",
    "            \"anonymized_text\": text\n",
    "        })\n",
    "\n",
    "    # Speichere das Ergebnis als neue JSON-Datei\n",
    "    with open(output_path, \"w\", encoding=\"utf-8\") as f:\n",
    "        json.dump(anonymized_entries, f, ensure_ascii=False, indent=2)\n",
    "\n",
    "    print(f\"✅ Anonymisierte Datei gespeichert unter: {output_path.resolve()}\")\n",
    "\n",
    "# Beispiel: Nutze den tatsächlichen Dateinamen, z. B. \"granu_train.json\"\n",
    "input_file = Path(\"./golden_dataset_norm_cleaned.json\")  # 👉 Passe das an deine hochgeladene Datei an\n",
    "output_file = Path(\"./anonymized_output_cleaned.json\")\n",
    "\n",
    "anonymize_file(input_file, output_file)"
   ],
   "outputs": [
    {
     "name": "stdout",
     "output_type": "stream",
     "text": [
      "✅ Anonymisierte Datei gespeichert unter: /Users/timonmartens/Library/CloudStorage/OneDrive-Persönlich/Desktop/Veranstaltungen/Data Analytics in Applications/daia-eon/data/original/anonymized_output_cleaned.json\n"
     ]
    }
   ],
   "execution_count": 11
  }
 ],
 "metadata": {
  "kernelspec": {
   "display_name": "Python 3",
   "language": "python",
   "name": "python3"
  },
  "language_info": {
   "codemirror_mode": {
    "name": "ipython",
    "version": 2
   },
   "file_extension": ".py",
   "mimetype": "text/x-python",
   "name": "python",
   "nbconvert_exporter": "python",
   "pygments_lexer": "ipython2",
   "version": "2.7.6"
  }
 },
 "nbformat": 4,
 "nbformat_minor": 5
}
