{
 "cells": [
  {
   "metadata": {
    "ExecuteTime": {
     "end_time": "2025-07-15T09:56:30.627724Z",
     "start_time": "2025-07-15T09:56:30.541437Z"
    }
   },
   "cell_type": "code",
   "source": [
    "import json\n",
    "import spacy\n",
    "\n",
    "from spacy.training import offsets_to_biluo_tags\n",
    "from spacy.lang.de import German\n",
    "from pathlib import Path\n",
    "\n",
    "def validate_alignment(file_path):\n",
    "    nlp = German()\n",
    "    file_path = Path(file_path)\n",
    "\n",
    "    with file_path.open(\"r\", encoding=\"utf-8\") as f:\n",
    "        data = json.load(f)\n",
    "\n",
    "    total_files = len(data)\n",
    "    misaligned_files = 0\n",
    "\n",
    "    for entry in data:\n",
    "        text = entry[\"text\"]\n",
    "        labels_raw = entry.get(\"labels\", [])\n",
    "        labels = [(l[\"start\"], l[\"end\"], l[\"label\"]) for l in labels_raw]\n",
    "        doc = nlp.make_doc(text)\n",
    "\n",
    "        try:\n",
    "            tags = offsets_to_biluo_tags(doc, labels)\n",
    "        except Exception as e:\n",
    "            print(f\"❌ Fehler bei Datei '{entry.get('file', 'unknown')}': {e}\")\n",
    "            continue\n",
    "\n",
    "        if \"-\" in tags:\n",
    "            misaligned_files += 1\n",
    "            print(f\"\\n⚠️ Nicht ausrichtbare Labels in Datei: {entry.get('file', 'unknown')}\")\n",
    "            for l in labels:\n",
    "                s, e, t = l\n",
    "                original = text[s:e].replace(\"\\n\", \"\\\\n\")\n",
    "                print(f\"  → {t}: '{original}' @ {s}-{e}\")\n",
    "\n",
    "    print(\"\\n🔍 Ergebnis:\")\n",
    "    print(f\"  Insgesamt überprüft: {total_files}\")\n",
    "    print(f\"  Davon mit fehlerhaften Labels: {misaligned_files}\")\n",
    "\n",
    "# 🔧 Aufruf:\n",
    "validate_alignment(\"golden_dataset_norm_cleaned.json\")"
   ],
   "id": "3d5375a6a55a77ff",
   "outputs": [
    {
     "name": "stdout",
     "output_type": "stream",
     "text": [
      "\n",
      "⚠️ Nicht ausrichtbare Labels in Datei: 35.txt\n",
      "  → VORNAME: 'Gerolf' @ 177-183\n",
      "  → NACHNAME: 'Buchholz' @ 184-192\n",
      "  → FIRMA: 'Wende Stadelmann GmbH' @ 214-235\n",
      "  → STRASSE: 'Carlos-Weiß-Allee 1-3' @ 236-257\n",
      "  → POSTLEITZAHL: 'D-91531' @ 258-265\n",
      "  → WOHNORT: 'Hildburghausen' @ 266-280\n",
      "  → TELEFONNUMMER: '+49+49(0)4549 268653 11' @ 286-309\n",
      "  → LINK: 'www.hgo-gmbh.de' @ 310-325\n",
      "  → VORNAME: 'Gerolf' @ 333-339\n",
      "  → NACHNAME: 'Buchholz' @ 340-348\n",
      "  → FIRMA: 'Amtsgericht Hildburghausen HRB 89781\\nVorstand: Hanspeter Ruppert, Heinfried Fischer\\nAufsichtsratsvorsitzende: Dr. Astrid Köhler' @ 349-476\n",
      "  → LINK: 'hgo-gmbh.de/datenschutz' @ 1293-1316\n",
      "  → LINK: 'hgo-gmbh.de/en/data-privacy-statement' @ 1379-1416\n",
      "\n",
      "⚠️ Nicht ausrichtbare Labels in Datei: 42.txt\n",
      "  → VORNAME: 'Nerger' @ 164-170\n",
      "  → NACHNAME: 'Grauel409291' @ 171-183\n",
      "  → ZÄHLERNUMMER: '55Zählernummer:456123-5007643' @ 184-213\n",
      "\n",
      "⚠️ Nicht ausrichtbare Labels in Datei: 117.txt\n",
      "  → VERTRAGSNUMMER: '402071749' @ 101-110\n",
      "  → VERTRAGSNUMMER: '402071749.' @ 129-139\n",
      "  → VORNAME: 'W.We' @ 177-181\n",
      "  → NACHNAME: 'ßbrot' @ 182-187\n",
      "  → GESENDET_MIT: 'Gesendet von Fliegner Mail auf Andro. id' @ 188-228\n",
      "\n",
      "🔍 Ergebnis:\n",
      "  Insgesamt überprüft: 160\n",
      "  Davon mit fehlerhaften Labels: 3\n"
     ]
    }
   ],
   "execution_count": 19
  },
  {
   "cell_type": "code",
   "id": "initial_id",
   "metadata": {
    "collapsed": true,
    "ExecuteTime": {
     "end_time": "2025-07-15T09:46:20.657341Z",
     "start_time": "2025-07-15T09:46:20.646552Z"
    }
   },
   "source": [
    "import json\n",
    "from pathlib import Path\n",
    "\n",
    "\n",
    "def anonymize_file(input_path, output_path):\n",
    "    # Lade die JSON-Datei\n",
    "    with open(input_path, \"r\", encoding=\"utf-8\") as f:\n",
    "        data = json.load(f)\n",
    "\n",
    "    anonymized_entries = []\n",
    "\n",
    "    for entry in data:\n",
    "        text = entry[\"text\"]\n",
    "        # Ersetze Labels von hinten nach vorne – kein Offset nötig!\n",
    "        labels = sorted(entry[\"labels\"], key=lambda l: l[\"start\"], reverse=True)\n",
    "\n",
    "        for label in labels:\n",
    "            start, end = label[\"start\"], label[\"end\"]\n",
    "            placeholder = f\"[{label['label']}]\"\n",
    "            text = text[:start] + placeholder + text[end:]\n",
    "\n",
    "        anonymized_entries.append({\n",
    "            \"file\": entry[\"file\"],\n",
    "            \"anonymized_text\": text\n",
    "        })\n",
    "\n",
    "    # Speichere das Ergebnis als neue JSON-Datei\n",
    "    with open(output_path, \"w\", encoding=\"utf-8\") as f:\n",
    "        json.dump(anonymized_entries, f, ensure_ascii=False, indent=2)\n",
    "\n",
    "    print(f\"✅ Anonymisierte Datei gespeichert unter: {output_path.resolve()}\")\n",
    "\n",
    "# Beispiel: Nutze den tatsächlichen Dateinamen, z. B. \"granu_train.json\"\n",
    "input_file = Path(\"./golden_dataset_norm_cleaned.json\")  # 👉 Passe das an deine hochgeladene Datei an\n",
    "output_file = Path(\"./anonymized_output_cleaned.json\")\n",
    "\n",
    "anonymize_file(input_file, output_file)"
   ],
   "outputs": [
    {
     "name": "stdout",
     "output_type": "stream",
     "text": [
      "✅ Anonymisierte Datei gespeichert unter: /Users/timonmartens/Library/CloudStorage/OneDrive-Persönlich/Desktop/Veranstaltungen/Data Analytics in Applications/daia-eon/data/original/anonymized_output_cleaned.json\n"
     ]
    }
   ],
   "execution_count": 11
  }
 ],
 "metadata": {
  "kernelspec": {
   "display_name": "Python 3",
   "language": "python",
   "name": "python3"
  },
  "language_info": {
   "codemirror_mode": {
    "name": "ipython",
    "version": 2
   },
   "file_extension": ".py",
   "mimetype": "text/x-python",
   "name": "python",
   "nbconvert_exporter": "python",
   "pygments_lexer": "ipython2",
   "version": "2.7.6"
  }
 },
 "nbformat": 4,
 "nbformat_minor": 5
}
