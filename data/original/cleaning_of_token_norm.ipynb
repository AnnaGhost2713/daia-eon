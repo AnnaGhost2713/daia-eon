{
 "cells": [
  {
   "cell_type": "code",
   "id": "initial_id",
   "metadata": {
    "collapsed": true,
    "ExecuteTime": {
     "end_time": "2025-07-15T09:27:22.072818Z",
     "start_time": "2025-07-15T09:27:19.785364Z"
    }
   },
   "source": [
    "import json\n",
    "import spacy\n",
    "from pathlib import Path\n",
    "\n",
    "# Lade spaCy Modell (oder ersatzweise nlp = spacy.blank(\"de\"))\n",
    "nlp = spacy.load(\"de_core_news_md\")\n",
    "\n",
    "# Eingabe- und Ausgabe-Dateien\n",
    "input_path = Path(\"golden_dataset_with_spans_norm.json\")\n",
    "output_path = Path(\"golden_dataset_norm_cleaned.json\")\n",
    "\n",
    "def clean_labels(entry, nlp):\n",
    "    text = entry[\"text\"]\n",
    "    labels = entry.get(\"labels\", [])\n",
    "    doc = nlp(text)\n",
    "    cleaned_labels = []\n",
    "\n",
    "    for label in labels:\n",
    "        span = doc.char_span(label[\"start\"], label[\"end\"], label=label[\"label\"], alignment_mode=\"expand\")\n",
    "        if span:\n",
    "            cleaned_labels.append({\n",
    "                \"start\": span.start_char,\n",
    "                \"end\": span.end_char,\n",
    "                \"label\": span.label_\n",
    "            })\n",
    "        else:\n",
    "            print(f\"⚠️ Label nicht ausrichtbar in {entry.get('file', '??')}: '{text[label['start']:label['end']]}' @ {label['start']}-{label['end']}\")\n",
    "\n",
    "    return {\n",
    "        \"file\": entry.get(\"file\", \"\"),\n",
    "        \"text\": text,\n",
    "        \"labels\": cleaned_labels\n",
    "    }\n",
    "\n",
    "def process_file(input_path, output_path):\n",
    "    with input_path.open(\"r\", encoding=\"utf-8\") as f:\n",
    "        data = json.load(f)\n",
    "\n",
    "    cleaned_data = [clean_labels(entry, nlp) for entry in data]\n",
    "\n",
    "    with output_path.open(\"w\", encoding=\"utf-8\") as f:\n",
    "        json.dump(cleaned_data, f, ensure_ascii=False, indent=2)\n",
    "\n",
    "    print(f\"\\n✅ Bereinigte Datei gespeichert unter: {output_path.resolve()}\")\n",
    "\n",
    "# Ausführen\n",
    "process_file(input_path, output_path)"
   ],
   "outputs": [
    {
     "name": "stdout",
     "output_type": "stream",
     "text": [
      "\n",
      "✅ Bereinigte Datei gespeichert unter: /Users/timonmartens/Library/CloudStorage/OneDrive-Persönlich/Desktop/Veranstaltungen/Data Analytics in Applications/daia-eon/data/original/golden_dataset_norm_cleaned.json\n"
     ]
    }
   ],
   "execution_count": 4
  }
 ],
 "metadata": {
  "kernelspec": {
   "display_name": "Python 3",
   "language": "python",
   "name": "python3"
  },
  "language_info": {
   "codemirror_mode": {
    "name": "ipython",
    "version": 2
   },
   "file_extension": ".py",
   "mimetype": "text/x-python",
   "name": "python",
   "nbconvert_exporter": "python",
   "pygments_lexer": "ipython2",
   "version": "2.7.6"
  }
 },
 "nbformat": 4,
 "nbformat_minor": 5
}
