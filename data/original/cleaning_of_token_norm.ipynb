{
 "cells": [
  {
   "cell_type": "code",
   "id": "initial_id",
   "metadata": {
    "collapsed": true,
    "ExecuteTime": {
     "end_time": "2025-07-16T12:21:37.892050Z",
     "start_time": "2025-07-16T12:21:34.676778Z"
    }
   },
   "source": [
    "import json\n",
    "import spacy\n",
    "from pathlib import Path\n",
    "\n",
    "# Lade spaCy Modell (oder ersatzweise nlp = spacy.blank(\"de\"))\n",
    "nlp = spacy.load(\"de_core_news_md\")\n",
    "\n",
    "# Eingabe- und Ausgabe-Dateien\n",
    "input_path = Path(\"ground_truth.json\")\n",
    "output_path = Path(\"ground_truth_cleaned.json\")\n",
    "\n",
    "def clean_labels(entry, nlp):\n",
    "    text = entry[\"text\"]\n",
    "    labels = entry.get(\"labels\", [])\n",
    "    doc = nlp(text)\n",
    "    cleaned_labels = []\n",
    "\n",
    "    for label in labels:\n",
    "        span = doc.char_span(label[\"start\"], label[\"end\"], label=label[\"label\"], alignment_mode=\"expand\")\n",
    "        if span:\n",
    "            cleaned_labels.append({\n",
    "                \"start\": span.start_char,\n",
    "                \"end\": span.end_char,\n",
    "                \"label\": span.label_\n",
    "            })\n",
    "        else:\n",
    "            print(f\"⚠️ Label nicht ausrichtbar in {entry.get('file', '??')}: '{text[label['start']:label['end']]}' @ {label['start']}-{label['end']}\")\n",
    "\n",
    "    return {\n",
    "        \"file\": entry.get(\"file\", \"\"),\n",
    "        \"text\": text,\n",
    "        \"labels\": cleaned_labels\n",
    "    }\n",
    "\n",
    "def process_file(input_path, output_path):\n",
    "    with input_path.open(\"r\", encoding=\"utf-8\") as f:\n",
    "        data = json.load(f)\n",
    "\n",
    "    cleaned_data = [clean_labels(entry, nlp) for entry in data]\n",
    "\n",
    "    with output_path.open(\"w\", encoding=\"utf-8\") as f:\n",
    "        json.dump(cleaned_data, f, ensure_ascii=False, indent=2)\n",
    "\n",
    "    print(f\"\\n✅ Bereinigte Datei gespeichert unter: {output_path.resolve()}\")\n",
    "\n",
    "# Ausführen\n",
    "process_file(input_path, output_path)"
   ],
   "outputs": [
    {
     "name": "stdout",
     "output_type": "stream",
     "text": [
      "\n",
      "✅ Bereinigte Datei gespeichert unter: /Users/timonmartens/Library/CloudStorage/OneDrive-Persönlich/Desktop/Veranstaltungen/Data Analytics in Applications/daia-eon/data/original/ground_truth_cleaned.json\n"
     ]
    }
   ],
   "execution_count": 1
  },
  {
   "metadata": {
    "ExecuteTime": {
     "end_time": "2025-07-16T12:37:03.823453Z",
     "start_time": "2025-07-16T12:37:01.550952Z"
    }
   },
   "cell_type": "code",
   "source": [
    "import json\n",
    "import spacy\n",
    "from pathlib import Path\n",
    "\n",
    "# Lade spaCy Modell\n",
    "nlp = spacy.load(\"de_core_news_md\")\n",
    "\n",
    "# Pfade\n",
    "input_path = Path(\"ground_truth.json\")\n",
    "output_path = Path(\"ground_truth_cleaned.json\")\n",
    "\n",
    "def clean_labels(entry, nlp):\n",
    "    text = entry[\"text\"]\n",
    "    labels = entry.get(\"labels\", [])\n",
    "    doc = nlp(text)\n",
    "    cleaned_labels = []\n",
    "\n",
    "    for label in labels:\n",
    "        start, end, label_name = label[\"start\"], label[\"end\"], label[\"label\"]\n",
    "        span_exact = doc.char_span(start, end, label=label_name, alignment_mode=\"strict\")\n",
    "        span_expand = doc.char_span(start, end, label=label_name, alignment_mode=\"expand\")\n",
    "\n",
    "        if span_exact:\n",
    "            # Exakt zuweisbar\n",
    "            cleaned_labels.append({\n",
    "                \"start\": span_exact.start_char,\n",
    "                \"end\": span_exact.end_char,\n",
    "                \"label\": span_exact.label_\n",
    "            })\n",
    "        elif span_expand:\n",
    "            # Zeige was expand erfassen würde\n",
    "            print(f\"🔍 Nicht exakt ausrichtbar ({entry.get('file', '??')}): '{text[start:end]}' @ {start}-{end}\")\n",
    "            print(f\"➡️  Würde erweitert auf: '{span_expand.text}' @ {span_expand.start_char}-{span_expand.end_char}\")\n",
    "            print(f\"    Tokens: {[t.text for t in span_expand]}\")\n",
    "            print(\"    ❓ Akzeptieren oder anpassen?\\n\")\n",
    "\n",
    "            # Du kannst hier entscheiden, ob du trotzdem übernehmen willst\n",
    "            # Zum Beispiel temporär automatisch übernehmen:\n",
    "            cleaned_labels.append({\n",
    "                \"start\": span_expand.start_char,\n",
    "                \"end\": span_expand.end_char,\n",
    "                \"label\": span_expand.label_\n",
    "            })\n",
    "        else:\n",
    "            print(f\"⚠️ Gar nicht zuweisbar ({entry.get('file', '??')}): '{text[start:end]}' @ {start}-{end}\")\n",
    "\n",
    "    return {\n",
    "        \"file\": entry.get(\"file\", \"\"),\n",
    "        \"text\": text,\n",
    "        \"labels\": cleaned_labels\n",
    "    }\n",
    "\n",
    "def process_file(input_path, output_path):\n",
    "    with input_path.open(\"r\", encoding=\"utf-8\") as f:\n",
    "        data = json.load(f)\n",
    "\n",
    "    cleaned_data = [clean_labels(entry, nlp) for entry in data]\n",
    "\n",
    "    with output_path.open(\"w\", encoding=\"utf-8\") as f:\n",
    "        json.dump(cleaned_data, f, ensure_ascii=False, indent=2)\n",
    "\n",
    "    print(f\"\\n✅ Bereinigte Datei gespeichert unter: {output_path.resolve()}\")\n",
    "\n",
    "# Start\n",
    "process_file(input_path, output_path)"
   ],
   "id": "ecb8cd1dbef6d37c",
   "outputs": [
    {
     "name": "stdout",
     "output_type": "stream",
     "text": [
      "🔍 Nicht exakt ausrichtbar (2.txt): '148' @ 202-205\n",
      "➡️  Würde erweitert auf: 'von148' @ 199-205\n",
      "    Tokens: ['von148']\n",
      "    ❓ Akzeptieren oder anpassen?\n",
      "\n",
      "\n",
      "✅ Bereinigte Datei gespeichert unter: /Users/timonmartens/Library/CloudStorage/OneDrive-Persönlich/Desktop/Veranstaltungen/Data Analytics in Applications/daia-eon/data/original/ground_truth_cleaned.json\n"
     ]
    }
   ],
   "execution_count": 3
  }
 ],
 "metadata": {
  "kernelspec": {
   "display_name": "Python 3",
   "language": "python",
   "name": "python3"
  },
  "language_info": {
   "codemirror_mode": {
    "name": "ipython",
    "version": 2
   },
   "file_extension": ".py",
   "mimetype": "text/x-python",
   "name": "python",
   "nbconvert_exporter": "python",
   "pygments_lexer": "ipython2",
   "version": "2.7.6"
  }
 },
 "nbformat": 4,
 "nbformat_minor": 5
}
