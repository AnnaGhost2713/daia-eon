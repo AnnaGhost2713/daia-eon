{
 "cells": [
  {
   "metadata": {},
   "cell_type": "raw",
   "source": [
    "# E-Mail Anonymizer\n",
    "Dieses Notebook lädt eine unsere Excel-Datei DAiA Manual Labeling.xlsx und golden_dataset_original und ersetzt die PII durch unsere ausgewhälten Platzhalter. Die anonymisierten E-Mails werden dann in data/golden_dataset_original gespeichert."
   ],
   "id": "7f560c93ab007b66"
  },
  {
   "cell_type": "code",
   "id": "d105ac13",
   "metadata": {
    "ExecuteTime": {
     "end_time": "2025-06-12T15:28:22.994739Z",
     "start_time": "2025-06-12T15:28:22.985487Z"
    }
   },
   "source": [
    "\n",
    "\n",
    "import os\n",
    "import re\n",
    "import pandas as pd\n",
    "from pathlib import Path\n",
    "\n",
    "# Mapping von Original-Spaltenkategorien auf eure neuen Gruppierungen\n",
    "GROUPED_PLACEHOLDERS = {\n",
    "    \"NAME\": [\"VORNAME\", \"NACHNAME\", \"SKYPE\"],\n",
    "    \"ADRESSE\": [\"STRASSE\", \"HAUSNUMMER\", \"POSTLEITZAHL\", \"WOHNORT\"],\n",
    "    \"VERTRAG\": [\"VERTRAGSNUMMER\", \"KUNDENNUMMER\", \"ZUORDNUNGSNUMMER\"],\n",
    "    \"ZAHLUNG\": [\"ZAHLUNG\", \"IBAN\", \"BIC\"],\n",
    "    \"TECHNISCHE_DATEN\": [\"ZÄHLERSTAND\", \"ZÄHLERNUMMER\", \"VERBRAUCH\", \"WLV\"],\n",
    "    \"KONTAKT\": [\"TELEFONNUMMER\", \"EMAIL\", \"MAIL\", \"LINK\", \"GESENDET_MIT\", \"FIRMENDATEN\", \"FAX\"],\n",
    "    \"FIRMA\": [\"FIRMA\"],\n",
    "    \"DATUM\": [\"DATUM\"]\n",
    "}\n",
    "\n",
    "# Funktion zur Ermittlung des richtigen Platzhalters basierend auf Spaltennamen\n",
    "def map_column_to_placeholder(col_name):\n",
    "    upper_col = col_name.upper()\n",
    "    for placeholder, keywords in GROUPED_PLACEHOLDERS.items():\n",
    "        for keyword in keywords:\n",
    "            if keyword in upper_col:\n",
    "                return f\"<{placeholder}>\"\n",
    "    return None  # Ignoriere Spalten, die nicht gemappt werden sollen\n",
    "\n",
    "# Funktion zur Extraktion der zu ersetzenden Werte aus einer Zeile\n",
    "def extract_replacements(row):\n",
    "    replacements = []\n",
    "    for col in row.index:\n",
    "        if pd.isna(row[col]):\n",
    "            continue\n",
    "        placeholder = map_column_to_placeholder(col)\n",
    "        if placeholder:\n",
    "            value = str(row[col]).strip()\n",
    "            if value:\n",
    "                replacements.append((re.escape(value), placeholder))\n",
    "    return replacements\n",
    "\n",
    "# Hauptfunktion zur Anonymisierung\n",
    "def generate_anonymization_script(df, email_folder_path, output_folder_path):\n",
    "    Path(output_folder_path).mkdir(parents=True, exist_ok=True)\n",
    "\n",
    "    for index, row in df.iterrows():\n",
    "        file_name = row[\"TextFile\"]\n",
    "        email_path = os.path.join(email_folder_path, file_name)\n",
    "\n",
    "        try:\n",
    "            with open(email_path, \"r\", encoding=\"utf-8\") as file:\n",
    "                email_text = file.read()\n",
    "        except FileNotFoundError:\n",
    "            print(f\"Datei nicht gefunden: {file_name}\")\n",
    "            continue\n",
    "\n",
    "        replacements = extract_replacements(row)\n",
    "        replacements.sort(key=lambda x: len(x[0]), reverse=True)\n",
    "\n",
    "        for pattern, placeholder in replacements:\n",
    "            email_text = re.sub(pattern, placeholder, email_text, flags=re.IGNORECASE)\n",
    "\n",
    "        output_path = os.path.join(output_folder_path, f\"{file_name}\")\n",
    "        with open(output_path, \"w\", encoding=\"utf-8\") as out_file:\n",
    "            out_file.write(email_text)\n",
    "\n",
    "    return f\"Anonymisierte E-Mails gespeichert in: {output_folder_path}\"\n"
   ],
   "outputs": [],
   "execution_count": 2
  },
  {
   "cell_type": "markdown",
   "id": "2b2f66e2",
   "metadata": {},
   "source": [
    "## 📥 Beispielnutzung"
   ]
  },
  {
   "cell_type": "code",
   "id": "fd632a9d",
   "metadata": {
    "ExecuteTime": {
     "end_time": "2025-06-12T15:30:14.070338Z",
     "start_time": "2025-06-12T15:30:13.951473Z"
    }
   },
   "source": [
    "# Beispielhafte Anwendung (bitte anpassen)\n",
    "df = pd.read_excel(\"../data/DAiA Manual Labeling.xlsx\")\n",
    "result = generate_anonymization_script(df, \"../data/golden_dataset_original\", \".../data/golden_dataset_anonymized_zusammengefasst\")\n",
    "print(result)\n"
   ],
   "outputs": [
    {
     "name": "stdout",
     "output_type": "stream",
     "text": [
      "Anonymisierte E-Mails gespeichert in: .../data/golden_dataset_anonymized_zusammengefasst\n"
     ]
    }
   ],
   "execution_count": 4
  }
 ],
 "metadata": {
  "kernelspec": {
   "name": "python3",
   "language": "python",
   "display_name": "Python 3 (ipykernel)"
  }
 },
 "nbformat": 4,
 "nbformat_minor": 5
}
