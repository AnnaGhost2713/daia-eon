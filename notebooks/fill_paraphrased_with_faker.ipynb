{
  "cells": [
    {
      "cell_type": "code",
      "source": [
        "!git clone https://github.com/AnnaGhost2713/daia-eon.git\n",
        "%cd daia-eon/notebooks"
      ],
      "metadata": {
        "id": "GQA6Lu53OP5f",
        "outputId": "bb6d587b-3a16-42e9-d434-4409dc5a1ec0",
        "colab": {
          "base_uri": "https://localhost:8080/"
        }
      },
      "id": "GQA6Lu53OP5f",
      "execution_count": 7,
      "outputs": [
        {
          "output_type": "stream",
          "name": "stdout",
          "text": [
            "Cloning into 'daia-eon'...\n",
            "remote: Enumerating objects: 819, done.\u001b[K\n",
            "remote: Counting objects: 100% (819/819), done.\u001b[K\n",
            "remote: Compressing objects: 100% (603/603), done.\u001b[K\n",
            "remote: Total 819 (delta 424), reused 576 (delta 208), pack-reused 0 (from 0)\u001b[K\n",
            "Receiving objects: 100% (819/819), 1.07 MiB | 12.54 MiB/s, done.\n",
            "Resolving deltas: 100% (424/424), done.\n",
            "/content/daia-eon/notebooks\n"
          ]
        }
      ]
    },
    {
      "cell_type": "code",
      "source": [
        "!pip install faker\n",
        "from faker import Faker\n",
        "from faker.providers import bank, internet, misc, date_time\n",
        "import random, re, json, itertools\n",
        "import string, random\n",
        "\n",
        "# ---------- 1.  Faker setup ----------\n",
        "fake = Faker(\"de_DE\")          # German locale => names, streets, phone, PLZ …\n",
        "fake.add_provider(bank)        # iban(), swift_ascii()\n",
        "fake.add_provider(internet)    # email(), uri()\n",
        "fake.add_provider(misc)\n",
        "fake.add_provider(date_time)\n",
        "\n",
        "random.seed()                  # remove or pass a seed for reproducibility\n"
      ],
      "metadata": {
        "colab": {
          "base_uri": "https://localhost:8080/"
        },
        "id": "yVkiRr9ZD9Wu",
        "outputId": "5fba65f0-4715-4f5c-da9a-d4ebd0a61142"
      },
      "id": "yVkiRr9ZD9Wu",
      "execution_count": 9,
      "outputs": [
        {
          "output_type": "stream",
          "name": "stdout",
          "text": [
            "Collecting faker\n",
            "  Downloading faker-37.4.0-py3-none-any.whl.metadata (15 kB)\n",
            "Requirement already satisfied: tzdata in /usr/local/lib/python3.11/dist-packages (from faker) (2025.2)\n",
            "Downloading faker-37.4.0-py3-none-any.whl (1.9 MB)\n",
            "\u001b[2K   \u001b[90m━━━━━━━━━━━━━━━━━━━━━━━━━━━━━━━━━━━━━━━━\u001b[0m \u001b[32m1.9/1.9 MB\u001b[0m \u001b[31m20.2 MB/s\u001b[0m eta \u001b[36m0:00:00\u001b[0m\n",
            "\u001b[?25hInstalling collected packages: faker\n",
            "Successfully installed faker-37.4.0\n"
          ]
        }
      ]
    },
    {
      "cell_type": "code",
      "source": [
        "\n",
        "### HOUSENUMBER ###\n",
        "\n",
        "def german_house_number():\n",
        "    num = random.randint(1, 2000)          # 1 … 2000\n",
        "    if random.random() < 0.50:             # 50 % will *not* carry a letter\n",
        "        return str(num)\n",
        "\n",
        "    # choose letter case\n",
        "    letter = random.choice(string.ascii_lowercase + string.ascii_uppercase)\n",
        "\n",
        "    # 50 % chance of a space between number and letter\n",
        "    sep = \" \" if random.random() < 0.50 else \"\"\n",
        "\n",
        "    return f\"{num}{sep}{letter}\""
      ],
      "metadata": {
        "id": "FO3BJjO0ECIR"
      },
      "id": "FO3BJjO0ECIR",
      "execution_count": 10,
      "outputs": []
    },
    {
      "cell_type": "code",
      "source": [
        "### ZAEHLERNUMMER ###\n",
        "\n",
        "# --- helper: optionally sprinkle spaces into a sequence -----------\n",
        "def insert_random_spaces(seq: str, prob: float = 0.4) -> str:\n",
        "    \"\"\"\n",
        "    With probability *prob* return the sequence with random\n",
        "    spaces (groups of 1–4 chars).  Otherwise return seq unchanged.\n",
        "    \"\"\"\n",
        "    if random.random() > prob:\n",
        "        return seq\n",
        "    out, i = [], 0\n",
        "    while i < len(seq):\n",
        "        grp_len = random.randint(1, 4)\n",
        "        out.append(seq[i: i + grp_len])\n",
        "        i += grp_len\n",
        "    return \" \".join(out)\n",
        "\n",
        "# --- main generator ----------------------------------------------\n",
        "def zaehlernummer() -> str:\n",
        "    \"\"\"\n",
        "    Pattern mix (weights: 0.4 / 0.3 / 0.3):\n",
        "      1)  Alphanumeric – digit + 2-4 letters + 7-12 digits  (e.g. 1GMT00984726553)\n",
        "      2)  Pure digits, 5-12 chars                           (e.g. 486498046387)\n",
        "      3)  Digits (5-8) + hyphen + 4-digit year              (e.g. 63746253-1992)\n",
        "    Each may contain random internal spaces.\n",
        "    \"\"\"\n",
        "    r = random.random()\n",
        "\n",
        "    if r < 0.4:                                 # --- variant 1\n",
        "        prefix  = str(random.randint(1, 9))\n",
        "        letters = ''.join(random.choices(string.ascii_uppercase,\n",
        "                                         k=random.randint(2, 4)))\n",
        "        digits  = ''.join(random.choices(string.digits,\n",
        "                                         k=random.randint(7, 12)))\n",
        "        core = prefix + letters + digits\n",
        "        return insert_random_spaces(core)\n",
        "\n",
        "    elif r < 0.7:                               # --- variant 2\n",
        "        digits = ''.join(random.choices(string.digits,\n",
        "                                        k=random.randint(5, 12)))\n",
        "        return insert_random_spaces(digits)\n",
        "\n",
        "    else:                                       # --- variant 3\n",
        "        left  = ''.join(random.choices(string.digits,\n",
        "                                       k=random.randint(5, 8)))\n",
        "        year  = str(random.randint(1900, 2099))\n",
        "        core  = f\"{left}-{year}\"\n",
        "        return insert_random_spaces(core, prob=0.25)  # fewer spaces here\n",
        "\n"
      ],
      "metadata": {
        "id": "GU2cFnwuEEXe"
      },
      "id": "GU2cFnwuEEXe",
      "execution_count": 11,
      "outputs": []
    },
    {
      "cell_type": "code",
      "source": [
        "### VERTRAGSNUMMER ###\n",
        "\n",
        "def vertragsnummer():\n",
        "    a = str(random.randint(400, 409))\n",
        "    b = str(random.randint(100_000_000, 999_999_999))\n",
        "    if random.random() < 0.35:\n",
        "        # join characters of b into 3-char groups with spaces\n",
        "        b_spaced = \" \".join(re.findall(\"...\", b))\n",
        "        return f\"{a} {b_spaced}\"                # ← SINGLE string\n",
        "    return a + b"
      ],
      "metadata": {
        "id": "1qsFW9zzEKe5"
      },
      "id": "1qsFW9zzEKe5",
      "execution_count": 25,
      "outputs": []
    },
    {
      "cell_type": "code",
      "source": [
        "### ZÄHLERSTAND ###\n",
        "\n",
        "# --- pre-compute all 8 case combinations of \"kwh\" -----------------\n",
        "_KWH_VARIANTS = [''.join(p) for p in itertools.product(\n",
        "    ('k', 'K'), ('w', 'W'), ('h', 'H')\n",
        ")]\n",
        "# -> ['kwh', 'kwH', 'kWh', 'kWH', 'Kwh', 'KwH', 'KWh', 'KWH']\n",
        "\n",
        "def zaehlstand() -> str:\n",
        "    \"\"\"\n",
        "    Returns a realistic German meter reading, e.g.\n",
        "      1234567\n",
        "      1.234 kWh\n",
        "      7.890.123,45 KW H\n",
        "      987,6kWh\n",
        "    \"\"\"\n",
        "    # -------- 1.  integer part (1 … 9 999 999) -------------------\n",
        "    value = random.randint(1, 9_999_999)\n",
        "\n",
        "    # optional thousands dots\n",
        "    if value >= 1000 and random.random() < 0.35:\n",
        "        int_part = f\"{value:,}\".replace(\",\", \".\")    # 1.234.567\n",
        "    else:\n",
        "        int_part = str(value)\n",
        "\n",
        "    # -------- 2.  decimal part (0–2 digits, comma) ---------------\n",
        "    if random.random() < 0.5:                        # 50 % with decimals\n",
        "        dec_len = random.choice([1, 2])\n",
        "        decimals = f\",{random.randint(0, 10**dec_len - 1):0{dec_len}d}\"\n",
        "    else:\n",
        "        decimals = \"\"\n",
        "\n",
        "    # -------- 3.  unit (kWh variants or nothing) -----------------\n",
        "    if random.random() < 0.65:                       # 65 % show unit\n",
        "        unit = random.choice(_KWH_VARIANTS)\n",
        "        spacer = \" \" if random.random() < 0.5 else \"\"  # optional space\n",
        "        suffix = f\"{spacer}{unit}\"\n",
        "    else:\n",
        "        suffix = \"\"\n",
        "\n",
        "    return f\"{int_part}{decimals}{suffix}\"\n"
      ],
      "metadata": {
        "id": "NJLkOTV0EOdm"
      },
      "id": "NJLkOTV0EOdm",
      "execution_count": 13,
      "outputs": []
    },
    {
      "cell_type": "code",
      "source": [
        "### ZAHLUNG ###\n",
        "import random, string\n",
        "\n",
        "# ── all common Euro tokens, upper-/lower-case variants ───────────\n",
        "_EURO_TOKENS = [\"€\", \" EUR\", \"EUR\", \" Euro\", \"Euro\", \" EURO\",\n",
        "                \" eur\", \"eur\", \"EURO\"]\n",
        "\n",
        "def zahlung() -> str:\n",
        "    \"\"\"\n",
        "    Builds a German-style payment amount such as\n",
        "      512,30€\n",
        "      € 9.800\n",
        "      12.345,6 Euro\n",
        "      EUR 1.234,56\n",
        "      7400\n",
        "    \"\"\"\n",
        "    # 1.  choose magnitude 10 … 50 000  (tweak upper bound as needed)\n",
        "    amount = random.uniform(10, 50_000)\n",
        "\n",
        "    # 2.  integer / decimal decision\n",
        "    decimals = random.choices([0, 1, 2], weights=[0.4, 0.3, 0.3])[0]\n",
        "    fmt = f\"{{:,.{decimals}f}}\".format(amount).replace(\",\", \"X\").replace(\".\", \",\").replace(\"X\", \".\")\n",
        "    # German format → thousands '.'  decimal ','\n",
        "\n",
        "    # strip trailing \",0\" or \",00\" if decimals==0\n",
        "    if decimals == 0:\n",
        "        fmt = fmt.split(\",\")[0]\n",
        "\n",
        "    # 3.  euro token (or none) and position\n",
        "    token = random.choice(_EURO_TOKENS + [\"\"])        # ~10 % chance of empty\n",
        "    before = random.random() < 0.25 and token         # 25 % “€ 123”\n",
        "    after  = not before and token                     # otherwise after / none\n",
        "\n",
        "    # optional spaces around token\n",
        "    space = \" \" if random.random() < 0.6 else \"\"      # 60 % get a space\n",
        "    if before:\n",
        "        return f\"{token}{space}{fmt}\"\n",
        "    elif after:\n",
        "        return f\"{fmt}{space}{token.lstrip()}\"        # keep trailing space logic\n",
        "    else:\n",
        "        return fmt"
      ],
      "metadata": {
        "id": "AKFZPWgHEYPZ"
      },
      "id": "AKFZPWgHEYPZ",
      "execution_count": 14,
      "outputs": []
    },
    {
      "cell_type": "code",
      "source": [
        "### IBAN ###\n",
        "def iban_de():\n",
        "    bban = fake.bban()                     # 18-digit basic bank account no.\n",
        "    return \"DE\" + bban"
      ],
      "metadata": {
        "id": "HnaxIPukVBPZ"
      },
      "id": "HnaxIPukVBPZ",
      "execution_count": 36,
      "outputs": []
    },
    {
      "cell_type": "code",
      "source": [
        "### BIC ###\n",
        "\n",
        "def bic():\n",
        "    # Use faker's swift_ascii() (length 8 or 11) but force country DE\n",
        "    base = fake.swift_ascii()\n",
        "    return base if base[4:6] == \"DE\" else \"DEUTDEFFXXX\""
      ],
      "metadata": {
        "id": "4c75OPunEtoG"
      },
      "id": "4c75OPunEtoG",
      "execution_count": 15,
      "outputs": []
    },
    {
      "cell_type": "code",
      "source": [
        "### GESENDET MIT ###\n",
        "\n",
        "# ── building blocks ───────────────────────────────────────────────\n",
        "PREFIXES_DE = [\n",
        "    \"Gesendet von meinem\", \"Von meinem\", \"Mit meinem\",\n",
        "    \"Gesendet mit meinem\", \"Gesendet mit der\", \"Mit der\"\n",
        "]\n",
        "PREFIXES_EN = [\"Sent from my\", \"Sent using my\"]\n",
        "\n",
        "DEVICES = [\n",
        "    \"iPhone\", \"iPad\", \"MacBook Pro\", \"Samsung Galaxy S23\",\n",
        "    \"Samsung Galaxy\", \"Google Pixel 8\", \"Fairphone 5\",\n",
        "    \"Huawei P30\", \"Xiaomi Redmi Note 12\", \"Surface Pro 9\",\n",
        "    \"Lenovo ThinkPad\", \"OnePlus 12\", \"Nokia 8.3\",\n",
        "    \"BlackBerry Key2\", \"Galaxy Tab S9\", \"Steam Deck\"\n",
        "]\n",
        "\n",
        "MAIL_APPS = [\n",
        "    \"Mail App\", \"Outlook\", \"Gmail\", \"GMX Mail\", \"web.de Mail\",\n",
        "    \"Yahoo Mail\", \"Thunderbird\", \"Apple Mail\", \"BlueMail\",\n",
        "    \"Telekom Mail\", \"Proton Mail\", \"Posteo\", \"Tutanota\"\n",
        "]\n",
        "\n",
        "QUALIFIERS = [\"\", \" für Android\", \" für iOS\", \" for Android\", \" for iOS\", \" Desktop\"]\n",
        "\n",
        "# ── generator ─────────────────────────────────────────────────────\n",
        "def gesendet_mit() -> str:\n",
        "    \"\"\"Return a varied German/English mobile mail footer.\"\"\"\n",
        "    # Choose language flavour (30 % English, 70 % German)\n",
        "    if random.random() < 0.30:\n",
        "        prefix = random.choice(PREFIXES_EN)\n",
        "        device = random.choice(DEVICES)\n",
        "        # ~50 % add app + qualifier\n",
        "        if random.random() < 0.5:\n",
        "            app = random.choice(MAIL_APPS)\n",
        "            qual = random.choice(QUALIFIERS).strip()\n",
        "            return f\"{prefix} {device} using {app}{(' ' + qual) if qual else ''}\".strip()\n",
        "        return f\"{prefix} {device}\"\n",
        "\n",
        "    # German variant\n",
        "    prefix = random.choice(PREFIXES_DE)\n",
        "    device = random.choice(DEVICES)\n",
        "    # ~65 % add “mit <App> <Qualifier>”\n",
        "    if random.random() < 0.65:\n",
        "        app = random.choice(MAIL_APPS)\n",
        "        qual = random.choice(QUALIFIERS).strip()\n",
        "        suffix = f\" {app}{(' ' + qual) if qual else ''}\"\n",
        "    else:\n",
        "        suffix = \"\"\n",
        "    return f\"{prefix} {device}{suffix}\".strip()\n"
      ],
      "metadata": {
        "id": "A-Rp2zgNE_W9"
      },
      "id": "A-Rp2zgNE_W9",
      "execution_count": 16,
      "outputs": []
    },
    {
      "cell_type": "code",
      "source": [
        "### BANK ###\n",
        "!pip install schwifty\n",
        "\n",
        "from schwifty import registry\n",
        "import random\n",
        "\n",
        "# 👉 returns a list - not a dict\n",
        "bank_entries = registry.get(\"bank\")           # [{'bank_code': '10000000', 'name': 'Bundesbank', ...}, …]\n",
        "\n",
        "# pick only German institutes and de-duplicate\n",
        "banks_de = list({e[\"name\"] for e in bank_entries if e.get(\"country_code\") == \"DE\"})\n",
        "\n",
        "def german_bank() -> str:\n",
        "    return random.choice(banks_de)"
      ],
      "metadata": {
        "id": "TFJGgw5kFH4I"
      },
      "id": "TFJGgw5kFH4I",
      "execution_count": 18,
      "outputs": []
    },
    {
      "cell_type": "code",
      "source": [
        "# ---------- 3.  Placeholder → generator map ----------\n",
        "from typing import Dict, Callable   # ← add this import\n",
        "\n",
        "GEN: Dict[str, Callable[[], str]] = {\n",
        "    \"TITEL\"         : lambda: fake.prefix().rstrip(\".\"),\n",
        "    \"VORNAME\"       : fake.first_name,\n",
        "    \"NACHNAME\"      : fake.last_name,\n",
        "    \"FIRMA\"         : fake.company,\n",
        "    \"TELEFONNUMMER\" : fake.phone_number,\n",
        "    \"EMAIL\"         : fake.email,\n",
        "    \"FAX\"           : fake.phone_number,\n",
        "    \"STRASSE\"       : fake.street_name,\n",
        "    \"HAUSNUMMER\"    : german_house_number,\n",
        "    \"POSTLEITZAHL\"  : fake.postcode,\n",
        "    \"WOHNORT\"       : fake.city,\n",
        "    \"ZÄHLERNUMMER\"  : zaehlernummer,\n",
        "    \"ZÄHLERSTAND\"   : zaehlstand,\n",
        "    \"VERTRAGSNUMMER\": vertragsnummer,\n",
        "    \"ZAHLUNG\"       : zahlung,\n",
        "    \"BANK\"          : german_bank,\n",
        "    \"IBAN\"          : iban_de,\n",
        "    \"BIC\"           : bic,\n",
        "    \"DATUM\"         : lambda: fake.date(pattern=\"%d.%m.%Y\"),\n",
        "    \"GESENDET_MIT\"  : gesendet_mit,\n",
        "    \"LINK\"          : fake.uri,\n",
        "}"
      ],
      "metadata": {
        "id": "g418d_hTLDK5"
      },
      "id": "g418d_hTLDK5",
      "execution_count": 37,
      "outputs": []
    },
    {
      "cell_type": "code",
      "source": [
        "# ────────────────────────────────────────────────────────────────────\n",
        "# 4.  Placeholder substitution helper\n",
        "# ────────────────────────────────────────────────────────────────────\n",
        "_alias_to_key = {\n",
        "    alias: key\n",
        "    for key, aliases in {\n",
        "        \"TITEL\":[\"TITEL\"], \"VORNAME\":[\"VORNAME\"], \"NACHNAME\":[\"NACHNAME\"],\n",
        "        \"FIRMA\":[\"FIRMA\"], \"TELEFONNUMMER\":[\"TELEFONNUMMER\"], \"EMAIL\":[\"EMAIL\"],\n",
        "        \"FAX\":[\"FAX\"], \"STRASSE\":[\"STRASSE\"], \"HAUSNUMMER\":[\"HAUSNUMMER\"],\n",
        "        \"POSTLEITZAHL\":[\"POSTLEITZAHL\",\"PLZ\",\"ZIP\"],\n",
        "        \"WOHNORT\":[\"WOHNORT\",\"ORT\",\"CITY\"],\n",
        "        \"ZÄHLERNUMMER\":[\"ZÄHLERNUMMER\",\"METER_ID\"],\n",
        "        \"ZÄHLERSTAND\":[\"ZÄHLERSTAND\",\"METER_READING\"],\n",
        "        \"VERTRAGSNUMMER\":[\"VERTRAGSNUMMER\",\"ANGEBOTSNUMMER\",\"KUNDENNUMMER\"],\n",
        "        \"ZAHLUNG\":[\"BETRAG\",\"ZAHLUNG\",\"AMOUNT\"],\n",
        "        \"BANK\":[\"BANK\"], \"IBAN\":[\"IBAN\"], \"BIC\":[\"BIC\"],\n",
        "        \"DATUM\":[\"DATUM\",\"DATE\"], \"GESENDET_MIT\":[\"GESENDET_MIT\"], \"LINK\":[\"LINK\"],\n",
        "    }.items() for alias in aliases\n",
        "}\n",
        "_pattern = re.compile(r\"<<\\s*([A-Z_]+)\\s*>>\")\n",
        "\n",
        "def substitute_placeholders(text: str) -> str:\n",
        "    def repl(match):\n",
        "        alias = match.group(1)\n",
        "        key   = _alias_to_key.get(alias)\n",
        "        return GEN[key]() if key in GEN else match.group(0)\n",
        "    return _pattern.sub(repl, text)"
      ],
      "metadata": {
        "id": "KLFEmzlcNn8Q"
      },
      "id": "KLFEmzlcNn8Q",
      "execution_count": 39,
      "outputs": []
    },
    {
      "cell_type": "code",
      "source": [
        "# Test if it works\n",
        "with open(\"data/option_a_paraphrases.json\", encoding=\"utf-8\") as fh:\n",
        "    data = json.load(fh)\n",
        "\n",
        "first = data[0]\n",
        "out   = [[substitute_placeholders(tpl) for _ in range(3)]\n",
        "         for tpl in first[\"variants\"]]\n",
        "\n",
        "print(json.dumps(out, ensure_ascii=False, indent=2))\n"
      ],
      "metadata": {
        "colab": {
          "base_uri": "https://localhost:8080/"
        },
        "id": "bL45Is2ECJNU",
        "outputId": "28bd3246-800b-44bd-d648-c92951ae34ec"
      },
      "id": "bL45Is2ECJNU",
      "execution_count": 40,
      "outputs": [
        {
          "output_type": "stream",
          "name": "stdout",
          "text": [
            "[\n",
            "  [\n",
            "    \"Hallo liebes Eon Team, es geht um die Vertragsnummer 400 101 406 305. Bei der Errichtung meines neuen Vertrages wurde leider die Banküberweisung von dem jungen Kollegen an der Wohnungstür als Zahlungsmittel gewählt. Ich möchte, dass es wieder per Lastschrift belastet wird, um den Stress zu vermeiden. Das Konsumbüro ist immer noch die Guenther-Hövel-Gasse 1804 E in 45635 Uffenheim. Gruß Lars Wagenknecht\",\n",
            "    \"Hallo liebes Eon Team, es geht um die Vertragsnummer 406691017632. Bei der Errichtung meines neuen Vertrages wurde leider die Banküberweisung von dem jungen Kollegen an der Wohnungstür als Zahlungsmittel gewählt. Ich möchte, dass es wieder per Lastschrift belastet wird, um den Stress zu vermeiden. Das Konsumbüro ist immer noch die Nelli-Gieß-Ring 1698 in 83159 Scheinfeld. Gruß Miguel Löwer\",\n",
            "    \"Hallo liebes Eon Team, es geht um die Vertragsnummer 402646830823. Bei der Errichtung meines neuen Vertrages wurde leider die Banküberweisung von dem jungen Kollegen an der Wohnungstür als Zahlungsmittel gewählt. Ich möchte, dass es wieder per Lastschrift belastet wird, um den Stress zu vermeiden. Das Konsumbüro ist immer noch die Stadelmanngasse 430S in 66404 Wurzen. Gruß Justus Striebitz\"\n",
            "  ],\n",
            "  [\n",
            "    \"Hallo liebes Eon-Team, dies ist die Vertragsnummer 400461813091. Als ich meinen neuen Vertrag einrichtete, wurde leider die Banküberweisung als Zahlungsmittel vom jungen Kollegen an der Tür der Wohnung gewählt. Ich möchte, dass sie wieder per Lastschrift belastet wird, um Spannungen zu vermeiden. Das Verbraucherbüro ist immer noch das Ritterweg 426 in 42327 Illertissen. Gruß Kerstin Weinhage\",\n",
            "    \"Hallo liebes Eon-Team, dies ist die Vertragsnummer 407729028540. Als ich meinen neuen Vertrag einrichtete, wurde leider die Banküberweisung als Zahlungsmittel vom jungen Kollegen an der Tür der Wohnung gewählt. Ich möchte, dass sie wieder per Lastschrift belastet wird, um Spannungen zu vermeiden. Das Verbraucherbüro ist immer noch das Hermanngasse 231K in 84645 Moers. Gruß Genoveva Trommler\",\n",
            "    \"Hallo liebes Eon-Team, dies ist die Vertragsnummer 408910461095. Als ich meinen neuen Vertrag einrichtete, wurde leider die Banküberweisung als Zahlungsmittel vom jungen Kollegen an der Tür der Wohnung gewählt. Ich möchte, dass sie wieder per Lastschrift belastet wird, um Spannungen zu vermeiden. Das Verbraucherbüro ist immer noch das Nico-Wähner-Straße 395 in 28215 Olpe. Gruß Regina Köster\"\n",
            "  ],\n",
            "  [\n",
            "    \"Bei der Vorbereitung meines neuen Vertrages wurde die Überweisung leider vom jungen Kollegen am Eingang der Wohnung als Zahlungsmethode gewählt. Ich möchte, dass es vom Wohnsitz aufgeladen wird, um Stress zu vermeiden. Das Verbraucherbüro befindet sich immer noch Gotthard-Atzler-Weg 1641 j in 83199 Weimar.\",\n",
            "    \"Bei der Vorbereitung meines neuen Vertrages wurde die Überweisung leider vom jungen Kollegen am Eingang der Wohnung als Zahlungsmethode gewählt. Ich möchte, dass es vom Wohnsitz aufgeladen wird, um Stress zu vermeiden. Das Verbraucherbüro befindet sich immer noch Theodoros-Hande-Gasse 165 in 92927 Aue.\",\n",
            "    \"Bei der Vorbereitung meines neuen Vertrages wurde die Überweisung leider vom jungen Kollegen am Eingang der Wohnung als Zahlungsmethode gewählt. Ich möchte, dass es vom Wohnsitz aufgeladen wird, um Stress zu vermeiden. Das Verbraucherbüro befindet sich immer noch Miesstr. 586 v in 55376 Weißwasser.\"\n",
            "  ]\n",
            "]\n"
          ]
        }
      ]
    },
    {
      "cell_type": "code",
      "source": [
        "# Test if it works in NER-friendly output format # PART 1\n",
        "# --- if _alias_to_key, _pattern, GEN are already in memory -----------------\n",
        "def fill_and_tag(text: str):\n",
        "    \"\"\"\n",
        "    Replace <<PLACEHOLDER>> markers and return\n",
        "      filled_text,  [ [start, end, LABEL], … ]\n",
        "    ready for spaCy JSONL.\n",
        "    \"\"\"\n",
        "    spans = []\n",
        "    offset = 0                             # byte drift as we substitute\n",
        "\n",
        "    def repl(m):\n",
        "        nonlocal offset\n",
        "        alias = m.group(1)\n",
        "        key   = _alias_to_key.get(alias)\n",
        "        value = GEN[key]() if key in GEN else m.group(0)\n",
        "\n",
        "        # record entity span only if we recognised the placeholder\n",
        "        if key in GEN:\n",
        "            start = m.start() + offset\n",
        "            end   = start + len(value)\n",
        "            spans.append([start, end, key])\n",
        "\n",
        "        offset += len(value) - len(m.group(0))\n",
        "        return value\n",
        "\n",
        "    filled = _pattern.sub(repl, text)\n",
        "    return filled, spans\n"
      ],
      "metadata": {
        "id": "OHs4fmAiLBvj"
      },
      "id": "OHs4fmAiLBvj",
      "execution_count": 41,
      "outputs": []
    },
    {
      "cell_type": "code",
      "source": [
        "# Test if it works in NER-friendly output format # PART 2\n",
        "# ---------------------------------------------------------------\n",
        "# CONFIG\n",
        "# ---------------------------------------------------------------\n",
        "SOURCE         = \"data/option_a_paraphrases.json\"   # original templates\n",
        "OUT_PATH       = \"filled_mails.json\"                # final dataset\n",
        "VARIANTS_EACH  = 3                                  # tweak to 10 later\n",
        "START_INDEX    = 1                                  # first file number\n",
        "\n",
        "# ---------------------------------------------------------------\n",
        "# DRIVER\n",
        "# ---------------------------------------------------------------\n",
        "import json, pathlib, itertools, random\n",
        "\n",
        "# 1) load templates ------------------------------------------------\n",
        "with open(SOURCE, encoding=\"utf-8\") as fh:\n",
        "    data = json.load(fh)\n",
        "\n",
        "# 2) generate ------------------------------------------------------\n",
        "records = []\n",
        "counter  = START_INDEX\n",
        "for record in data:                        # each original “*.txt” group\n",
        "    for template in record[\"variants\"]:\n",
        "        for _ in range(VARIANTS_EACH):\n",
        "            text, ents = fill_and_tag(template)\n",
        "            records.append({\n",
        "                \"file\": str(counter),      # \"1\", \"2\", …\n",
        "                \"text\": text,\n",
        "                \"labels\": [{\"start\": s, \"end\": e, \"label\": L} for s, e, L in ents]\n",
        "            })\n",
        "            counter += 1\n",
        "\n",
        "# 3) save ----------------------------------------------------------\n",
        "pathlib.Path(OUT_PATH).write_text(\n",
        "    json.dumps(records, ensure_ascii=False, indent=2),\n",
        "    encoding=\"utf-8\"\n",
        ")\n",
        "print(f\"✅ wrote {len(records):,} mails to {OUT_PATH}\")\n"
      ],
      "metadata": {
        "id": "cNleAqScTQt9",
        "outputId": "dfbeae46-479b-4bc5-cb59-41e5684fc978",
        "colab": {
          "base_uri": "https://localhost:8080/",
          "height": 365
        }
      },
      "id": "cNleAqScTQt9",
      "execution_count": 42,
      "outputs": [
        {
          "output_type": "error",
          "ename": "AttributeError",
          "evalue": "'Generator' object has no attribute 'swift_ascii'",
          "traceback": [
            "\u001b[0;31m---------------------------------------------------------------------------\u001b[0m",
            "\u001b[0;31mAttributeError\u001b[0m                            Traceback (most recent call last)",
            "\u001b[0;32m/tmp/ipython-input-42-3503088523.py\u001b[0m in \u001b[0;36m<cell line: 0>\u001b[0;34m()\u001b[0m\n\u001b[1;32m     23\u001b[0m     \u001b[0;32mfor\u001b[0m \u001b[0mtemplate\u001b[0m \u001b[0;32min\u001b[0m \u001b[0mrecord\u001b[0m\u001b[0;34m[\u001b[0m\u001b[0;34m\"variants\"\u001b[0m\u001b[0;34m]\u001b[0m\u001b[0;34m:\u001b[0m\u001b[0;34m\u001b[0m\u001b[0;34m\u001b[0m\u001b[0m\n\u001b[1;32m     24\u001b[0m         \u001b[0;32mfor\u001b[0m \u001b[0m_\u001b[0m \u001b[0;32min\u001b[0m \u001b[0mrange\u001b[0m\u001b[0;34m(\u001b[0m\u001b[0mVARIANTS_EACH\u001b[0m\u001b[0;34m)\u001b[0m\u001b[0;34m:\u001b[0m\u001b[0;34m\u001b[0m\u001b[0;34m\u001b[0m\u001b[0m\n\u001b[0;32m---> 25\u001b[0;31m             \u001b[0mtext\u001b[0m\u001b[0;34m,\u001b[0m \u001b[0ments\u001b[0m \u001b[0;34m=\u001b[0m \u001b[0mfill_and_tag\u001b[0m\u001b[0;34m(\u001b[0m\u001b[0mtemplate\u001b[0m\u001b[0;34m)\u001b[0m\u001b[0;34m\u001b[0m\u001b[0;34m\u001b[0m\u001b[0m\n\u001b[0m\u001b[1;32m     26\u001b[0m             records.append({\n\u001b[1;32m     27\u001b[0m                 \u001b[0;34m\"file\"\u001b[0m\u001b[0;34m:\u001b[0m \u001b[0mstr\u001b[0m\u001b[0;34m(\u001b[0m\u001b[0mcounter\u001b[0m\u001b[0;34m)\u001b[0m\u001b[0;34m,\u001b[0m      \u001b[0;31m# \"1\", \"2\", …\u001b[0m\u001b[0;34m\u001b[0m\u001b[0;34m\u001b[0m\u001b[0m\n",
            "\u001b[0;32m/tmp/ipython-input-41-722472494.py\u001b[0m in \u001b[0;36mfill_and_tag\u001b[0;34m(text)\u001b[0m\n\u001b[1;32m     25\u001b[0m         \u001b[0;32mreturn\u001b[0m \u001b[0mvalue\u001b[0m\u001b[0;34m\u001b[0m\u001b[0;34m\u001b[0m\u001b[0m\n\u001b[1;32m     26\u001b[0m \u001b[0;34m\u001b[0m\u001b[0m\n\u001b[0;32m---> 27\u001b[0;31m     \u001b[0mfilled\u001b[0m \u001b[0;34m=\u001b[0m \u001b[0m_pattern\u001b[0m\u001b[0;34m.\u001b[0m\u001b[0msub\u001b[0m\u001b[0;34m(\u001b[0m\u001b[0mrepl\u001b[0m\u001b[0;34m,\u001b[0m \u001b[0mtext\u001b[0m\u001b[0;34m)\u001b[0m\u001b[0;34m\u001b[0m\u001b[0;34m\u001b[0m\u001b[0m\n\u001b[0m\u001b[1;32m     28\u001b[0m     \u001b[0;32mreturn\u001b[0m \u001b[0mfilled\u001b[0m\u001b[0;34m,\u001b[0m \u001b[0mspans\u001b[0m\u001b[0;34m\u001b[0m\u001b[0;34m\u001b[0m\u001b[0m\n",
            "\u001b[0;32m/tmp/ipython-input-41-722472494.py\u001b[0m in \u001b[0;36mrepl\u001b[0;34m(m)\u001b[0m\n\u001b[1;32m     14\u001b[0m         \u001b[0malias\u001b[0m \u001b[0;34m=\u001b[0m \u001b[0mm\u001b[0m\u001b[0;34m.\u001b[0m\u001b[0mgroup\u001b[0m\u001b[0;34m(\u001b[0m\u001b[0;36m1\u001b[0m\u001b[0;34m)\u001b[0m\u001b[0;34m\u001b[0m\u001b[0;34m\u001b[0m\u001b[0m\n\u001b[1;32m     15\u001b[0m         \u001b[0mkey\u001b[0m   \u001b[0;34m=\u001b[0m \u001b[0m_alias_to_key\u001b[0m\u001b[0;34m.\u001b[0m\u001b[0mget\u001b[0m\u001b[0;34m(\u001b[0m\u001b[0malias\u001b[0m\u001b[0;34m)\u001b[0m\u001b[0;34m\u001b[0m\u001b[0;34m\u001b[0m\u001b[0m\n\u001b[0;32m---> 16\u001b[0;31m         \u001b[0mvalue\u001b[0m \u001b[0;34m=\u001b[0m \u001b[0mGEN\u001b[0m\u001b[0;34m[\u001b[0m\u001b[0mkey\u001b[0m\u001b[0;34m]\u001b[0m\u001b[0;34m(\u001b[0m\u001b[0;34m)\u001b[0m \u001b[0;32mif\u001b[0m \u001b[0mkey\u001b[0m \u001b[0;32min\u001b[0m \u001b[0mGEN\u001b[0m \u001b[0;32melse\u001b[0m \u001b[0mm\u001b[0m\u001b[0;34m.\u001b[0m\u001b[0mgroup\u001b[0m\u001b[0;34m(\u001b[0m\u001b[0;36m0\u001b[0m\u001b[0;34m)\u001b[0m\u001b[0;34m\u001b[0m\u001b[0;34m\u001b[0m\u001b[0m\n\u001b[0m\u001b[1;32m     17\u001b[0m \u001b[0;34m\u001b[0m\u001b[0m\n\u001b[1;32m     18\u001b[0m         \u001b[0;31m# record entity span only if we recognised the placeholder\u001b[0m\u001b[0;34m\u001b[0m\u001b[0;34m\u001b[0m\u001b[0m\n",
            "\u001b[0;32m/tmp/ipython-input-15-3905502190.py\u001b[0m in \u001b[0;36mbic\u001b[0;34m()\u001b[0m\n\u001b[1;32m      3\u001b[0m \u001b[0;32mdef\u001b[0m \u001b[0mbic\u001b[0m\u001b[0;34m(\u001b[0m\u001b[0;34m)\u001b[0m\u001b[0;34m:\u001b[0m\u001b[0;34m\u001b[0m\u001b[0;34m\u001b[0m\u001b[0m\n\u001b[1;32m      4\u001b[0m     \u001b[0;31m# Use faker's swift_ascii() (length 8 or 11) but force country DE\u001b[0m\u001b[0;34m\u001b[0m\u001b[0;34m\u001b[0m\u001b[0m\n\u001b[0;32m----> 5\u001b[0;31m     \u001b[0mbase\u001b[0m \u001b[0;34m=\u001b[0m \u001b[0mfake\u001b[0m\u001b[0;34m.\u001b[0m\u001b[0mswift_ascii\u001b[0m\u001b[0;34m(\u001b[0m\u001b[0;34m)\u001b[0m\u001b[0;34m\u001b[0m\u001b[0;34m\u001b[0m\u001b[0m\n\u001b[0m\u001b[1;32m      6\u001b[0m     \u001b[0;32mreturn\u001b[0m \u001b[0mbase\u001b[0m \u001b[0;32mif\u001b[0m \u001b[0mbase\u001b[0m\u001b[0;34m[\u001b[0m\u001b[0;36m4\u001b[0m\u001b[0;34m:\u001b[0m\u001b[0;36m6\u001b[0m\u001b[0;34m]\u001b[0m \u001b[0;34m==\u001b[0m \u001b[0;34m\"DE\"\u001b[0m \u001b[0;32melse\u001b[0m \u001b[0;34m\"DEUTDEFFXXX\"\u001b[0m\u001b[0;34m\u001b[0m\u001b[0;34m\u001b[0m\u001b[0m\n",
            "\u001b[0;32m/usr/local/lib/python3.11/dist-packages/faker/proxy.py\u001b[0m in \u001b[0;36m__getattr__\u001b[0;34m(self, attr)\u001b[0m\n\u001b[1;32m    128\u001b[0m         \"\"\"\n\u001b[1;32m    129\u001b[0m         \u001b[0;32mif\u001b[0m \u001b[0mlen\u001b[0m\u001b[0;34m(\u001b[0m\u001b[0mself\u001b[0m\u001b[0;34m.\u001b[0m\u001b[0m_factories\u001b[0m\u001b[0;34m)\u001b[0m \u001b[0;34m==\u001b[0m \u001b[0;36m1\u001b[0m\u001b[0;34m:\u001b[0m\u001b[0;34m\u001b[0m\u001b[0;34m\u001b[0m\u001b[0m\n\u001b[0;32m--> 130\u001b[0;31m             \u001b[0;32mreturn\u001b[0m \u001b[0mgetattr\u001b[0m\u001b[0;34m(\u001b[0m\u001b[0mself\u001b[0m\u001b[0;34m.\u001b[0m\u001b[0m_factories\u001b[0m\u001b[0;34m[\u001b[0m\u001b[0;36m0\u001b[0m\u001b[0;34m]\u001b[0m\u001b[0;34m,\u001b[0m \u001b[0mattr\u001b[0m\u001b[0;34m)\u001b[0m\u001b[0;34m\u001b[0m\u001b[0;34m\u001b[0m\u001b[0m\n\u001b[0m\u001b[1;32m    131\u001b[0m         \u001b[0;32melif\u001b[0m \u001b[0mattr\u001b[0m \u001b[0;32min\u001b[0m \u001b[0mself\u001b[0m\u001b[0;34m.\u001b[0m\u001b[0mgenerator_attrs\u001b[0m\u001b[0;34m:\u001b[0m\u001b[0;34m\u001b[0m\u001b[0;34m\u001b[0m\u001b[0m\n\u001b[1;32m    132\u001b[0m             \u001b[0mmsg\u001b[0m \u001b[0;34m=\u001b[0m \u001b[0;34m\"Proxying calls to `%s` is not implemented in multiple locale mode.\"\u001b[0m \u001b[0;34m%\u001b[0m \u001b[0mattr\u001b[0m\u001b[0;34m\u001b[0m\u001b[0;34m\u001b[0m\u001b[0m\n",
            "\u001b[0;31mAttributeError\u001b[0m: 'Generator' object has no attribute 'swift_ascii'"
          ]
        }
      ]
    },
    {
      "cell_type": "code",
      "source": [],
      "metadata": {
        "id": "EXclE4UETmfx"
      },
      "id": "EXclE4UETmfx",
      "execution_count": null,
      "outputs": []
    }
  ],
  "metadata": {
    "kernelspec": {
      "display_name": "Python 3",
      "language": "python",
      "name": "python3"
    },
    "language_info": {
      "codemirror_mode": {
        "name": "ipython",
        "version": 3
      },
      "file_extension": ".py",
      "mimetype": "text/x-python",
      "name": "python",
      "nbconvert_exporter": "python",
      "pygments_lexer": "ipython3",
      "version": "3.10.11"
    },
    "colab": {
      "provenance": []
    }
  },
  "nbformat": 4,
  "nbformat_minor": 5
}