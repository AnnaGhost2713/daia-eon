{
  "cells": [
    {
      "cell_type": "code",
      "source": [
        "from faker import Faker\n",
        "from faker.providers import bank, internet, misc, date_time\n",
        "import random, re, json, itertools\n",
        "import string, random\n",
        "\n",
        "# ---------- 1.  Faker setup ----------\n",
        "fake = Faker(\"de_DE\")          # German locale => names, streets, phone, PLZ …\n",
        "fake.add_provider(bank)        # iban(), swift_ascii()\n",
        "fake.add_provider(internet)    # email(), uri()\n",
        "fake.add_provider(misc)\n",
        "fake.add_provider(date_time)\n",
        "\n",
        "random.seed()                  # remove or pass a seed for reproducibility\n"
      ],
      "metadata": {
        "id": "yVkiRr9ZD9Wu"
      },
      "id": "yVkiRr9ZD9Wu",
      "execution_count": null,
      "outputs": []
    },
    {
      "cell_type": "code",
      "source": [
        "\n",
        "### HOUSENUMBER ###\n",
        "\n",
        "def german_house_number():\n",
        "    num = random.randint(1, 2000)          # 1 … 2000\n",
        "    if random.random() < 0.50:             # 50 % will *not* carry a letter\n",
        "        return str(num)\n",
        "\n",
        "    # choose letter case\n",
        "    letter = random.choice(string.ascii_lowercase + string.ascii_uppercase)\n",
        "\n",
        "    # 50 % chance of a space between number and letter\n",
        "    sep = \" \" if random.random() < 0.50 else \"\"\n",
        "\n",
        "    return f\"{num}{sep}{letter}\""
      ],
      "metadata": {
        "id": "FO3BJjO0ECIR"
      },
      "id": "FO3BJjO0ECIR",
      "execution_count": null,
      "outputs": []
    },
    {
      "cell_type": "code",
      "source": [
        "### ZAEHLERNUMMER ###\n",
        "\n",
        "# --- helper: optionally sprinkle spaces into a sequence -----------\n",
        "def insert_random_spaces(seq: str, prob: float = 0.4) -> str:\n",
        "    \"\"\"\n",
        "    With probability *prob* return the sequence with random\n",
        "    spaces (groups of 1–4 chars).  Otherwise return seq unchanged.\n",
        "    \"\"\"\n",
        "    if random.random() > prob:\n",
        "        return seq\n",
        "    out, i = [], 0\n",
        "    while i < len(seq):\n",
        "        grp_len = random.randint(1, 4)\n",
        "        out.append(seq[i: i + grp_len])\n",
        "        i += grp_len\n",
        "    return \" \".join(out)\n",
        "\n",
        "# --- main generator ----------------------------------------------\n",
        "def zaehlernummer() -> str:\n",
        "    \"\"\"\n",
        "    Pattern mix (weights: 0.4 / 0.3 / 0.3):\n",
        "      1)  Alphanumeric – digit + 2-4 letters + 7-12 digits  (e.g. 1GMT00984726553)\n",
        "      2)  Pure digits, 5-12 chars                           (e.g. 486498046387)\n",
        "      3)  Digits (5-8) + hyphen + 4-digit year              (e.g. 63746253-1992)\n",
        "    Each may contain random internal spaces.\n",
        "    \"\"\"\n",
        "    r = random.random()\n",
        "\n",
        "    if r < 0.4:                                 # --- variant 1\n",
        "        prefix  = str(random.randint(1, 9))\n",
        "        letters = ''.join(random.choices(string.ascii_uppercase,\n",
        "                                         k=random.randint(2, 4)))\n",
        "        digits  = ''.join(random.choices(string.digits,\n",
        "                                         k=random.randint(7, 12)))\n",
        "        core = prefix + letters + digits\n",
        "        return insert_random_spaces(core)\n",
        "\n",
        "    elif r < 0.7:                               # --- variant 2\n",
        "        digits = ''.join(random.choices(string.digits,\n",
        "                                        k=random.randint(5, 12)))\n",
        "        return insert_random_spaces(digits)\n",
        "\n",
        "    else:                                       # --- variant 3\n",
        "        left  = ''.join(random.choices(string.digits,\n",
        "                                       k=random.randint(5, 8)))\n",
        "        year  = str(random.randint(1900, 2099))\n",
        "        core  = f\"{left}-{year}\"\n",
        "        return insert_random_spaces(core, prob=0.25)  # fewer spaces here\n",
        "\n"
      ],
      "metadata": {
        "id": "GU2cFnwuEEXe"
      },
      "id": "GU2cFnwuEEXe",
      "execution_count": null,
      "outputs": []
    },
    {
      "cell_type": "code",
      "source": [
        "### VERTRAGSNUMMER ###\n",
        "\n",
        "def vertragsnummer():\n",
        "    blocks = [str(random.randint(400,409)), str(random.randint(100000000,999999999))]\n",
        "    if random.random() < 0.35:  # sprinkle spaces like in sample data\n",
        "        return \" \".join(blocks[0]), \" \".join(re.findall(\"...\", blocks[1]))\n",
        "    return \"\".join(blocks)"
      ],
      "metadata": {
        "id": "1qsFW9zzEKe5"
      },
      "id": "1qsFW9zzEKe5",
      "execution_count": null,
      "outputs": []
    },
    {
      "cell_type": "code",
      "source": [
        "### ZÄHLERSTAND ###\n",
        "\n",
        "# --- pre-compute all 8 case combinations of \"kwh\" -----------------\n",
        "_KWH_VARIANTS = [''.join(p) for p in itertools.product(\n",
        "    ('k', 'K'), ('w', 'W'), ('h', 'H')\n",
        ")]\n",
        "# -> ['kwh', 'kwH', 'kWh', 'kWH', 'Kwh', 'KwH', 'KWh', 'KWH']\n",
        "\n",
        "def zaehlstand() -> str:\n",
        "    \"\"\"\n",
        "    Returns a realistic German meter reading, e.g.\n",
        "      1234567\n",
        "      1.234 kWh\n",
        "      7.890.123,45 KW H\n",
        "      987,6kWh\n",
        "    \"\"\"\n",
        "    # -------- 1.  integer part (1 … 9 999 999) -------------------\n",
        "    value = random.randint(1, 9_999_999)\n",
        "\n",
        "    # optional thousands dots\n",
        "    if value >= 1000 and random.random() < 0.35:\n",
        "        int_part = f\"{value:,}\".replace(\",\", \".\")    # 1.234.567\n",
        "    else:\n",
        "        int_part = str(value)\n",
        "\n",
        "    # -------- 2.  decimal part (0–2 digits, comma) ---------------\n",
        "    if random.random() < 0.5:                        # 50 % with decimals\n",
        "        dec_len = random.choice([1, 2])\n",
        "        decimals = f\",{random.randint(0, 10**dec_len - 1):0{dec_len}d}\"\n",
        "    else:\n",
        "        decimals = \"\"\n",
        "\n",
        "    # -------- 3.  unit (kWh variants or nothing) -----------------\n",
        "    if random.random() < 0.65:                       # 65 % show unit\n",
        "        unit = random.choice(_KWH_VARIANTS)\n",
        "        spacer = \" \" if random.random() < 0.5 else \"\"  # optional space\n",
        "        suffix = f\"{spacer}{unit}\"\n",
        "    else:\n",
        "        suffix = \"\"\n",
        "\n",
        "    return f\"{int_part}{decimals}{suffix}\"\n"
      ],
      "metadata": {
        "id": "NJLkOTV0EOdm"
      },
      "id": "NJLkOTV0EOdm",
      "execution_count": null,
      "outputs": []
    },
    {
      "cell_type": "code",
      "source": [
        "### ZAHLUNG ###\n",
        "import random, string\n",
        "\n",
        "# ── all common Euro tokens, upper-/lower-case variants ───────────\n",
        "_EURO_TOKENS = [\"€\", \" EUR\", \"EUR\", \" Euro\", \"Euro\", \" EURO\",\n",
        "                \" eur\", \"eur\", \"EURO\"]\n",
        "\n",
        "def zahlung() -> str:\n",
        "    \"\"\"\n",
        "    Builds a German-style payment amount such as\n",
        "      512,30€\n",
        "      € 9.800\n",
        "      12.345,6 Euro\n",
        "      EUR 1.234,56\n",
        "      7400\n",
        "    \"\"\"\n",
        "    # 1.  choose magnitude 10 … 50 000  (tweak upper bound as needed)\n",
        "    amount = random.uniform(10, 50_000)\n",
        "\n",
        "    # 2.  integer / decimal decision\n",
        "    decimals = random.choices([0, 1, 2], weights=[0.4, 0.3, 0.3])[0]\n",
        "    fmt = f\"{{:,.{decimals}f}}\".format(amount).replace(\",\", \"X\").replace(\".\", \",\").replace(\"X\", \".\")\n",
        "    # German format → thousands '.'  decimal ','\n",
        "\n",
        "    # strip trailing \",0\" or \",00\" if decimals==0\n",
        "    if decimals == 0:\n",
        "        fmt = fmt.split(\",\")[0]\n",
        "\n",
        "    # 3.  euro token (or none) and position\n",
        "    token = random.choice(_EURO_TOKENS + [\"\"])        # ~10 % chance of empty\n",
        "    before = random.random() < 0.25 and token         # 25 % “€ 123”\n",
        "    after  = not before and token                     # otherwise after / none\n",
        "\n",
        "    # optional spaces around token\n",
        "    space = \" \" if random.random() < 0.6 else \"\"      # 60 % get a space\n",
        "    if before:\n",
        "        return f\"{token}{space}{fmt}\"\n",
        "    elif after:\n",
        "        return f\"{fmt}{space}{token.lstrip()}\"        # keep trailing space logic\n",
        "    else:\n",
        "        return fmt"
      ],
      "metadata": {
        "id": "AKFZPWgHEYPZ"
      },
      "id": "AKFZPWgHEYPZ",
      "execution_count": null,
      "outputs": []
    },
    {
      "cell_type": "code",
      "source": [
        "### BIC ###\n",
        "\n",
        "def bic():\n",
        "    # Use faker's swift_ascii() (length 8 or 11) but force country DE\n",
        "    base = fake.swift_ascii()\n",
        "    return base if base[4:6] == \"DE\" else \"DEUTDEFFXXX\""
      ],
      "metadata": {
        "id": "4c75OPunEtoG"
      },
      "id": "4c75OPunEtoG",
      "execution_count": null,
      "outputs": []
    },
    {
      "cell_type": "code",
      "source": [
        "### GESENDET MIT ###\n",
        "\n",
        "# ── building blocks ───────────────────────────────────────────────\n",
        "PREFIXES_DE = [\n",
        "    \"Gesendet von meinem\", \"Von meinem\", \"Mit meinem\",\n",
        "    \"Gesendet mit meinem\", \"Gesendet mit der\", \"Mit der\"\n",
        "]\n",
        "PREFIXES_EN = [\"Sent from my\", \"Sent using my\"]\n",
        "\n",
        "DEVICES = [\n",
        "    \"iPhone\", \"iPad\", \"MacBook Pro\", \"Samsung Galaxy S23\",\n",
        "    \"Samsung Galaxy\", \"Google Pixel 8\", \"Fairphone 5\",\n",
        "    \"Huawei P30\", \"Xiaomi Redmi Note 12\", \"Surface Pro 9\",\n",
        "    \"Lenovo ThinkPad\", \"OnePlus 12\", \"Nokia 8.3\",\n",
        "    \"BlackBerry Key2\", \"Galaxy Tab S9\", \"Steam Deck\"\n",
        "]\n",
        "\n",
        "MAIL_APPS = [\n",
        "    \"Mail App\", \"Outlook\", \"Gmail\", \"GMX Mail\", \"web.de Mail\",\n",
        "    \"Yahoo Mail\", \"Thunderbird\", \"Apple Mail\", \"BlueMail\",\n",
        "    \"Telekom Mail\", \"Proton Mail\", \"Posteo\", \"Tutanota\"\n",
        "]\n",
        "\n",
        "QUALIFIERS = [\"\", \" für Android\", \" für iOS\", \" for Android\", \" for iOS\", \" Desktop\"]\n",
        "\n",
        "# ── generator ─────────────────────────────────────────────────────\n",
        "def gesendet_mit() -> str:\n",
        "    \"\"\"Return a varied German/English mobile mail footer.\"\"\"\n",
        "    # Choose language flavour (30 % English, 70 % German)\n",
        "    if random.random() < 0.30:\n",
        "        prefix = random.choice(PREFIXES_EN)\n",
        "        device = random.choice(DEVICES)\n",
        "        # ~50 % add app + qualifier\n",
        "        if random.random() < 0.5:\n",
        "            app = random.choice(MAIL_APPS)\n",
        "            qual = random.choice(QUALIFIERS).strip()\n",
        "            return f\"{prefix} {device} using {app}{(' ' + qual) if qual else ''}\".strip()\n",
        "        return f\"{prefix} {device}\"\n",
        "\n",
        "    # German variant\n",
        "    prefix = random.choice(PREFIXES_DE)\n",
        "    device = random.choice(DEVICES)\n",
        "    # ~65 % add “mit <App> <Qualifier>”\n",
        "    if random.random() < 0.65:\n",
        "        app = random.choice(MAIL_APPS)\n",
        "        qual = random.choice(QUALIFIERS).strip()\n",
        "        suffix = f\" {app}{(' ' + qual) if qual else ''}\"\n",
        "    else:\n",
        "        suffix = \"\"\n",
        "    return f\"{prefix} {device}{suffix}\".strip()\n"
      ],
      "metadata": {
        "id": "A-Rp2zgNE_W9"
      },
      "id": "A-Rp2zgNE_W9",
      "execution_count": null,
      "outputs": []
    },
    {
      "cell_type": "code",
      "source": [
        "### BANK ###\n",
        "!pip install schwifty            # run in your terminal or  !pip install schwifty  in a notebook\n",
        "from schwifty import registry\n",
        "\n",
        "# --- pull the entire bank registry (cached in ~/.cache/schwifty) ----\n",
        "banks_reg = registry.get(\"bank\")            # dict  {BIC: {...data...}, ...}\n",
        "\n",
        "# --- slice out *German* institutes only -----------------------------\n",
        "banks_de = [entry[\"name\"]\n",
        "            for entry in banks_reg.values()\n",
        "            if entry[\"country_code\"] == \"DE\"]\n",
        "\n",
        "def german_bank():\n",
        "    \"\"\"Return one realistic German bank name.\"\"\"\n",
        "    return random.choice(banks_de)"
      ],
      "metadata": {
        "id": "TFJGgw5kFH4I",
        "outputId": "c70717ee-db87-4c6a-df5b-80996160e419",
        "colab": {
          "base_uri": "https://localhost:8080/"
        }
      },
      "id": "TFJGgw5kFH4I",
      "execution_count": 6,
      "outputs": [
        {
          "output_type": "stream",
          "name": "stdout",
          "text": [
            "Collecting schwifty\n",
            "  Downloading schwifty-2025.6.0-py3-none-any.whl.metadata (5.0 kB)\n",
            "Requirement already satisfied: importlib-resources>=5.10 in /usr/local/lib/python3.11/dist-packages (from schwifty) (6.5.2)\n",
            "Collecting pycountry (from schwifty)\n",
            "  Downloading pycountry-24.6.1-py3-none-any.whl.metadata (12 kB)\n",
            "Collecting rstr (from schwifty)\n",
            "  Downloading rstr-3.2.2-py3-none-any.whl.metadata (7.1 kB)\n",
            "Downloading schwifty-2025.6.0-py3-none-any.whl (359 kB)\n",
            "\u001b[2K   \u001b[90m━━━━━━━━━━━━━━━━━━━━━━━━━━━━━━━━━━━━━━━━\u001b[0m \u001b[32m359.7/359.7 kB\u001b[0m \u001b[31m6.1 MB/s\u001b[0m eta \u001b[36m0:00:00\u001b[0m\n",
            "\u001b[?25hDownloading pycountry-24.6.1-py3-none-any.whl (6.3 MB)\n",
            "\u001b[2K   \u001b[90m━━━━━━━━━━━━━━━━━━━━━━━━━━━━━━━━━━━━━━━━\u001b[0m \u001b[32m6.3/6.3 MB\u001b[0m \u001b[31m74.0 MB/s\u001b[0m eta \u001b[36m0:00:00\u001b[0m\n",
            "\u001b[?25hDownloading rstr-3.2.2-py3-none-any.whl (10 kB)\n",
            "Installing collected packages: rstr, pycountry, schwifty\n",
            "Successfully installed pycountry-24.6.1 rstr-3.2.2 schwifty-2025.6.0\n"
          ]
        }
      ]
    },
    {
      "cell_type": "code",
      "source": [
        "# ---------- 3.  Placeholder → generator map ----------\n",
        "GEN: dict[str, callable[[], str]] = {\n",
        "    \"TITEL\"         : lambda: fake.prefix().rstrip(\".\"),\n",
        "    \"VORNAME\"       : fake.first_name,\n",
        "    \"NACHNAME\"      : fake.last_name,\n",
        "    \"FIRMA\"         : fake.company,\n",
        "    \"TELEFONNUMMER\" : fake.phone_number,\n",
        "    \"EMAIL\"         : fake.email,\n",
        "    \"FAX\"           : fake.phone_number,\n",
        "    \"STRASSE\"       : fake.street_name,\n",
        "    \"HAUSNUMMER\"    : german_house_number,\n",
        "    \"POSTLEITZAHL\"  : fake.postcode,\n",
        "    \"WOHNORT\"       : fake.city,\n",
        "    \"ZÄHLERNUMMER\"  : zaehlernummer,\n",
        "    \"ZÄHLERSTAND\"   : zaehlstand,\n",
        "    \"VERTRAGSNUMMER\": vertragsnummer,\n",
        "    \"ZAHLUNG\"       : zahlung,\n",
        "    \"BANK\"          : german_bank,\n",
        "    \"IBAN\"          : lambda: fake.iban(country_code=\"DE\"),\n",
        "    \"BIC\"           : bic,\n",
        "    \"DATUM\"         : lambda: fake.date(pattern=\"%d.%m.%Y\"),\n",
        "    \"GESENDET_MIT\"  : gesendet_mit,\n",
        "    \"LINK\"          : fake.uri,\n",
        "}"
      ],
      "metadata": {
        "id": "g418d_hTLDK5"
      },
      "id": "g418d_hTLDK5",
      "execution_count": null,
      "outputs": []
    },
    {
      "cell_type": "code",
      "source": [
        "# ────────────────────────────────────────────────────────────────────\n",
        "# 4.  Placeholder substitution helper\n",
        "# ────────────────────────────────────────────────────────────────────\n",
        "_alias_to_key = {\n",
        "    alias: key\n",
        "    for key, aliases in {\n",
        "        \"TITEL\":[\"TITEL\"], \"VORNAME\":[\"VORNAME\"], \"NACHNAME\":[\"NACHNAME\"],\n",
        "        \"FIRMA\":[\"FIRMA\"], \"TELEFONNUMMER\":[\"TELEFONNUMMER\"], \"EMAIL\":[\"EMAIL\"],\n",
        "        \"FAX\":[\"FAX\"], \"STRASSE\":[\"STRASSE\"], \"HAUSNUMMER\":[\"HAUSNUMMER\"],\n",
        "        \"POSTLEITZAHL\":[\"POSTLEITZAHL\",\"PLZ\",\"ZIP\"],\n",
        "        \"WOHNORT\":[\"WOHNORT\",\"ORT\",\"CITY\"],\n",
        "        \"ZÄHLERNUMMER\":[\"ZÄHLERNUMMER\",\"METER_ID\"],\n",
        "        \"ZÄHLERSTAND\":[\"ZÄHLERSTAND\",\"METER_READING\"],\n",
        "        \"VERTRAGSNUMMER\":[\"VERTRAGSNUMMER\",\"ANGEBOTSNUMMER\",\"KUNDENNUMMER\"],\n",
        "        \"ZAHLUNG\":[\"BETRAG\",\"ZAHLUNG\",\"AMOUNT\"],\n",
        "        \"BANK\":[\"BANK\"], \"IBAN\":[\"IBAN\"], \"BIC\":[\"BIC\"],\n",
        "        \"DATUM\":[\"DATUM\",\"DATE\"], \"GESENDET_MIT\":[\"GESENDET_MIT\"], \"LINK\":[\"LINK\"],\n",
        "    }.items() for alias in aliases\n",
        "}\n",
        "_pattern = re.compile(r\"<<\\s*([A-Z_]+)\\s*>>\")\n",
        "\n",
        "def substitute_placeholders(text: str) -> str:\n",
        "    def repl(match):\n",
        "        alias = match.group(1)\n",
        "        key   = _alias_to_key.get(alias)\n",
        "        return GEN[key]() if key in GEN else match.group(0)\n",
        "    return _pattern.sub(repl, text)"
      ],
      "metadata": {
        "id": "KLFEmzlcNn8Q"
      },
      "id": "KLFEmzlcNn8Q",
      "execution_count": null,
      "outputs": []
    },
    {
      "cell_type": "code",
      "source": [
        "\n"
      ],
      "metadata": {
        "id": "bL45Is2ECJNU"
      },
      "id": "bL45Is2ECJNU",
      "execution_count": null,
      "outputs": []
    },
    {
      "cell_type": "code",
      "source": [],
      "metadata": {
        "id": "OHs4fmAiLBvj"
      },
      "id": "OHs4fmAiLBvj",
      "execution_count": null,
      "outputs": []
    }
  ],
  "metadata": {
    "kernelspec": {
      "display_name": "Python 3",
      "language": "python",
      "name": "python3"
    },
    "language_info": {
      "codemirror_mode": {
        "name": "ipython",
        "version": 3
      },
      "file_extension": ".py",
      "mimetype": "text/x-python",
      "name": "python",
      "nbconvert_exporter": "python",
      "pygments_lexer": "ipython3",
      "version": "3.10.11"
    },
    "colab": {
      "provenance": []
    }
  },
  "nbformat": 4,
  "nbformat_minor": 5
}