{
 "cells": [
  {
   "cell_type": "markdown",
   "id": "725f6080",
   "metadata": {},
   "source": [
    "# ✉️ Synthetische E-Mail-Erzeugung für Piranha\n",
    "Dieses Notebook erzeugt 1.000 (mehr oder weniger) realistisch klingende E-Mails mit PII (random generiert) und generiert passende Trainingsdaten. Die E.Mails werden hier gespeichert /data/piranha_synthetic_data.json\""
   ]
  },
  {
   "cell_type": "code",
   "execution_count": 4,
   "id": "4a8c774f",
   "metadata": {
    "ExecuteTime": {
     "end_time": "2025-06-01T17:07:29.268814Z",
     "start_time": "2025-06-01T17:07:29.264238Z"
    }
   },
   "outputs": [],
   "source": [
    "import random\n",
    "import json\n",
    "from faker import Faker\n",
    "from tqdm import tqdm\n",
    "\n",
    "faker = Faker(\"de_DE\")\n",
    "Faker.seed(42)\n",
    "random.seed(42)\n",
    "\n",
    "PII_CATEGORIES = [\"NAME\", \"ADRESSE\", \"VERTRAG\", \"ZAHLUNG\", \"TECHNISCHE_DATEN\", \"KONTAKT\", \"FIRMA\", \"DATUM\"]\n",
    "\n",
    "# Beispiel-Templates mit Platzhaltern\n",
    "TEMPLATES = [\n",
    "    \"Sehr geehrter Herr {NAME}, Ihre Kundennummer {VERTRAG} wird im System geführt.\",\n",
    "    \"Die Adresse {ADRESSE} wurde in Ihrem Konto hinterlegt.\",\n",
    "    \"Bitte überweisen Sie {ZAHLUNG} bis zum {DATUM}.\",\n",
    "    \"Wir haben Ihre Zählernummer {TECHNISCHE_DATEN} registriert.\",\n",
    "    \"Rückfragen richten Sie bitte an {KONTAKT}.\",\n",
    "    \"Vielen Dank für Ihre Anfrage bei {FIRMA}.\",\n",
    "    \"Am {DATUM} fand die letzte Wartung an Zähler {TECHNISCHE_DATEN} statt.\",\n",
    "    \"Der Vertrag {VERTRAG} ist seit dem {DATUM} aktiv.\",\n",
    "    \"Ihre Telefonnummer {KONTAKT} wurde aktualisiert.\",\n",
    "    \"Mit freundlichen Grüßen,\\n{NAME}\\n{FIRMA}\\n{ADRESSE}\",\n",
    "    \"Ihr Verbrauch in diesem Monat beträgt {TECHNISCHE_DATEN}.\",\n",
    "    \"IBAN {ZAHLUNG} wurde für die Zahlung verwendet.\",\n",
    "    \"Ihr Termin mit {NAME} von {FIRMA} ist am {DATUM}.\",\n",
    "    \"Sie wohnen aktuell in der {ADRESSE}, korrekt?\",\n",
    "    \"Die letzte Abrechnung über {ZAHLUNG} wurde am {DATUM} erstellt.\",\n",
    "]\n",
    "\n",
    "def generate_pii_values():\n",
    "    return {\n",
    "        \"NAME\": faker.name(),\n",
    "        \"ADRESSE\": f\"{faker.street_name()} {faker.building_number()}, {faker.postcode()} {faker.city()}\",\n",
    "        \"VERTRAG\": str(faker.random_number(digits=9, fix_len=True)),\n",
    "        \"ZAHLUNG\": f\"{round(random.uniform(50, 500), 2)} EUR\",\n",
    "        \"TECHNISCHE_DATEN\": str(faker.random_number(digits=6, fix_len=True)),\n",
    "        \"KONTAKT\": faker.phone_number(),\n",
    "        \"FIRMA\": faker.company(),\n",
    "        \"DATUM\": faker.date(pattern=\"%d.%m.%Y\")\n",
    "    }\n",
    "\n",
    "def generate_synthetic_emails(n=1000):\n",
    "    dataset = []\n",
    "    for _ in tqdm(range(n)):\n",
    "        pii_values = generate_pii_values()\n",
    "        template = random.choice(TEMPLATES)\n",
    "        text = template\n",
    "        labels = []\n",
    "\n",
    "        for key, value in pii_values.items():\n",
    "            placeholder = \"{\" + key + \"}\"\n",
    "            if placeholder in template:\n",
    "                start = text.index(placeholder)\n",
    "                text = text.replace(placeholder, value, 1)\n",
    "                labels.append({\n",
    "                    \"start\": start,\n",
    "                    \"end\": start + len(value),\n",
    "                    \"label\": key\n",
    "                })\n",
    "\n",
    "        dataset.append({\n",
    "            \"text\": text,\n",
    "            \"labels\": labels\n",
    "        })\n",
    "    return dataset\n"
   ]
  },
  {
   "cell_type": "code",
   "execution_count": 5,
   "id": "09ed9a47",
   "metadata": {
    "ExecuteTime": {
     "end_time": "2025-06-01T17:07:32.483168Z",
     "start_time": "2025-06-01T17:07:32.408423Z"
    }
   },
   "outputs": [
    {
     "name": "stderr",
     "output_type": "stream",
     "text": [
      "100%|██████████| 1000/1000 [00:00<00:00, 24694.46it/s]"
     ]
    },
    {
     "name": "stdout",
     "output_type": "stream",
     "text": [
      "Synthetischer Trainingsdatensatz gespeichert unter: ../data/piranha_synthetic_data.json\n"
     ]
    },
    {
     "name": "stderr",
     "output_type": "stream",
     "text": [
      "\n"
     ]
    }
   ],
   "source": [
    "# ✨ 1.000 E-Mails erzeugen und als JSON speichern\n",
    "synthetic_dataset = generate_synthetic_emails(n=1000)\n",
    "output_path = \"../data/piranha_synthetic_data.json\"\n",
    "\n",
    "with open(output_path, \"w\", encoding=\"utf-8\") as f:\n",
    "    json.dump(synthetic_dataset, f, ensure_ascii=False, indent=2)\n",
    "\n",
    "print(f\"Synthetischer Trainingsdatensatz gespeichert unter: {output_path}\")\n"
   ]
  }
 ],
 "metadata": {
  "kernelspec": {
   "display_name": "Python 3",
   "language": "python",
   "name": "python3"
  },
  "language_info": {
   "codemirror_mode": {
    "name": "ipython",
    "version": 3
   },
   "file_extension": ".py",
   "mimetype": "text/x-python",
   "name": "python",
   "nbconvert_exporter": "python",
   "pygments_lexer": "ipython3",
   "version": "3.10.11"
  }
 },
 "nbformat": 4,
 "nbformat_minor": 5
}
