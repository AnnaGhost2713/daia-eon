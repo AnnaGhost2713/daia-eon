{
 "cells": [
  {
   "metadata": {},
   "cell_type": "markdown",
   "source": [
    "# Gemini Email Anonymization Pipeline\n",
    "\n",
    "A Python pipeline that uses the Google Gemini API to detect and anonymize\n",
    "sensitive entities in email texts using 21 custom labels."
   ],
   "id": "4199d7ed499b9273"
  },
  {
   "metadata": {},
   "cell_type": "code",
   "outputs": [],
   "execution_count": null,
   "source": "",
   "id": "f0c8b0704de65c2d"
  }
 ],
 "metadata": {},
 "nbformat": 4,
 "nbformat_minor": 5
}
