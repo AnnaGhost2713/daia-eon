{
 "cells": [
  {
   "cell_type": "code",
   "execution_count": 24,
   "id": "f871b980",
   "metadata": {},
   "outputs": [
    {
     "name": "stdout",
     "output_type": "stream",
     "text": [
      "✅ Datei mit Original + Anonymisiertem Text gespeichert unter: golden_dataset_with_replacements.json\n"
     ]
    }
   ],
   "source": [
    "import json\n",
    "\n",
    "def anonymize_labels(\n",
    "    json_path,\n",
    "    output_path=\"golden_dataset_with_replacements.json\",\n",
    "    placeholder_format=\"__{label}__\"\n",
    "):\n",
    "    with open(json_path, 'r', encoding='utf-8') as f:\n",
    "        data = json.load(f)\n",
    "\n",
    "    for entry in data:\n",
    "        original_text = entry[\"text\"]\n",
    "        text_anonymized = original_text\n",
    "        labels = sorted(entry[\"labels\"], key=lambda x: x[\"start\"], reverse=True)\n",
    "        replacements = []\n",
    "\n",
    "        seen_spans = set()\n",
    "\n",
    "        for label in labels:\n",
    "            start, end = label[\"start\"], label[\"end\"]\n",
    "            key = (start, end, label[\"label\"])\n",
    "            if key in seen_spans:\n",
    "                continue\n",
    "            seen_spans.add(key)\n",
    "\n",
    "            original_value = original_text[start:end]\n",
    "            placeholder = placeholder_format.format(label=label[\"label\"])\n",
    "\n",
    "            # Ersetze im anonymisierten Text\n",
    "            text_anonymized = text_anonymized[:start] + placeholder + text_anonymized[end:]\n",
    "\n",
    "            replacements.append({\n",
    "                \"label\": label[\"label\"],\n",
    "                \"original\": original_value,\n",
    "                \"placeholder\": placeholder\n",
    "            })\n",
    "\n",
    "        entry[\"text_anonymized\"] = text_anonymized\n",
    "        entry[\"replacements\"] = list(reversed(replacements))  # für nachvollziehbare Reihenfolge\n",
    "\n",
    "    with open(output_path, 'w', encoding='utf-8') as f:\n",
    "        json.dump(data, f, ensure_ascii=False, indent=2)\n",
    "\n",
    "    print(f\"✅ Datei mit Original + Anonymisiertem Text gespeichert unter: {output_path}\")\n",
    "\n",
    "# Beispiel-Aufruf:\n",
    "anonymize_labels(\"../../data/original/granular_dataset_split_norm/train_norm.json\")\n"
   ]
  },
  {
   "cell_type": "code",
   "execution_count": 14,
   "id": "4b399240",
   "metadata": {},
   "outputs": [
    {
     "name": "stdout",
     "output_type": "stream",
     "text": [
      "🔍 Originaltext:\n",
      " Guten Tag,\n",
      "hiermit schicke ich Ihnen die noch fehlenden Angaben:\n",
      "Übergabedatum: 01.08.2023\n",
      "Mieter: Isabelle Eckbauer (+49 (0) 5402 008802)\n",
      " Ahmet Gerlach (+49(0)7195176538)\n",
      "Vermieter: Dr. Franz-Xaver Huhn\n",
      "Zählernummer: 1ISK0070547123\n",
      "Zählerstand: 0022386623\n",
      "Vielen Dank\n",
      "Isabelle Eckbauer\n",
      "\n",
      "\n",
      "🧼 Normalisiert:\n",
      " Guten Tag,\n",
      "hiermit schicke ich Ihnen die noch fehlenden Angaben:\n",
      "Übergabedatum: 01.08.2023\n",
      "Mieter: Isabelle Eckbauer (+49 (0) 5402 008802)\n",
      " Ahmet Gerlach (+49(0)7195176538)\n",
      "Vermieter: Dr. Franz-Xaver Huhn\n",
      "Zählernummer: 1ISK0070547123\n",
      "Zählerstand: 0022386623\n",
      "Vielen Dank\n",
      "Isabelle Eckbauer\n",
      "\n"
     ]
    }
   ],
   "source": [
    "snippets = [\n",
    "    \"Dr.\",\n",
    "    \"Isabelle\", \"Eckbauer\",\n",
    "    \"Ahmet\", \"Gerlach\",\n",
    "    \"+49 (0) 5402 008802\",\n",
    "    \"+49(0)7195176538\",\n",
    "    \"1ISK0070547123\",\n",
    "    \"0022386623\",\n",
    "    \"01.08.2023\",\n",
    "    \"Franz-Xaver\", \"Huhn\"\n",
    "]\n",
    "\n",
    "import unicodedata\n",
    "import re\n",
    "\n",
    "def normalize(text):\n",
    "    text = unicodedata.normalize(\"NFKC\", text)\n",
    "    text = text.replace('\\xa0', ' ')\n",
    "    text = re.sub(r'[\\u200b\\u2028\\u2029\\ufeff]', '', text)\n",
    "    text = text.replace('\\r\\n', '\\n').replace('\\r', '\\n')\n",
    "    return text\n",
    "\n",
    "text = \"\"\"Guten Tag,\n",
    "hiermit schicke ich Ihnen die noch fehlenden Angaben:\n",
    "Übergabedatum: 01.08.2023\n",
    "Mieter: Isabelle Eckbauer (+49 (0) 5402 008802)\n",
    " Ahmet Gerlach (+49(0)7195176538)\n",
    "Vermieter: Dr. Franz-Xaver Huhn\n",
    "Zählernummer: 1ISK0070547123\n",
    "Zählerstand: 0022386623\n",
    "Vielen Dank\n",
    "Isabelle Eckbauer\n",
    "\"\"\"\n",
    "\n",
    "print(\"🔍 Originaltext:\\n\", text)\n",
    "print(\"\\n🧼 Normalisiert:\\n\", normalize(text))\n"
   ]
  },
  {
   "cell_type": "code",
   "execution_count": 17,
   "id": "e20e0622",
   "metadata": {},
   "outputs": [
    {
     "name": "stdout",
     "output_type": "stream",
     "text": [
      "✅ Gefunden: 'Dr.' bei Position 184–187\n",
      "✅ Gefunden: 'Isabelle' bei Position 99–107\n",
      "✅ Gefunden: 'Eckbauer' bei Position 108–116\n",
      "✅ Gefunden: 'Ahmet' bei Position 140–145\n",
      "✅ Gefunden: 'Gerlach' bei Position 146–153\n",
      "✅ Gefunden: '+49 (0) 5402 008802' bei Position 118–137\n",
      "✅ Gefunden: '+49(0)7195176538' bei Position 155–171\n",
      "✅ Gefunden: '1ISK0070547123' bei Position 219–233\n",
      "✅ Gefunden: '0022386623' bei Position 247–257\n",
      "✅ Gefunden: '01.08.2023' bei Position 80–90\n",
      "✅ Gefunden: 'Franz-Xaver' bei Position 188–199\n",
      "✅ Gefunden: 'Huhn' bei Position 200–204\n"
     ]
    }
   ],
   "source": [
    "normalized = normalize(text)\n",
    "\n",
    "for snippet in snippets:\n",
    "    match = re.search(re.escape(snippet), normalized)\n",
    "    if match:\n",
    "        print(f\"✅ Gefunden: '{snippet}' bei Position {match.start()}–{match.end()}\")\n",
    "    else:\n",
    "        print(f\"❌ NICHT gefunden: '{snippet}'\")\n"
   ]
  },
  {
   "cell_type": "code",
   "execution_count": null,
   "id": "2a712c8e",
   "metadata": {},
   "outputs": [],
   "source": []
  }
 ],
 "metadata": {
  "kernelspec": {
   "display_name": ".venv",
   "language": "python",
   "name": "python3"
  },
  "language_info": {
   "codemirror_mode": {
    "name": "ipython",
    "version": 3
   },
   "file_extension": ".py",
   "mimetype": "text/x-python",
   "name": "python",
   "nbconvert_exporter": "python",
   "pygments_lexer": "ipython3",
   "version": "3.11.9"
  }
 },
 "nbformat": 4,
 "nbformat_minor": 5
}
