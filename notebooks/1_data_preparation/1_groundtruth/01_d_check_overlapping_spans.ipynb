{
 "cells": [
  {
   "cell_type": "code",
   "execution_count": 6,
   "id": "d6d8c1b6",
   "metadata": {},
   "outputs": [],
   "source": [
    "import json\n",
    "from pathlib import Path\n",
    "\n",
    "# 🔄 Funktion zum Finden überlappender Labels in einer Datei\n",
    "def find_overlapping_labels(labels):\n",
    "    overlaps = []\n",
    "    labels = sorted(labels, key=lambda x: x[\"start\"])\n",
    "    for i in range(len(labels)):\n",
    "        for j in range(i + 1, len(labels)):\n",
    "            a = labels[i]\n",
    "            b = labels[j]\n",
    "            # Prüfe: b beginnt vor a endet\n",
    "            if b[\"start\"] < a[\"end\"]:\n",
    "                overlaps.append((a, b))\n",
    "            else:\n",
    "                break  # Kein Overlap mehr möglich (da sortiert)\n",
    "    return overlaps\n",
    "\n",
    "# 📂 Datei laden\n",
    "json_path = Path(\"../../../data/original/golden_dataset_with_spans_norm.json\")\n",
    "data = json.loads(json_path.read_text(encoding=\"utf-8\"))\n",
    "\n",
    "# 🔍 Prüfe jede Datei\n",
    "for entry in data:\n",
    "    overlaps = find_overlapping_labels(entry[\"labels\"])\n",
    "    if overlaps:\n",
    "        print(f\"\\n⚠️ Overlapping spans in file: {entry['file']}\")\n",
    "        for a, b in overlaps:\n",
    "            text_a = entry[\"text\"][a[\"start\"]:a[\"end\"]]\n",
    "            text_b = entry[\"text\"][b[\"start\"]:b[\"end\"]]\n",
    "            print(f\" - [{a['start']}–{a['end']}:{a['label']}] '{text_a}'\")\n",
    "            print(f\"   [{b['start']}–{b['end']}:{b['label']}] '{text_b}'\")\n"
   ]
  }
 ],
 "metadata": {
  "kernelspec": {
   "display_name": ".venv",
   "language": "python",
   "name": "python3"
  },
  "language_info": {
   "codemirror_mode": {
    "name": "ipython",
    "version": 3
   },
   "file_extension": ".py",
   "mimetype": "text/x-python",
   "name": "python",
   "nbconvert_exporter": "python",
   "pygments_lexer": "ipython3",
   "version": "3.11.9"
  }
 },
 "nbformat": 4,
 "nbformat_minor": 5
}
