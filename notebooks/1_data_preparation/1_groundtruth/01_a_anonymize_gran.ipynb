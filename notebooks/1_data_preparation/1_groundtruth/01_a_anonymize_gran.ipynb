{
 "cells": [
  {
   "cell_type": "code",
   "execution_count": 1,
   "id": "8f18051b-a32b-4095-9b98-d465cce1095f",
   "metadata": {},
   "outputs": [],
   "source": [
    "# !pip install pandas regex\n",
    "import pandas as pd, re, random\n",
    "from pathlib import Path"
   ]
  },
  {
   "cell_type": "code",
   "execution_count": 7,
   "id": "3a4baa81-6238-4bfb-9887-634049d60f88",
   "metadata": {},
   "outputs": [],
   "source": [
    "# Defining Paths \n",
    "RAW_DIR   = Path(\"../../../data/original/golden_dataset_original\")           # 160 raw txt files\n",
    "OUT_DIR   = Path(\"../../../data/original/golden_dataset_anonymized_granular\")\n",
    "EXCEL     = Path(\"../../../data/excel_manual_labeling/Daia_Manual_Labelling_granular.xlsx\")         # your metadata workbook\n",
    "\n",
    "OUT_DIR.mkdir(parents=True, exist_ok=True)"
   ]
  },
  {
   "cell_type": "code",
   "execution_count": 8,
   "id": "a9be04bf-731c-435c-add8-6313196c8838",
   "metadata": {},
   "outputs": [],
   "source": [
    "# Fine-grained placeholder map \n",
    "# every key = placeholder, every value = list of substrings that may occur in column names\n",
    "\n",
    "### TODO: ADD TITLE, GESENDET_MIT LATER\n",
    "\n",
    "PLACEHOLDERS = {\n",
    "    \"TITEL\"         :  [\"TITEL\"],\n",
    "    \"VORNAME\"       :  [\"VORNAME\"],\n",
    "    \"NACHNAME\"      :  [\"NACHNAME\"],\n",
    "    \"FIRMA\"         :  [\"FIRMA\"],\n",
    "    \"TELEFONNUMMER\" :  [\"TELEFONNUMMER\"],\n",
    "    \"EMAIL\"         :  [\"EMAIL\"],\n",
    "    \"FAX\"           :  [\"FAX\"],\n",
    "    \"STRASSE\"       :  [\"STRASSE\"],\n",
    "    \"HAUSNUMMER\"    :  [\"HAUSNUMMER\"],\n",
    "    \"POSTLEITZAHL\"  :  [\"POSTLEITZAHL\",\"PLZ\",\"ZIP\"],\n",
    "    \"WOHNORT\"       :  [\"WOHNORT\",\"ORT\",\"CITY\"],\n",
    "    \"ZÄHLERNUMMER\"  :  [\"ZÄHLERNUMMER\",\"METER_ID\"],\n",
    "    \"ZÄHLERSTAND\"   :  [\"ZÄHLERSTAND\",\"METER_READING\"],\n",
    "    \"VERTRAGSNUMMER\":  [\"VERTRAGSNUMMER\",\"ANGEBOTSNUMMER\", \"KUNDENNUMMER\"],\n",
    "    \"ZAHLUNG\"       :  [\"BETRAG\",\"ZAHLUNG\",\"AMOUNT\"],\n",
    "    \"BANK\"          :  [\"BANK\"],\n",
    "    \"IBAN\"          :  [\"IBAN\"],\n",
    "    \"BIC\"           :  [\"BIC\"],\n",
    "    \"DATUM\"         :  [\"DATUM\",\"DATE\"],\n",
    "    \"GESENDET_MIT\"  :  [\"GESENDET_MIT\"],\n",
    "    \"LINK\"          :  [\"LINK\"]\n",
    "}\n"
   ]
  },
  {
   "cell_type": "code",
   "execution_count": 9,
   "id": "c6dd7b7f-d30b-4237-b4bf-781e606023ee",
   "metadata": {},
   "outputs": [],
   "source": [
    "# Defining helper functions\n",
    "def map_col(col: str) -> str | None:\n",
    "    \"\"\"Return <<PLACEHOLDER>> for a column header, else None.\"\"\"\n",
    "    up = col.upper()\n",
    "    for tag, keys in PLACEHOLDERS.items():\n",
    "        if any(k in up for k in keys):\n",
    "            return f\"<<{tag}>>\"\n",
    "    return None\n",
    "\n",
    "def extract_repls(row: pd.Series):\n",
    "    \"\"\"[(escaped literal, <<TAG>>), ...] sorted longest→shortest.\"\"\"\n",
    "    repl = []\n",
    "    for col, val in row.items():\n",
    "        if pd.isna(val):               # skip blanks\n",
    "            continue\n",
    "        ph = map_col(col)\n",
    "        if ph:\n",
    "            text_val = str(val).strip()\n",
    "            if text_val:\n",
    "                repl.append((re.escape(text_val), ph))\n",
    "    return sorted(repl, key=lambda x: len(x[0]), reverse=True)"
   ]
  },
  {
   "cell_type": "code",
   "execution_count": 10,
   "id": "6d8e8dab-9d62-4046-b3b4-e280eb4918d5",
   "metadata": {},
   "outputs": [
    {
     "name": "stdout",
     "output_type": "stream",
     "text": [
      "✓ anonymised templates written to data/golden_dataset_anonymized_granular\n"
     ]
    }
   ],
   "source": [
    "# Loading metadata & anonymizing mails\n",
    "meta = pd.read_excel(EXCEL, dtype=str)   # column \"TextFile\" must exist\n",
    "\n",
    "for _, row in meta.iterrows():\n",
    "    filename = row[\"TextFile\"]\n",
    "    raw_path = RAW_DIR / filename\n",
    "    if not raw_path.exists():\n",
    "        print(\"❌ missing:\", filename); continue\n",
    "\n",
    "    text = raw_path.read_text(encoding=\"utf-8\", errors=\"ignore\")\n",
    "\n",
    "    for pattern, placeholder in extract_repls(row):\n",
    "        text = re.sub(pattern, placeholder, text, flags=re.IGNORECASE)\n",
    "\n",
    "    (OUT_DIR / filename).write_text(text, encoding=\"utf-8\")\n",
    "\n",
    "print(\"✓ anonymised templates written to\", OUT_DIR)\n"
   ]
  },
  {
   "cell_type": "code",
   "execution_count": 13,
   "id": "9b56cad2-c056-4e89-99c4-d7f33c3ea68f",
   "metadata": {},
   "outputs": [
    {
     "name": "stdout",
     "output_type": "stream",
     "text": [
      "\n",
      "--- sanity-check sample: 28.txt ---\n",
      "\n",
      "Hallo, leider kann ich mich in mein Kundenkonto nicht einloggen\n",
      "Mit freundlichen Grüßen\n",
      "<<VORNAME>> <<NACHNAME>>\n",
      "<<GESENDET_MIT>>\n",
      "\n"
     ]
    }
   ],
   "source": [
    "# Quick visual sanity check \n",
    "sample = random.choice(list(OUT_DIR.glob(\"*.txt\")))\n",
    "print(\"\\n--- sanity-check sample:\", sample.name, \"---\\n\")\n",
    "print((OUT_DIR / sample.name).read_text()[:600])"
   ]
  },
  {
   "cell_type": "code",
   "execution_count": null,
   "id": "04d4821c-2ca9-4ed2-96d5-a4de4de5afb7",
   "metadata": {},
   "outputs": [],
   "source": [
    "\n"
   ]
  }
 ],
 "metadata": {
  "kernelspec": {
   "display_name": "Python 3",
   "language": "python",
   "name": "python3"
  },
  "language_info": {
   "codemirror_mode": {
    "name": "ipython",
    "version": 3
   },
   "file_extension": ".py",
   "mimetype": "text/x-python",
   "name": "python",
   "nbconvert_exporter": "python",
   "pygments_lexer": "ipython3",
   "version": "3.10.11"
  }
 },
 "nbformat": 4,
 "nbformat_minor": 5
}
