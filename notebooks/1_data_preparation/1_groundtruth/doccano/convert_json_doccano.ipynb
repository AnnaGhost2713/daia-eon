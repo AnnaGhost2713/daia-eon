{
 "cells": [
  {
   "metadata": {},
   "cell_type": "markdown",
   "source": [
    "# Convert to Doccano\n",
    "Input: JSON with spans. Output: Doccano JSONL."
   ],
   "id": "b54fbc8383173d32"
  },
  {
   "metadata": {},
   "cell_type": "code",
   "outputs": [],
   "execution_count": null,
   "source": [
    "import json\n",
    "\n",
    "# Lade dein JSON-Dokument\n",
    "with open(\"../../../../data/original/golden_dataset_with_spans_norm.json\", \"r\", encoding=\"utf-8\") as f:\n",
    "    data = json.load(f)\n",
    "\n",
    "# Konvertiere ins Doccano-Format\n",
    "doccano_data = []\n",
    "for entry in data:\n",
    "    doccano_entry = {\n",
    "        \"text\": entry[\"text\"],\n",
    "        \"label\": [[label[\"start\"], label[\"end\"], label[\"label\"]] for label in entry[\"labels\"]]\n",
    "    }\n",
    "    doccano_data.append(doccano_entry)\n",
    "\n",
    "# Schreibe zeilenweise JSONL-Datei für Doccano\n",
    "with open(\"../../../../data/original/doccano/doccano_input.json\", \"w\", encoding=\"utf-8\") as f:\n",
    "    for item in doccano_data:\n",
    "        json.dump(item, f, ensure_ascii=False)\n",
    "        f.write(\"\\n\")"
   ],
   "id": "26f0a0006ab81a30"
  }
 ],
 "metadata": {},
 "nbformat": 4,
 "nbformat_minor": 5
}
