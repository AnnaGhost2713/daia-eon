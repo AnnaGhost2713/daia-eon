{
 "cells": [
  {
   "metadata": {},
   "cell_type": "markdown",
   "source": [
    "# Doccano Setup\n",
    "Installs, initializes, creates admin, and starts the Doccano server."
   ],
   "id": "e3880bc4b7e58b5e"
  },
  {
   "metadata": {},
   "cell_type": "code",
   "outputs": [],
   "execution_count": null,
   "source": "%pip install doccano",
   "id": "d4fa2d307e1ba305"
  },
  {
   "metadata": {},
   "cell_type": "code",
   "outputs": [],
   "execution_count": null,
   "source": [
    "# with pyenv for instance\n",
    "%pyenv install 3.12.10\n",
    "%pyenv virtualenv 3.12.10 daia-eon\n",
    "%pyenv activate daia-eon\n",
    "%pip install --upgrade pip setuptools wheel\n",
    "%pip install doccano"
   ],
   "id": "138fe1b4481cbf6d"
  },
  {
   "metadata": {},
   "cell_type": "code",
   "outputs": [],
   "execution_count": null,
   "source": [
    "# Initialize database.\n",
    "doccano init\n",
    "# Create a super user.\n",
    "doccano createuser --username admin --password pass\n",
    "# Start a web server.\n",
    "doccano webserver --port 8000"
   ],
   "id": "81eab07fc517c3ae"
  }
 ],
 "metadata": {},
 "nbformat": 4,
 "nbformat_minor": 5
}
