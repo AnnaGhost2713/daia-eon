{
 "cells": [
  {
   "metadata": {},
   "cell_type": "code",
   "outputs": [],
   "execution_count": null,
   "source": "%pip install doccano",
   "id": "df986ebcc2085aa0"
  },
  {
   "metadata": {},
   "cell_type": "code",
   "outputs": [],
   "execution_count": null,
   "source": [
    "# with pyenv for instance\n",
    "%pyenv install 3.12.10\n",
    "%pyenv virtualenv 3.12.10 daia-eon\n",
    "%pyenv activate daia-eon\n",
    "%pip install --upgrade pip setuptools wheel\n",
    "%pip install doccano"
   ],
   "id": "2da64426b940ac4f"
  },
  {
   "metadata": {},
   "cell_type": "code",
   "outputs": [],
   "execution_count": null,
   "source": [
    "# Initialize database.\n",
    "doccano init\n",
    "# Create a super user.\n",
    "doccano createuser --username admin --password pass\n",
    "# Start a web server.\n",
    "doccano webserver --port 8000"
   ],
   "id": "f0d36329723d4ce1"
  }
 ],
 "metadata": {},
 "nbformat": 4,
 "nbformat_minor": 5
}
