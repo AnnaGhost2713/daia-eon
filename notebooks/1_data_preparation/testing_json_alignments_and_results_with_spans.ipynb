{
 "cells": [
  {
   "metadata": {},
   "cell_type": "markdown",
   "source": [
    "##  validate_alignment\n",
    "\n",
    "This function checks whether the annotated entity offsets in a JSON file align correctly with token boundaries in a spaCy `Doc`.\n",
    "It uses `offsets_to_biluo_tags` to detect misalignments that would cause errors during spaCy training.\n",
    "Misaligned spans are printed along with their file name and position."
   ],
   "id": "767738c6b4e25a1f"
  },
  {
   "metadata": {
    "ExecuteTime": {
     "end_time": "2025-07-31T10:22:22.432706Z",
     "start_time": "2025-07-31T10:22:22.345310Z"
    }
   },
   "cell_type": "code",
   "source": [
    "import json\n",
    "import spacy\n",
    "\n",
    "from spacy.training import offsets_to_biluo_tags\n",
    "from spacy.lang.de import German\n",
    "from pathlib import Path\n",
    "\n",
    "\n",
    "def validate_alignment(file_path):\n",
    "    \"\"\"\n",
    "    Checks whether the annotated entity offsets in a JSON file align correctly\n",
    "    with token boundaries in a spaCy Doc. Reports all entries where alignment fails.\n",
    "    \"\"\"\n",
    "\n",
    "    # Initialize a blank German tokenizer (no full pipeline needed for alignment check)\n",
    "    nlp = German()\n",
    "    file_path = Path(file_path)\n",
    "\n",
    "    # Load annotated JSON data\n",
    "    with file_path.open(\"r\", encoding=\"utf-8\") as f:\n",
    "        data = json.load(f)\n",
    "\n",
    "    total_files = len(data)\n",
    "    misaligned_files = 0\n",
    "\n",
    "    # Iterate through each annotated example\n",
    "    for entry in data:\n",
    "        text = entry[\"text\"]\n",
    "        labels_raw = entry.get(\"labels\", [])\n",
    "        labels = [(l[\"start\"], l[\"end\"], l[\"label\"]) for l in labels_raw]\n",
    "        doc = nlp.make_doc(text)\n",
    "\n",
    "        try:\n",
    "            # Convert offsets to BILUO tags to check alignment\n",
    "            tags = offsets_to_biluo_tags(doc, labels)\n",
    "        except Exception as e:\n",
    "            print(f\"Error in '{entry.get('file', 'unknown')}': {e}\")\n",
    "            continue\n",
    "\n",
    "        # If BILUO contains \"-\", at least one span is not alignable\n",
    "        if \"-\" in tags:\n",
    "            misaligned_files += 1\n",
    "            print(f\"\\nMisaligned labels in file {entry.get('file', 'unknown')}\")\n",
    "            for l in labels:\n",
    "                s, e, t = l\n",
    "                original = text[s:e].replace(\"\\n\", \"\\\\n\")\n",
    "                print(f\"  → {t}: '{original}' @ {s}-{e}\")\n",
    "\n",
    "     # Summary\n",
    "    print(\"Result:\")\n",
    "    print(f\"Total checked: {total_files}\")\n",
    "    print(f\"Misaligned: {misaligned_files}\")\n",
    "\n",
    "\n",
    "# Run validation\n",
    "validate_alignment(\"../../data/original/ground_truth.json\")"
   ],
   "id": "3d5375a6a55a77ff",
   "outputs": [
    {
     "name": "stdout",
     "output_type": "stream",
     "text": [
      "Result:\n",
      "Total checked: 160\n",
      "Misaligned: 0\n"
     ]
    }
   ],
   "execution_count": 5
  },
  {
   "metadata": {},
   "cell_type": "markdown",
   "source": [
    "## anonymize_file\n",
    "\n",
    "This function replaces all labeled entity spans in a JSON file with generic placeholders such as `[LABEL]`,\n",
    "producing a fully anonymized version of the input texts."
   ],
   "id": "d084fa02e9d79799"
  },
  {
   "cell_type": "code",
   "id": "initial_id",
   "metadata": {
    "collapsed": true,
    "ExecuteTime": {
     "end_time": "2025-07-31T10:27:29.303735Z",
     "start_time": "2025-07-31T10:27:29.291969Z"
    }
   },
   "source": [
    "import json\n",
    "from pathlib import Path\n",
    "\n",
    "\n",
    "def anonymize_file(input_path, output_path):\n",
    "    # Load the input JSON file\n",
    "    with open(input_path, \"r\", encoding=\"utf-8\") as f:\n",
    "        data = json.load(f)\n",
    "\n",
    "    anonymized_entries = []\n",
    "\n",
    "    for entry in data:\n",
    "        text = entry[\"text\"]\n",
    "        # Sort labels in reverse order to avoid offset shifting when replacing text\n",
    "        labels = sorted(entry[\"labels\"], key=lambda l: l[\"start\"], reverse=True)\n",
    "\n",
    "        # Replace each labeled span with a placeholder [LABEL]\n",
    "        for label in labels:\n",
    "            start, end = label[\"start\"], label[\"end\"]\n",
    "            placeholder = f\"[{label['label']}]\"\n",
    "            text = text[:start] + placeholder + text[end:]\n",
    "\n",
    "        # Store the anonymized version of the entry\n",
    "        anonymized_entries.append({\n",
    "            \"file\": entry[\"file\"],\n",
    "            \"anonymized_text\": text\n",
    "        })\n",
    "\n",
    "    # Save the anonymized entries to the output file\n",
    "    with open(output_path, \"w\", encoding=\"utf-8\") as f:\n",
    "        json.dump(anonymized_entries, f, ensure_ascii=False, indent=2)\n",
    "\n",
    "    print(f\"Anonymized file saved to: {output_path.resolve()}\")\n",
    "\n",
    "\n",
    "# File paths (depending on test)\n",
    "input_file = Path(\"../../data/original/ground_truth.json\")\n",
    "output_file = Path(\"../../data/original/ground_truth_anonymized.json\")\n",
    "\n",
    "# Run the anonymization\n",
    "anonymize_file(input_file, output_file)"
   ],
   "outputs": [
    {
     "name": "stdout",
     "output_type": "stream",
     "text": [
      "Anonymized file saved to: /Users/timonmartens/Library/CloudStorage/OneDrive-Persönlich/Desktop/Veranstaltungen/Data Analytics in Applications/daia-eon/data/original/ground_truth_anonymized.json\n"
     ]
    }
   ],
   "execution_count": 7
  }
 ],
 "metadata": {
  "kernelspec": {
   "display_name": "Python 3",
   "language": "python",
   "name": "python3"
  },
  "language_info": {
   "codemirror_mode": {
    "name": "ipython",
    "version": 2
   },
   "file_extension": ".py",
   "mimetype": "text/x-python",
   "name": "python",
   "nbconvert_exporter": "python",
   "pygments_lexer": "ipython2",
   "version": "2.7.6"
  }
 },
 "nbformat": 4,
 "nbformat_minor": 5
}
