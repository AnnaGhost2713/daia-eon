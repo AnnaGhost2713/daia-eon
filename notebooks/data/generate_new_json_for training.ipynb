{
 "cells": [
  {
   "cell_type": "code",
   "id": "initial_id",
   "metadata": {
    "collapsed": true,
    "ExecuteTime": {
     "end_time": "2025-07-03T08:42:10.914823Z",
     "start_time": "2025-07-03T08:42:10.906306Z"
    }
   },
   "source": [
    "import os\n",
    "import re\n",
    "import json\n",
    "import pandas as pd\n",
    "from pathlib import Path\n",
    "import re\n",
    "\n",
    "PLACEHOLDERS = {\n",
    "    \"TITEL\"         :  [\"TITEL\"],\n",
    "    \"VORNAME\"       :  [\"VORNAME\"],\n",
    "    \"NACHNAME\"      :  [\"NACHNAME\"],\n",
    "    \"FIRMA\"         :  [\"FIRMA\"],\n",
    "    \"TELEFONNUMMER\" :  [\"TELEFONNUMMER\"],\n",
    "    \"EMAIL\"         :  [\"EMAIL\"],\n",
    "    \"FAX\"           :  [\"FAX\"],\n",
    "    \"STRASSE\"       :  [\"STRASSE\"],\n",
    "    \"HAUSNUMMER\"    :  [\"HAUSNUMMER\"],\n",
    "    \"POSTLEITZAHL\"  :  [\"POSTLEITZAHL\",\"PLZ\",\"ZIP\"],\n",
    "    \"WOHNORT\"       :  [\"WOHNORT\",\"ORT\",\"CITY\"],\n",
    "    \"ZÄHLERNUMMER\"  :  [\"ZÄHLERNUMMER\",\"METER_ID\"],\n",
    "    \"ZÄHLERSTAND\"   :  [\"ZÄHLERSTAND\",\"METER_READING\"],\n",
    "    \"VERTRAGSNUMMER\":  [\"VERTRAGSNUMMER\",\"ANGEBOTSNUMMER\", \"KUNDENNUMMER\"],\n",
    "    \"ZAHLUNG\"       :  [\"BETRAG\",\"ZAHLUNG\",\"AMOUNT\"],\n",
    "    \"BANK\"          :  [\"BANK\"],\n",
    "    \"IBAN\"          :  [\"IBAN\"],\n",
    "    \"BIC\"           :  [\"BIC\"],\n",
    "    \"DATUM\"         :  [\"DATUM\",\"DATE\"],\n",
    "    \"GESENDET_MIT\"  :  [\"GESENDET_MIT\"],\n",
    "    \"LINK\"          :  [\"LINK\"]\n",
    "}\n",
    "\n",
    "def map_column_to_label(col_name):\n",
    "    upper_col = col_name.upper()\n",
    "    for label, keywords in PLACEHOLDERS.items():\n",
    "        for keyword in keywords:\n",
    "            if keyword in upper_col:\n",
    "                return label\n",
    "    return None\n",
    "\n",
    "def generate_piranha_training_data(df, email_folder_path, output_file_path):\n",
    "    training_data = []\n",
    "\n",
    "    for index, row in df.iterrows():\n",
    "        file_name = row[\"TextFile\"]\n",
    "        email_path = os.path.join(email_folder_path, file_name)\n",
    "\n",
    "        try:\n",
    "            with open(email_path, \"r\", encoding=\"utf-8\") as file:\n",
    "                text = file.read()\n",
    "        except FileNotFoundError:\n",
    "            print(f\"Datei nicht gefunden: {file_name}\")\n",
    "            continue\n",
    "\n",
    "        labels = []\n",
    "        for col in row.index:\n",
    "            if pd.isna(row[col]):\n",
    "                continue\n",
    "            label_type = map_column_to_label(col)\n",
    "            if label_type:\n",
    "\n",
    "                value = str(row[col]).strip()\n",
    "                if not value:\n",
    "                 continue  # ← verhindert leere Labels\n",
    "\n",
    "\n",
    "                # 🔧 Entferne .0 bei Excel-Zahlen\n",
    "                if value.endswith(\".0\"):\n",
    "                    try:\n",
    "                        value = str(int(float(value)))\n",
    "                    except ValueError:\n",
    "                        pass\n",
    "\n",
    "                # 🔧 Regex-Suchmuster vorbereiten (escaped, tolerant gegenüber Sonderzeichen)\n",
    "                pattern = re.escape(value)\n",
    "                match = re.search(pattern, text, re.IGNORECASE)\n",
    "\n",
    "                if match:\n",
    "                    start_idx = match.start()\n",
    "                    end_idx = match.end()\n",
    "                    labels.append({\"start\": start_idx, \"end\": end_idx, \"label\": label_type})\n",
    "                else:\n",
    "                    print(f\"Wert nicht gefunden: '{value}' in Datei {file_name}\")\n",
    "\n",
    "        training_data.append({\n",
    "            \"text\": text,\n",
    "            \"labels\": labels\n",
    "        })\n",
    "\n",
    "    with open(output_file_path, \"w\", encoding=\"utf-8\") as f:\n",
    "        json.dump(training_data, f, ensure_ascii=False, indent=2)\n",
    "\n",
    "    print(f\"Spacy-Trainingsdaten gespeichert unter: {output_file_path}\")\n",
    "\n"
   ],
   "outputs": [],
   "execution_count": 9
  },
  {
   "metadata": {
    "ExecuteTime": {
     "end_time": "2025-07-03T08:42:13.044674Z",
     "start_time": "2025-07-03T08:42:12.963030Z"
    }
   },
   "cell_type": "code",
   "source": [
    "# 📥 Excel laden und Funktion ausführen\n",
    "df = pd.read_excel(\"Daia_Manual_Labelling_granular.xlsx\", dtype=str)\n",
    "generate_piranha_training_data(\n",
    "    df,\n",
    "    \"../data/golden_dataset_original\",\n",
    "    \"./spacy_training_data.json\"\n",
    ")"
   ],
   "id": "44ef4fdcde7209bb",
   "outputs": [
    {
     "name": "stdout",
     "output_type": "stream",
     "text": [
      "Spacy-Trainingsdaten gespeichert unter: ./spacy_training_data.json\n"
     ]
    }
   ],
   "execution_count": 10
  }
 ],
 "metadata": {
  "kernelspec": {
   "display_name": "Python 3",
   "language": "python",
   "name": "python3"
  },
  "language_info": {
   "codemirror_mode": {
    "name": "ipython",
    "version": 2
   },
   "file_extension": ".py",
   "mimetype": "text/x-python",
   "name": "python",
   "nbconvert_exporter": "python",
   "pygments_lexer": "ipython2",
   "version": "2.7.6"
  }
 },
 "nbformat": 4,
 "nbformat_minor": 5
}
