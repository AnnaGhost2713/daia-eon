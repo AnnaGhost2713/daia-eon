{
  "cells": [
    {
      "cell_type": "code",
      "source": [
        "!git clone https://github.com/AnnaGhost2713/daia-eon.git\n",
        "%cd daia-eon/notebooks"
      ],
      "metadata": {
        "id": "MtFHCXEuP767",
        "outputId": "e82a3e66-439f-46d0-9e6a-aa2e14de9506",
        "colab": {
          "base_uri": "https://localhost:8080/"
        }
      },
      "id": "MtFHCXEuP767",
      "execution_count": 2,
      "outputs": [
        {
          "output_type": "stream",
          "name": "stdout",
          "text": [
            "fatal: destination path 'daia-eon' already exists and is not an empty directory.\n",
            "/content/daia-eon/notebooks\n"
          ]
        }
      ]
    },
    {
      "cell_type": "code",
      "source": [
        "# Firstly checking the frequencies for underrepresented tags\n",
        "# Data files we won't use for synthetic data generation (since these are preserved for the test data):\n",
        "# 0, 142, 2, 3, 146, 145, 157, 165, 19, 18, 20, 166, 176, 177, 32, 34, 40, 45, 52, 57, 61, 65, 66, 70, 71, 73, 75, 78, 81, 96, 102, 105, 108, 109, 112, 115, 122, 129, 132, 134\n",
        "\n",
        "import json\n",
        "from collections import Counter\n",
        "from pathlib import Path\n",
        "\n",
        "# 1) List your test filenames (add “.txt” as needed)\n",
        "test_ids = {0,142,2,3,146,145,157,165,19,18,20,\n",
        "            166,176,177,32,34,40,45,52,57,61,65,\n",
        "            66,70,71,73,75,78,81,96,102,105,108,\n",
        "            109,112,115,122,129,132,134}\n",
        "test_files = {f\"{i}.txt\" for i in test_ids}\n",
        "\n",
        "# 2) Load your JSON of original‐with‐spans\n",
        "records = json.loads(Path(\"data/original_with_spans.json\")\n",
        "                     .read_text(encoding=\"utf-8\"))\n",
        "\n",
        "# 3) Split into train vs. test\n",
        "train_recs = [r for r in records if r[\"file\"] not in test_files]\n",
        "test_recs  = [r for r in records if r[\"file\"] in test_files]\n",
        "\n",
        "print(f\"{len(train_recs)} training‐set emails, {len(test_recs)} test emails\")\n",
        "\n",
        "# 4) Compute tag frequencies **only on the training set**\n",
        "tag_counts = Counter(\n",
        "    lab[\"label\"]\n",
        "    for rec in train_recs\n",
        "    for lab in rec[\"labels\"]\n",
        ")\n",
        "\n",
        "# 5) See which tags are rare\n",
        "max_count = max(tag_counts.values())\n",
        "for tag, cnt in tag_counts.most_common():\n",
        "    print(f\"{tag:15s}: {cnt}   ({cnt/max_count:.2%} of max)\")\n",
        "\n"
      ],
      "metadata": {
        "id": "jVvJHpkEP9OK",
        "outputId": "5c75d306-0699-4998-8fd4-e27b514d44d6",
        "colab": {
          "base_uri": "https://localhost:8080/"
        }
      },
      "id": "jVvJHpkEP9OK",
      "execution_count": 3,
      "outputs": [
        {
          "output_type": "stream",
          "name": "stdout",
          "text": [
            "120 training‐set emails, 40 test emails\n",
            "NACHNAME       : 156   (100.00% of max)\n",
            "VORNAME        : 143   (91.67% of max)\n",
            "DATUM          : 69   (44.23% of max)\n",
            "STRASSE        : 58   (37.18% of max)\n",
            "VERTRAGSNUMMER : 57   (36.54% of max)\n",
            "WOHNORT        : 57   (36.54% of max)\n",
            "HAUSNUMMER     : 56   (35.90% of max)\n",
            "POSTLEITZAHL   : 55   (35.26% of max)\n",
            "ZÄHLERNUMMER   : 34   (21.79% of max)\n",
            "TELEFONNUMMER  : 25   (16.03% of max)\n",
            "GESENDET_MIT   : 20   (12.82% of max)\n",
            "FIRMA          : 17   (10.90% of max)\n",
            "ZAHLUNG        : 17   (10.90% of max)\n",
            "EMAIL          : 15   (9.62% of max)\n",
            "TITEL          : 13   (8.33% of max)\n",
            "LINK           : 10   (6.41% of max)\n",
            "ZÄHLERSTAND    : 9   (5.77% of max)\n",
            "FAX            : 3   (1.92% of max)\n",
            "IBAN           : 3   (1.92% of max)\n",
            "BANK           : 2   (1.28% of max)\n",
            "BIC            : 1   (0.64% of max)\n"
          ]
        }
      ]
    },
    {
      "cell_type": "code",
      "source": [
        "# Compute per record variant counts\n",
        "# For each training email, look at which labels it contains and take the rarest one (i.e. the one with the lowest frequency). Then set:\n",
        "# variants_for_email = ceil(max_count / freq_of_rarest_label)\n",
        "# That way an email carrying only BIC (freq = 1) will get 156 / 1 = 156 variants, whereas one with only NACHNAME (freq = 156) gets 156 / 156 = 1 variant. Mixed emails land in between.\n",
        "\n",
        "from math import ceil\n",
        "\n",
        "def n_variants_for(rec):\n",
        "    # find the frequency of each label in this record\n",
        "    freqs = [tag_counts[label[\"label\"]] for label in rec[\"labels\"]]\n",
        "    if not freqs:\n",
        "        return 1\n",
        "    rarest = min(freqs)\n",
        "    return ceil(max_count / rarest)"
      ],
      "metadata": {
        "id": "-CleTxDeYwDr"
      },
      "id": "-CleTxDeYwDr",
      "execution_count": 4,
      "outputs": []
    },
    {
      "cell_type": "code",
      "source": [
        "from math import ceil\n",
        "from collections import Counter\n",
        "import json\n",
        "from pathlib import Path\n",
        "\n",
        "# 1) load train records & your precomputed tag_counts\n",
        "records     = json.loads(Path(\"data/original_with_spans.json\").read_text())\n",
        "test_ids    = {0,142,2,3,146,145,157,165,19,18,20,\n",
        "            166,176,177,32,34,40,45,52,57,61,65,\n",
        "            66,70,71,73,75,78,81,96,102,105,108,\n",
        "            109,112,115,122,129,132,134}  # 40 test IDs\n",
        "train_recs  = [r for r in records if r[\"file\"] not in {f\"{i}.txt\" for i in test_ids}]\n",
        "tag_counts  = Counter(lab[\"label\"] for r in train_recs for lab in r[\"labels\"])\n",
        "max_count   = max(tag_counts.values())\n",
        "\n",
        "def n_variants_for(rec):\n",
        "    # frequencies of all labels in this record\n",
        "    freqs = [tag_counts[lab[\"label\"]] for lab in rec[\"labels\"]]\n",
        "    if not freqs:\n",
        "        return 1\n",
        "    rarest = min(freqs)\n",
        "    return ceil(max_count / rarest)\n",
        "\n",
        "# 2) preview a few\n",
        "for rec in train_recs[:5]:\n",
        "    n = n_variants_for(rec)\n",
        "    tags = {lab[\"label\"] for lab in rec[\"labels\"]}\n",
        "    print(f\"{rec['file']}: tags={tags}, variants={n}\")\n"
      ],
      "metadata": {
        "id": "YyXCk0KyZvgD",
        "outputId": "639277c6-f950-42c7-ef30-c47bda9f5a2d",
        "colab": {
          "base_uri": "https://localhost:8080/"
        }
      },
      "id": "YyXCk0KyZvgD",
      "execution_count": 5,
      "outputs": [
        {
          "output_type": "stream",
          "name": "stdout",
          "text": [
            "1.txt: tags={'VORNAME', 'POSTLEITZAHL', 'HAUSNUMMER', 'NACHNAME', 'WOHNORT', 'VERTRAGSNUMMER', 'STRASSE'}, variants=3\n",
            "4.txt: tags={'VORNAME', 'FIRMA', 'POSTLEITZAHL', 'HAUSNUMMER', 'FAX', 'NACHNAME', 'TELEFONNUMMER', 'WOHNORT', 'VERTRAGSNUMMER', 'ZÄHLERNUMMER', 'STRASSE'}, variants=52\n",
            "5.txt: tags={'VORNAME', 'NACHNAME', 'TELEFONNUMMER', 'VERTRAGSNUMMER', 'ZÄHLERNUMMER'}, variants=7\n",
            "6.txt: tags={'VORNAME', 'ZAHLUNG', 'POSTLEITZAHL', 'NACHNAME', 'DATUM', 'WOHNORT', 'VERTRAGSNUMMER', 'STRASSE'}, variants=10\n",
            "7.txt: tags={'VORNAME', 'HAUSNUMMER', 'DATUM', 'NACHNAME', 'VERTRAGSNUMMER', 'ZÄHLERNUMMER', 'STRASSE'}, variants=5\n"
          ]
        }
      ]
    },
    {
      "cell_type": "code",
      "source": [
        "### FULL PARAPHRASING GOING ON HERE\n",
        "\n",
        "# 0) (Re)install & imports\n",
        "!pip install -q transformers sentencepiece tqdm\n",
        "\n",
        "import re, time, json\n",
        "from math import ceil\n",
        "from pathlib import Path\n",
        "from collections import Counter\n",
        "from transformers import pipeline\n",
        "from tqdm.auto import tqdm\n",
        "\n",
        "# 1) Load MT pipelines with beam search on GPU\n",
        "de_en = pipeline(\"translation\",\n",
        "                 model=\"Helsinki-NLP/opus-mt-de-en\",\n",
        "                 device=0,\n",
        "                 do_sample=False, num_beams=5)\n",
        "en_de = pipeline(\"translation\",\n",
        "                 model=\"Helsinki-NLP/opus-mt-en-de\",\n",
        "                 device=0,\n",
        "                 do_sample=False, num_beams=5)\n",
        "\n",
        "# 2) Your back-translation + robust masking\n",
        "def backtranslate_preserve_tags(text: str) -> str:\n",
        "    tags     = re.findall(r\"(<<[^>]+>>)\", text)\n",
        "    mask_map = {tag: f\"[TAG{i}]\" for i, tag in enumerate(tags,1)}\n",
        "    masked   = text\n",
        "    for tag, m in mask_map.items():\n",
        "        masked = masked.replace(tag, m)\n",
        "    en = de_en(masked, max_length=512, truncation=True)[0][\"translation_text\"]\n",
        "    time.sleep(0.1)\n",
        "    de = en_de(en,    max_length=512, truncation=True)[0][\"translation_text\"]\n",
        "    time.sleep(0.1)\n",
        "    for tag, m in mask_map.items():\n",
        "        de = de.replace(m, tag)\n",
        "    return de\n",
        "\n",
        "# 3) Load your original-with-spans JSON & split train/test\n",
        "ALL_RECS = json.loads(Path(\"data/original_with_spans.json\")\n",
        "                      .read_text(encoding=\"utf-8\"))\n",
        "TEST_IDS = {0,142,2,3,146,145,157,165,19,18,20,\n",
        "            166,176,177,32,34,40,45,52,57,61,65,\n",
        "            66,70,71,73,75,78,81,96,102,105,108,\n",
        "            109,112,115,122,129,132,134}\n",
        "TEST_FILES = {f\"{i}.txt\" for i in TEST_IDS}\n",
        "\n",
        "train_recs = [r for r in ALL_RECS if r[\"file\"] not in TEST_FILES]\n",
        "\n",
        "# 4) Compute tag frequencies & max\n",
        "tag_counts = Counter(\n",
        "    lab[\"label\"]\n",
        "    for rec in train_recs\n",
        "    for lab in rec[\"labels\"]\n",
        ")\n",
        "max_count = max(tag_counts.values())\n",
        "\n",
        "# 5) Decide per-record variants\n",
        "def n_variants_for(rec):\n",
        "    freqs = [tag_counts[lab[\"label\"]] for lab in rec[\"labels\"]]\n",
        "    if not freqs:\n",
        "        return 1\n",
        "    rarest = min(freqs)\n",
        "    return ceil(max_count / rarest)\n",
        "\n",
        "# 6) Generate & save\n",
        "OUT = Path(\"data/synthetic_train.jsonl\")\n",
        "OUT.unlink(missing_ok=True)\n",
        "\n",
        "for rec in tqdm(train_recs, desc=\"Generating synthetics\"):\n",
        "    text = rec[\"text\"]\n",
        "    n    = n_variants_for(rec)\n",
        "    for i in range(1, n+1):\n",
        "        para = backtranslate_preserve_tags(text)\n",
        "        out = {\"src\":rec[\"file\"],\"variant\":i,\"text\":para}\n",
        "        with OUT.open(\"a\", encoding=\"utf-8\") as f:\n",
        "            f.write(json.dumps(out, ensure_ascii=False) + \"\\n\")\n",
        "\n",
        "print(f\"✓ Done: wrote synthetic variants to {OUT}\")\n"
      ],
      "metadata": {
        "id": "3h0hk4ysRbTS",
        "outputId": "fdddf968-3faa-48a0-9ce2-17e9cdd5314f",
        "colab": {
          "base_uri": "https://localhost:8080/",
          "height": 406,
          "referenced_widgets": [
            "ef41bc871b614680b000e5150744a9f7",
            "a7ee06a3f079491090107973d10f3c68",
            "54635c02310b4474a72f716b379ab2b2",
            "bf43e15ee8cb4d7a8d8461fb291400a9",
            "f6a2a9d482104e2e9b2d35a71da4c7b4",
            "e4815c1ad2d44694a61bb75ba4b6b5d9",
            "e46a7228f80b499684924557a48d84fb",
            "6dd1be7d9cd041238597c9247eaf28d3",
            "b06a2fd78b7d476eae85ff649744f5b3",
            "a3587e0746304b3f854ae01b2b9dcad1",
            "666a61473948430c91f3633bf2a0e4c9"
          ]
        }
      },
      "id": "3h0hk4ysRbTS",
      "execution_count": 6,
      "outputs": [
        {
          "metadata": {
            "tags": null
          },
          "name": "stderr",
          "output_type": "stream",
          "text": [
            "Device set to use cuda:0\n",
            "Device set to use cuda:0\n"
          ]
        },
        {
          "data": {
            "application/vnd.jupyter.widget-view+json": {
              "model_id": "ef41bc871b614680b000e5150744a9f7",
              "version_major": 2,
              "version_minor": 0
            },
            "text/plain": [
              "Generating synthetics:   0%|          | 0/120 [00:00<?, ?it/s]"
            ]
          },
          "metadata": {},
          "output_type": "display_data"
        },
        {
          "metadata": {
            "tags": null
          },
          "name": "stderr",
          "output_type": "stream",
          "text": [
            "You seem to be using the pipelines sequentially on GPU. In order to maximize efficiency please use a dataset\n",
            "Your input_length: 504 is bigger than 0.9 * max_length: 512. You might consider increasing your max_length manually, e.g. translator('...', max_length=400)\n",
            "Your input_length: 504 is bigger than 0.9 * max_length: 512. You might consider increasing your max_length manually, e.g. translator('...', max_length=400)\n",
            "Your input_length: 504 is bigger than 0.9 * max_length: 512. You might consider increasing your max_length manually, e.g. translator('...', max_length=400)\n",
            "Your input_length: 504 is bigger than 0.9 * max_length: 512. You might consider increasing your max_length manually, e.g. translator('...', max_length=400)\n",
            "Your input_length: 504 is bigger than 0.9 * max_length: 512. You might consider increasing your max_length manually, e.g. translator('...', max_length=400)\n",
            "Your input_length: 504 is bigger than 0.9 * max_length: 512. You might consider increasing your max_length manually, e.g. translator('...', max_length=400)\n",
            "Your input_length: 504 is bigger than 0.9 * max_length: 512. You might consider increasing your max_length manually, e.g. translator('...', max_length=400)\n",
            "Your input_length: 504 is bigger than 0.9 * max_length: 512. You might consider increasing your max_length manually, e.g. translator('...', max_length=400)\n",
            "Your input_length: 504 is bigger than 0.9 * max_length: 512. You might consider increasing your max_length manually, e.g. translator('...', max_length=400)\n",
            "Your input_length: 504 is bigger than 0.9 * max_length: 512. You might consider increasing your max_length manually, e.g. translator('...', max_length=400)\n",
            "Your input_length: 504 is bigger than 0.9 * max_length: 512. You might consider increasing your max_length manually, e.g. translator('...', max_length=400)\n",
            "Your input_length: 504 is bigger than 0.9 * max_length: 512. You might consider increasing your max_length manually, e.g. translator('...', max_length=400)\n",
            "Your input_length: 504 is bigger than 0.9 * max_length: 512. You might consider increasing your max_length manually, e.g. translator('...', max_length=400)\n",
            "Your input_length: 504 is bigger than 0.9 * max_length: 512. You might consider increasing your max_length manually, e.g. translator('...', max_length=400)\n",
            "Your input_length: 504 is bigger than 0.9 * max_length: 512. You might consider increasing your max_length manually, e.g. translator('...', max_length=400)\n",
            "Your input_length: 504 is bigger than 0.9 * max_length: 512. You might consider increasing your max_length manually, e.g. translator('...', max_length=400)\n"
          ]
        },
        {
          "output_type": "stream",
          "name": "stdout",
          "text": [
            "✓ Done: wrote synthetic variants to data/synthetic_train.jsonl\n"
          ]
        }
      ]
    },
    {
      "cell_type": "code",
      "source": [],
      "metadata": {
        "id": "t9XnaLXkTV3l"
      },
      "id": "t9XnaLXkTV3l",
      "execution_count": null,
      "outputs": []
    }
  ],
  "metadata": {
    "kernelspec": {
      "display_name": "Python 3",
      "name": "python3"
    },
    "language_info": {
      "codemirror_mode": {
        "name": "ipython",
        "version": 3
      },
      "file_extension": ".py",
      "mimetype": "text/x-python",
      "name": "python",
      "nbconvert_exporter": "python",
      "pygments_lexer": "ipython3",
      "version": "3.10.11"
    },
    "colab": {
      "provenance": [],
      "gpuType": "T4"
    },
    "accelerator": "GPU",
    "widgets": {
      "application/vnd.jupyter.widget-state+json": {
        "ef41bc871b614680b000e5150744a9f7": {
          "model_module": "@jupyter-widgets/controls",
          "model_name": "HBoxModel",
          "model_module_version": "1.5.0",
          "state": {
            "_dom_classes": [],
            "_model_module": "@jupyter-widgets/controls",
            "_model_module_version": "1.5.0",
            "_model_name": "HBoxModel",
            "_view_count": null,
            "_view_module": "@jupyter-widgets/controls",
            "_view_module_version": "1.5.0",
            "_view_name": "HBoxView",
            "box_style": "",
            "children": [
              "IPY_MODEL_a7ee06a3f079491090107973d10f3c68",
              "IPY_MODEL_54635c02310b4474a72f716b379ab2b2",
              "IPY_MODEL_bf43e15ee8cb4d7a8d8461fb291400a9"
            ],
            "layout": "IPY_MODEL_f6a2a9d482104e2e9b2d35a71da4c7b4"
          }
        },
        "a7ee06a3f079491090107973d10f3c68": {
          "model_module": "@jupyter-widgets/controls",
          "model_name": "HTMLModel",
          "model_module_version": "1.5.0",
          "state": {
            "_dom_classes": [],
            "_model_module": "@jupyter-widgets/controls",
            "_model_module_version": "1.5.0",
            "_model_name": "HTMLModel",
            "_view_count": null,
            "_view_module": "@jupyter-widgets/controls",
            "_view_module_version": "1.5.0",
            "_view_name": "HTMLView",
            "description": "",
            "description_tooltip": null,
            "layout": "IPY_MODEL_e4815c1ad2d44694a61bb75ba4b6b5d9",
            "placeholder": "​",
            "style": "IPY_MODEL_e46a7228f80b499684924557a48d84fb",
            "value": "Generating synthetics: 100%"
          }
        },
        "54635c02310b4474a72f716b379ab2b2": {
          "model_module": "@jupyter-widgets/controls",
          "model_name": "FloatProgressModel",
          "model_module_version": "1.5.0",
          "state": {
            "_dom_classes": [],
            "_model_module": "@jupyter-widgets/controls",
            "_model_module_version": "1.5.0",
            "_model_name": "FloatProgressModel",
            "_view_count": null,
            "_view_module": "@jupyter-widgets/controls",
            "_view_module_version": "1.5.0",
            "_view_name": "ProgressView",
            "bar_style": "success",
            "description": "",
            "description_tooltip": null,
            "layout": "IPY_MODEL_6dd1be7d9cd041238597c9247eaf28d3",
            "max": 120,
            "min": 0,
            "orientation": "horizontal",
            "style": "IPY_MODEL_b06a2fd78b7d476eae85ff649744f5b3",
            "value": 120
          }
        },
        "bf43e15ee8cb4d7a8d8461fb291400a9": {
          "model_module": "@jupyter-widgets/controls",
          "model_name": "HTMLModel",
          "model_module_version": "1.5.0",
          "state": {
            "_dom_classes": [],
            "_model_module": "@jupyter-widgets/controls",
            "_model_module_version": "1.5.0",
            "_model_name": "HTMLModel",
            "_view_count": null,
            "_view_module": "@jupyter-widgets/controls",
            "_view_module_version": "1.5.0",
            "_view_name": "HTMLView",
            "description": "",
            "description_tooltip": null,
            "layout": "IPY_MODEL_a3587e0746304b3f854ae01b2b9dcad1",
            "placeholder": "​",
            "style": "IPY_MODEL_666a61473948430c91f3633bf2a0e4c9",
            "value": " 120/120 [38:42&lt;00:00, 35.46s/it]"
          }
        },
        "f6a2a9d482104e2e9b2d35a71da4c7b4": {
          "model_module": "@jupyter-widgets/base",
          "model_name": "LayoutModel",
          "model_module_version": "1.2.0",
          "state": {
            "_model_module": "@jupyter-widgets/base",
            "_model_module_version": "1.2.0",
            "_model_name": "LayoutModel",
            "_view_count": null,
            "_view_module": "@jupyter-widgets/base",
            "_view_module_version": "1.2.0",
            "_view_name": "LayoutView",
            "align_content": null,
            "align_items": null,
            "align_self": null,
            "border": null,
            "bottom": null,
            "display": null,
            "flex": null,
            "flex_flow": null,
            "grid_area": null,
            "grid_auto_columns": null,
            "grid_auto_flow": null,
            "grid_auto_rows": null,
            "grid_column": null,
            "grid_gap": null,
            "grid_row": null,
            "grid_template_areas": null,
            "grid_template_columns": null,
            "grid_template_rows": null,
            "height": null,
            "justify_content": null,
            "justify_items": null,
            "left": null,
            "margin": null,
            "max_height": null,
            "max_width": null,
            "min_height": null,
            "min_width": null,
            "object_fit": null,
            "object_position": null,
            "order": null,
            "overflow": null,
            "overflow_x": null,
            "overflow_y": null,
            "padding": null,
            "right": null,
            "top": null,
            "visibility": null,
            "width": null
          }
        },
        "e4815c1ad2d44694a61bb75ba4b6b5d9": {
          "model_module": "@jupyter-widgets/base",
          "model_name": "LayoutModel",
          "model_module_version": "1.2.0",
          "state": {
            "_model_module": "@jupyter-widgets/base",
            "_model_module_version": "1.2.0",
            "_model_name": "LayoutModel",
            "_view_count": null,
            "_view_module": "@jupyter-widgets/base",
            "_view_module_version": "1.2.0",
            "_view_name": "LayoutView",
            "align_content": null,
            "align_items": null,
            "align_self": null,
            "border": null,
            "bottom": null,
            "display": null,
            "flex": null,
            "flex_flow": null,
            "grid_area": null,
            "grid_auto_columns": null,
            "grid_auto_flow": null,
            "grid_auto_rows": null,
            "grid_column": null,
            "grid_gap": null,
            "grid_row": null,
            "grid_template_areas": null,
            "grid_template_columns": null,
            "grid_template_rows": null,
            "height": null,
            "justify_content": null,
            "justify_items": null,
            "left": null,
            "margin": null,
            "max_height": null,
            "max_width": null,
            "min_height": null,
            "min_width": null,
            "object_fit": null,
            "object_position": null,
            "order": null,
            "overflow": null,
            "overflow_x": null,
            "overflow_y": null,
            "padding": null,
            "right": null,
            "top": null,
            "visibility": null,
            "width": null
          }
        },
        "e46a7228f80b499684924557a48d84fb": {
          "model_module": "@jupyter-widgets/controls",
          "model_name": "DescriptionStyleModel",
          "model_module_version": "1.5.0",
          "state": {
            "_model_module": "@jupyter-widgets/controls",
            "_model_module_version": "1.5.0",
            "_model_name": "DescriptionStyleModel",
            "_view_count": null,
            "_view_module": "@jupyter-widgets/base",
            "_view_module_version": "1.2.0",
            "_view_name": "StyleView",
            "description_width": ""
          }
        },
        "6dd1be7d9cd041238597c9247eaf28d3": {
          "model_module": "@jupyter-widgets/base",
          "model_name": "LayoutModel",
          "model_module_version": "1.2.0",
          "state": {
            "_model_module": "@jupyter-widgets/base",
            "_model_module_version": "1.2.0",
            "_model_name": "LayoutModel",
            "_view_count": null,
            "_view_module": "@jupyter-widgets/base",
            "_view_module_version": "1.2.0",
            "_view_name": "LayoutView",
            "align_content": null,
            "align_items": null,
            "align_self": null,
            "border": null,
            "bottom": null,
            "display": null,
            "flex": null,
            "flex_flow": null,
            "grid_area": null,
            "grid_auto_columns": null,
            "grid_auto_flow": null,
            "grid_auto_rows": null,
            "grid_column": null,
            "grid_gap": null,
            "grid_row": null,
            "grid_template_areas": null,
            "grid_template_columns": null,
            "grid_template_rows": null,
            "height": null,
            "justify_content": null,
            "justify_items": null,
            "left": null,
            "margin": null,
            "max_height": null,
            "max_width": null,
            "min_height": null,
            "min_width": null,
            "object_fit": null,
            "object_position": null,
            "order": null,
            "overflow": null,
            "overflow_x": null,
            "overflow_y": null,
            "padding": null,
            "right": null,
            "top": null,
            "visibility": null,
            "width": null
          }
        },
        "b06a2fd78b7d476eae85ff649744f5b3": {
          "model_module": "@jupyter-widgets/controls",
          "model_name": "ProgressStyleModel",
          "model_module_version": "1.5.0",
          "state": {
            "_model_module": "@jupyter-widgets/controls",
            "_model_module_version": "1.5.0",
            "_model_name": "ProgressStyleModel",
            "_view_count": null,
            "_view_module": "@jupyter-widgets/base",
            "_view_module_version": "1.2.0",
            "_view_name": "StyleView",
            "bar_color": null,
            "description_width": ""
          }
        },
        "a3587e0746304b3f854ae01b2b9dcad1": {
          "model_module": "@jupyter-widgets/base",
          "model_name": "LayoutModel",
          "model_module_version": "1.2.0",
          "state": {
            "_model_module": "@jupyter-widgets/base",
            "_model_module_version": "1.2.0",
            "_model_name": "LayoutModel",
            "_view_count": null,
            "_view_module": "@jupyter-widgets/base",
            "_view_module_version": "1.2.0",
            "_view_name": "LayoutView",
            "align_content": null,
            "align_items": null,
            "align_self": null,
            "border": null,
            "bottom": null,
            "display": null,
            "flex": null,
            "flex_flow": null,
            "grid_area": null,
            "grid_auto_columns": null,
            "grid_auto_flow": null,
            "grid_auto_rows": null,
            "grid_column": null,
            "grid_gap": null,
            "grid_row": null,
            "grid_template_areas": null,
            "grid_template_columns": null,
            "grid_template_rows": null,
            "height": null,
            "justify_content": null,
            "justify_items": null,
            "left": null,
            "margin": null,
            "max_height": null,
            "max_width": null,
            "min_height": null,
            "min_width": null,
            "object_fit": null,
            "object_position": null,
            "order": null,
            "overflow": null,
            "overflow_x": null,
            "overflow_y": null,
            "padding": null,
            "right": null,
            "top": null,
            "visibility": null,
            "width": null
          }
        },
        "666a61473948430c91f3633bf2a0e4c9": {
          "model_module": "@jupyter-widgets/controls",
          "model_name": "DescriptionStyleModel",
          "model_module_version": "1.5.0",
          "state": {
            "_model_module": "@jupyter-widgets/controls",
            "_model_module_version": "1.5.0",
            "_model_name": "DescriptionStyleModel",
            "_view_count": null,
            "_view_module": "@jupyter-widgets/base",
            "_view_module_version": "1.2.0",
            "_view_name": "StyleView",
            "description_width": ""
          }
        }
      }
    }
  },
  "nbformat": 4,
  "nbformat_minor": 5
}