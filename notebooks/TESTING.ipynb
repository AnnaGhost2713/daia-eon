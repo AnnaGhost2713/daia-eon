{
 "cells": [
  {
   "metadata": {
    "ExecuteTime": {
     "end_time": "2025-06-12T15:40:31.917187Z",
     "start_time": "2025-06-12T15:40:31.908530Z"
    }
   },
   "cell_type": "code",
   "source": [
    "import json\n",
    "\n",
    "def anonymize_from_labels(data):\n",
    "    anonymized_results = []\n",
    "\n",
    "    for entry in data:\n",
    "        text = entry[\"text\"]\n",
    "        labels = entry.get(\"labels\", [])\n",
    "\n",
    "        # Labels nach Startposition rückwärts sortieren, damit Ersetzungen stabil bleiben\n",
    "        labels_sorted = sorted(labels, key=lambda l: l[\"start\"], reverse=True)\n",
    "\n",
    "        for label in labels_sorted:\n",
    "            start = label[\"start\"]\n",
    "            end = label[\"end\"]\n",
    "            label_type = label[\"label\"]\n",
    "            if start < end and end <= len(text):\n",
    "                text = text[:start] + f\"<{label_type}>\" + text[end:]\n",
    "\n",
    "        anonymized_results.append(text)\n",
    "\n",
    "    return anonymized_results\n",
    "\n",
    "# JSON-Datei laden\n",
    "with open(\"../data/piranha_training_data.json\", \"r\", encoding=\"utf-8\") as f:\n",
    "    data = json.load(f)\n",
    "\n",
    "# Anonymisieren\n",
    "anonymized_texts = anonymize_from_labels(data)\n",
    "\n",
    "# Speichern der anonymisierten E-Mails in eine Textdatei\n",
    "with open(\"anonymized_emails.txt\", \"w\", encoding=\"utf-8\") as out_file:\n",
    "    for i, text in enumerate(anonymized_texts):\n",
    "        out_file.write(f\"\\n--- E-Mail {i+1} ---\\n{text}\\n\")\n",
    "\n",
    "print(\"Alle anonymisierten E-Mails wurden in 'anonymized_emails.txt' gespeichert.\")\n"
   ],
   "id": "d33d1bb77136caec",
   "outputs": [
    {
     "name": "stdout",
     "output_type": "stream",
     "text": [
      "Alle anonymisierten E-Mails wurden in 'anonymized_emails.txt' gespeichert.\n"
     ]
    }
   ],
   "execution_count": 52
  },
  {
   "metadata": {
    "ExecuteTime": {
     "end_time": "2025-06-12T15:39:34.959529Z",
     "start_time": "2025-06-12T15:39:34.952451Z"
    }
   },
   "cell_type": "code",
   "source": [
    "with open(\"../data/piranha_training_data.json\", \"r\", encoding=\"utf-8\") as f:\n",
    "    data = json.load(f)\n",
    "\n",
    "anonymized_texts = anonymize_from_labels(data)\n",
    "\n",
    "# Beispielausgabe\n",
    "for i, anon in enumerate(anonymized_texts[:3]):\n",
    "    print(f\"\\n--- E-Mail {i+1} ---\\n\")\n",
    "    print(anon)\n"
   ],
   "id": "a5e91f03c638502d",
   "outputs": [
    {
     "name": "stdout",
     "output_type": "stream",
     "text": [
      "\n",
      "--- E-Mail 1 ---\n",
      "\n",
      "Wie angefordert der Kontoauszug. Abbuchung Euro <ZAHLUNG>.\n",
      "<KONTAKT>\n",
      "<KONTAKT>\n",
      "\n",
      "\n",
      "--- E-Mail 2 ---\n",
      "\n",
      "Hallo liebes Eon Team,\n",
      "es geht um die Vertragsnummer <VERTRAG>SSE>7919.\n",
      "Bei der Einrichtung meines neuen Vertrages wurde leider die Überweisung als\n",
      "Zahlungsart gewählt von dem jungen Kollegen an der Wohnungstür. Ich würde\n",
      "es gerne wieder per Lastschrift abbuchen lassen, um mir den Stress zu\n",
      "ersparen.\n",
      "Verbraucherstelle ist weiterhin die <ADRESSE> 2 in <ADRESSE> <ADRESSE>.\n",
      "Gruß <NAME> <NAME>\n",
      "\n",
      "\n",
      "--- E-Mail 3 ---\n",
      "\n",
      "Sehr geehrte Damen und Herren,\n",
      "leider wurde mein Abschlag den ich für <DATUM>> überwiesen habe für den Abschlag für <DATUM> verrechnet.\n",
      "Wie schon mindesten 10 mal von mir berichtet, habe ich den Abschlag von<ZAHLUNG> für Juni auf das Konto das in mein e-on angegeben ist überwiesen,<ZAHLUNG>.\n",
      "Sie müssten nur den Betrag umbuchen auf <ZAHLUNG>.\n",
      "Ich bitte Sie dies zu machen, weil ich sonst wieder eine Zahlungserinnerung für August bekomme.\n",
      "Mit freundichen Grüssen\n",
      "<NAME> <NAME> <NAME>\n",
      "l\n",
      "\n"
     ]
    }
   ],
   "execution_count": 51
  }
 ],
 "metadata": {
  "kernelspec": {
   "display_name": "Python 3",
   "language": "python",
   "name": "python3"
  },
  "language_info": {
   "codemirror_mode": {
    "name": "ipython",
    "version": 2
   },
   "file_extension": ".py",
   "mimetype": "text/x-python",
   "name": "python",
   "nbconvert_exporter": "python",
   "pygments_lexer": "ipython2",
   "version": "2.7.6"
  }
 },
 "nbformat": 4,
 "nbformat_minor": 5
}
