{
 "cells": [
  {
   "metadata": {
    "ExecuteTime": {
     "end_time": "2025-06-12T15:09:54.069794Z",
     "start_time": "2025-06-12T15:09:54.033550Z"
    }
   },
   "cell_type": "code",
   "source": [
    "import pandas as pd\n",
    "from pathlib import Path\n",
    "\n",
    "df = pd.read_excel(Path(\"../data/DAiA Manual Labeling.xlsx\"))\n"
   ],
   "id": "3ba28de33a9b51da",
   "outputs": [],
   "execution_count": 29
  },
  {
   "metadata": {
    "ExecuteTime": {
     "end_time": "2025-06-12T15:09:54.941650Z",
     "start_time": "2025-06-12T15:09:54.936194Z"
    }
   },
   "cell_type": "code",
   "source": [
    "import json\n",
    "\n",
    "with open(\"../data/piranha_training_data.json\", \"r\", encoding=\"utf-8\") as f:\n",
    "    training_data = json.load(f)\n"
   ],
   "id": "aeb5c01d7a264cde",
   "outputs": [],
   "execution_count": 30
  },
  {
   "metadata": {
    "ExecuteTime": {
     "end_time": "2025-06-12T15:09:55.942971Z",
     "start_time": "2025-06-12T15:09:55.937920Z"
    }
   },
   "cell_type": "code",
   "source": [
    "result_df.to_csv(\"label_fund_analyse.csv\", index=False, encoding=\"utf-8\")\n",
    "print(\"Analyse gespeichert unter: label_fund_analyse.csv\")\n"
   ],
   "id": "6e46b099baeb8f44",
   "outputs": [
    {
     "name": "stdout",
     "output_type": "stream",
     "text": [
      "Analyse gespeichert unter: label_fund_analyse.csv\n"
     ]
    }
   ],
   "execution_count": 31
  },
  {
   "metadata": {
    "ExecuteTime": {
     "end_time": "2025-06-12T15:17:17.458788Z",
     "start_time": "2025-06-12T15:17:17.410958Z"
    }
   },
   "cell_type": "code",
   "source": [
    "import pandas as pd\n",
    "import json\n",
    "from pathlib import Path\n",
    "\n",
    "# Mappingfunktion aus deinem ursprünglichen Code\n",
    "GROUPED_PLACEHOLDERS = {\n",
    "    \"NAME\": [\"TITEL\", \"VORNAME\", \"NACHNAME\", \"SKYPE\"],\n",
    "    \"ADRESSE\": [\"STRASSE\", \"HAUSNUMMER\", \"POSTLEITZAHL\", \"WOHNORT\"],\n",
    "    \"VERTRAG\": [\"VERTRAGSNUMMER\", \"KUNDENNUMMER\", \"ZUORDNUNGSNUMMER\"],\n",
    "    \"ZAHLUNG\": [\"ZAHLUNG\", \"IBAN\", \"BIC\"],\n",
    "    \"TECHNISCHE_DATEN\": [\"ZÄHLERSTAND\", \"ZÄHLERNUMMER\", \"VERBRAUCH\", \"WLV\"],\n",
    "    \"KONTAKT\": [\"TELEFONNUMMER\", \"EMAIL\", \"MAIL\", \"LINK\", \"GESENDET_MIT\", \"FIRMENDATEN\", \"FAX\"],\n",
    "    \"FIRMA\": [\"FIRMA\"],\n",
    "    \"DATUM\": [\"DATUM\"]\n",
    "}\n",
    "\n",
    "def map_column_to_label(col_name):\n",
    "    upper_col = col_name.upper()\n",
    "    for label, keywords in GROUPED_PLACEHOLDERS.items():\n",
    "        for keyword in keywords:\n",
    "            if keyword in upper_col:\n",
    "                return label\n",
    "    return None\n",
    "\n",
    "def extract_missing_entries(df, training_data):\n",
    "    missing_entries = []\n",
    "\n",
    "    for i, row in df.iterrows():\n",
    "        textfile = row[\"TextFile\"]\n",
    "        text_entry = training_data[i]\n",
    "        text = text_entry[\"text\"].lower()\n",
    "\n",
    "        for col in row.index:\n",
    "            if pd.isna(row[col]) or col == \"TextFile\":\n",
    "                continue\n",
    "\n",
    "            expected_value = str(row[col]).strip()\n",
    "\n",
    "            # 🛠️ Saubere Entfernung von .0-Endungen (z. B. aus Excel-Zahlen)\n",
    "            if expected_value.endswith(\".0\"):\n",
    "                try:\n",
    "                    expected_value = str(int(float(expected_value)))\n",
    "                except ValueError:\n",
    "                    pass\n",
    "\n",
    "            expected_lower = expected_value.lower()\n",
    "            label_type = map_column_to_label(col)\n",
    "\n",
    "            if label_type and expected_lower not in text:\n",
    "                missing_entries.append({\n",
    "                    \"TextFile\": textfile,\n",
    "                    \"LabelType\": label_type,\n",
    "                    \"Column\": col,\n",
    "                    \"ExpectedValue\": expected_value\n",
    "        })\n",
    "\n",
    "    return pd.DataFrame(missing_entries)\n",
    "\n",
    "# Lade Daten\n",
    "excel_path = Path(\"../data/DAiA Manual Labeling.xlsx\")  # oder deine konkrete Datei\n",
    "json_path = Path(\"../data/piranha_training_data.json\")\n",
    "\n",
    "df = pd.read_excel(excel_path)\n",
    "with open(json_path, \"r\", encoding=\"utf-8\") as f:\n",
    "    training_data = json.load(f)\n",
    "\n",
    "# Analyse durchführen\n",
    "missing_df = extract_missing_entries(df, training_data)\n",
    "\n",
    "# Ausgabe oder Export\n",
    "print(missing_df.head())  # Optional anzeigen\n",
    "missing_df.to_csv(\"fehlende_labels.csv\", index=False, encoding=\"utf-8\")\n",
    "print(\"Fehlende Labels gespeichert unter: fehlende_labels.csv\")\n"
   ],
   "id": "40c95bfe70304f0a",
   "outputs": [
    {
     "name": "stdout",
     "output_type": "stream",
     "text": [
      "Empty DataFrame\n",
      "Columns: []\n",
      "Index: []\n",
      "Fehlende Labels gespeichert unter: fehlende_labels.csv\n"
     ]
    }
   ],
   "execution_count": 43
  },
  {
   "cell_type": "code",
   "id": "initial_id",
   "metadata": {
    "collapsed": true,
    "ExecuteTime": {
     "end_time": "2025-06-12T14:46:04.185880Z",
     "start_time": "2025-06-12T14:46:04.178959Z"
    }
   },
   "source": [
    "import pandas as pd\n",
    "\n",
    "def analyze_label_success(df, training_data):\n",
    "    results = []\n",
    "\n",
    "    for i, row in df.iterrows():\n",
    "        textfile = row[\"TextFile\"]\n",
    "        text_entry = training_data[i]\n",
    "        text = text_entry[\"text\"].lower()\n",
    "        found_labels = set()\n",
    "        missing_labels = []\n",
    "\n",
    "        for col in row.index:\n",
    "            if pd.isna(row[col]) or col == \"TextFile\":\n",
    "                continue\n",
    "\n",
    "            expected_value = str(row[col]).strip()\n",
    "            expected_lower = expected_value.lower()\n",
    "            matched = expected_lower in text\n",
    "\n",
    "            label_type = map_column_to_label(col)\n",
    "            if label_type is None:\n",
    "                continue\n",
    "\n",
    "            if matched:\n",
    "                found_labels.add(label_type)\n",
    "            else:\n",
    "                missing_labels.append({\"column\": col, \"label\": label_type, \"value\": expected_value})\n",
    "\n",
    "        results.append({\n",
    "            \"TextFile\": textfile,\n",
    "            \"FoundLabels\": sorted(found_labels),\n",
    "            \"MissingLabels\": [m[\"label\"] for m in missing_labels],\n",
    "            \"MissingDetails\": missing_labels\n",
    "        })\n",
    "\n",
    "    return pd.DataFrame(results)\n"
   ],
   "outputs": [],
   "execution_count": 9
  }
 ],
 "metadata": {
  "kernelspec": {
   "display_name": "Python 3",
   "language": "python",
   "name": "python3"
  },
  "language_info": {
   "codemirror_mode": {
    "name": "ipython",
    "version": 2
   },
   "file_extension": ".py",
   "mimetype": "text/x-python",
   "name": "python",
   "nbconvert_exporter": "python",
   "pygments_lexer": "ipython2",
   "version": "2.7.6"
  }
 },
 "nbformat": 4,
 "nbformat_minor": 5
}
