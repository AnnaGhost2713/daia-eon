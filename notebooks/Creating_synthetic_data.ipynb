{
 "cells": [
  {
   "cell_type": "markdown",
   "id": "969f38a2-e7db-4d3a-a07c-41cb5f20fcd8",
   "metadata": {},
   "source": [
    "SYNTHETIC DATA GENERATION: "
   ]
  },
  {
   "cell_type": "code",
   "execution_count": 2,
   "id": "df23b84c-6786-441c-8c17-c07c674bd267",
   "metadata": {},
   "outputs": [
    {
     "name": "stdout",
     "output_type": "stream",
     "text": [
      "Collecting faker\n",
      "  Downloading faker-37.3.0-py3-none-any.whl.metadata (15 kB)\n",
      "Requirement already satisfied: tzdata in /Library/Frameworks/Python.framework/Versions/3.10/lib/python3.10/site-packages (from faker) (2023.3)\n",
      "Downloading faker-37.3.0-py3-none-any.whl (1.9 MB)\n",
      "\u001b[2K   \u001b[38;2;114;156;31m━━━━━━━━━━━━━━━━━━━━━━━━━━━━━━━━━━━━━━━━\u001b[0m \u001b[32m1.9/1.9 MB\u001b[0m \u001b[31m9.5 MB/s\u001b[0m eta \u001b[36m0:00:00\u001b[0m[31m11.3 MB/s\u001b[0m eta \u001b[36m0:00:01\u001b[0m\n",
      "\u001b[?25hInstalling collected packages: faker\n",
      "Successfully installed faker-37.3.0\n"
     ]
    }
   ],
   "source": [
    "!pip install faker"
   ]
  },
  {
   "cell_type": "code",
   "execution_count": 4,
   "id": "d73b0d72-6404-480b-8fb1-a8b47b9776ff",
   "metadata": {},
   "outputs": [],
   "source": [
    "import os\n",
    "os.makedirs(\"data/synthetic\", exist_ok=True)"
   ]
  },
  {
   "cell_type": "code",
   "execution_count": 6,
   "id": "f2a1ba86-ab79-40e0-93e9-ad0be8b4d9c5",
   "metadata": {},
   "outputs": [],
   "source": [
    "# Defining template diversity through different examples \n",
    "\n",
    "\n",
    "### TODO: ask ChatGPT to generate mails like this with different wording & length\n",
    "### TODO: all \n",
    "### email_anonymizer\n",
    "### weitere approaches anschauen \n",
    "\n",
    "templates = [\n",
    "    \"Wie angefordert der Kontoauszug. Abbuchung Euro <<ZAHLUNG>>.\\nGesendet mit <<GESENDET_MIT>>\",\n",
    "\n",
    "    \"Hallo liebes Eon Team,\\nes geht um die Vertragsnummer <<VERTRAGSNUMMER>>.\\nBei der Einrichtung meines neuen Vertrages wurde leider die Überweisung als\\nZahlungsart gewählt von dem jungen Kollegen an der Wohnungstür. Ich würde\\nes gerne wieder per Lastschrift abbuchen lassen, um mir den Stress zu\\nersparen.\\nVerbraucherstelle ist weiterhin die <<STRASSE>> <<HAUSNUMMER>> in <<POSTLEITZAHL>> <<WOHNORT>>.\\nGruß <<VORNAME>> <<NACHNAME>>\",\n",
    "\n",
    "    \"Sehr geehrte Damen und Herren,\\nleider wurde mein Abschlag den ich für August überwiesen habe für den Abschlag für Juni verrechnet.\\nWie schon mindestens 10 mal von mir berichtet, habe ich den Abschlag von <<ZAHLUNG>> € für Juni auf das Konto das in mein e-on angegeben ist überwiesen, <<IBAN>>.\\nSie müssten nur den Betrag umbuchen auf <<IBAN>>.\\nIch bitte Sie dies zu machen, weil ich sonst wieder eine Zahlungserinnerung für August bekomme.\\nMit freundlichen Grüßen\\n<<TITEL>> <<VORNAME>> <<NACHNAME>>\",\n",
    "\n",
    "    \"Guten Tag,\\nhiermit schicke ich Ihnen die noch fehlenden Angaben:\\nÜbergabedatum: <<DATUM>>\\nMieter: <<VORNAME>> <<NACHNAME>> (<<TELEFON>>)\\n         <<VORNAME>> <<NACHNAME>> (<<TELEFON>>)\\nVermieter: <<TITEL>> <<VORNAME>> <<NACHNAME>>\\nZählernummer: <<ZÄHLERNUMMER>>\\nZählerstand: <<ZÄHLERSTAND>>\\nVielen Dank\\n<<VORNAME>> <<NACHNAME>>\",\n",
    "\n",
    "    \"Vertragspartner: <<VORNAME>> <<NACHNAME>>\\nVertragskonto: <<VERTRAG>>\\nKundennummer: <<VERTRAG>>\\nZählernummer: <<ZÄHLERNUMMER>>\\nGewählter Tarif: E.ON Erdgas Öko\\nSehr geehrte Damen und Herren,\\nunser Gaszähler wurde abgebaut, da wir eine Wärmepumpe installiert haben\\nund kein Gasbezug mehr benötigen.\\nDas Ausbauprotokoll des Netzbetreibers füge ich der Anlage bei.\\nDer Schlußstand unserer Belieferung ist bereits im Portal eingetragen.\\nIch bedanke mich für die Dato unproblematische Vertragsabwicklung.\\nMit freundlichen Grüßen\\n<<VORNAME>> <<NACHNAME>>\\n<<FIRMA>>\\n<<STRASSE>> <<HAUSNUMMER>>\\n<<POSTLEITZAHL>> <<WOHNORT>>\\nFon: <<TELEFON>>\\nFax: <<FAX>>\",\n",
    "\n",
    "    \"Sehr geehrte Damen und Herren,\\nmit dieser E-Mail sende ich Ihnen die Daten und Papiere zu, um den\\nStromzähler zu entsperren.\\nZählernummer: <<ZÄHLERNUMMER>>\\nHandynummer: <<TELEFON>>\\nVertragsnummer: <<VERTRAG>>\\nMit freundlichen Grüßen\\n<<VORNAME>> <<NACHNAME>>\",\n",
    "\n",
    "    \"<<VORNAME>> <<NACHNAME>> <<STRASSE>> <<POSTLEITZAHL>> <<WOHNORT>> Geb.<<DATUM>>\\nKundennr.<<VERTRAG>>\\nSehr geehrtes EON Team,\\nlaut eines EON Mitarbeiters bei dem Telefongespräch gestern hätte ich für diesen August 2023 nur <<ZAHLUNG>>€ an Abschlagszahlung für Gas bezahlt, was aber nicht stimmen kann.\\nIm Anhang befindet sich der Nachweis, dass meine Abschlagszahlung für Gas im August 2023 ganze <<ZAHLUNG>>€ betragen hat.\\nBitte um volle Berechnung meiner Zahlung.\\nMit freundlichen Grüßen\\n<<VORNAME>> <<NACHNAME>>\",\n",
    "\n",
    "    \"Sehr geehrte Damen und Herren,\\nwann bekomme ich meine Abrechnung? Der Vertrag ist seit <<DATUM>> beendet\\nMeine Daten:\\nVor-, Nachname: <<VORNAME>> <<NACHNAME>>\\nGeburtsdatum: <<DATUM>>\\nLieferadresse: <<STRASSE>> <<HAUSNUMMER>>\\nZählernummer: <<ZÄHLERNUMMER>>\\nKundennummer: <<VERTRAG>>\\nMit freundlichen Grüßen\",\n",
    "\n",
    "    \"Sehr geehrte Damen und Herren,\\n\\nvielen Dank für die Erstellung der Rechnung. Leider ist mir aber aufgefallen,\\ndass bei den Rechnungen für die Vertragskonten <<VERTRAG>> und <<VERTRAG>> jeweils\\nder E.ON Plus Rabatt nicht gewährt wurde. Aus diesem Grund bitte ich noch um\\neine Stellungnahme – wenn möglich schriftlich bzw. einen Rückruf von Frau\\n<<NACHNAME>> oder eine Korrektur der beiden Rechnungen.\\n\\nMit freundlichen Grüßen\\n<<VORNAME>> <<NACHNAME>>\",\n",
    "\n",
    "    \"<<VERTRAG>>\\nKunde: <<VORNAME>> <<NACHNAME>>\\nZähler: <<ZÄHLERNUMMER>>\\nProduktwechsel\\nSehr geehrte Damen und Herren,\\nanbei das Formular unterschrieben zurück.\\nBitte um Kenntnisnahme.\\nMit freundlichen Grüßen\\n<<VORNAME>> <<NACHNAME>>\\nDiese Nachricht wurde von meinem <<GESENDET_MIT>> Mail gesendet.\",\n",
    "\n",
    "    \"Sehr geehrte Damen und Herren,\\nanbei, als pdf-Datei die fehlende Unterlage.\\nMit freundlichen Grüßen\\n<<VORNAME>> <<NACHNAME>>\",\n",
    "\n",
    "    \"Guten Tag\\nEs wurde noch ein Zählerfoto vom Zähler mit der Nummer <<ZÄHLERNUMMER>> benötigt.\\nKunde: <<VORNAME>> <<NACHNAME>>\\nVerbrauchstelle: <<STRASSE>> <<HAUSNUMMER>>, <<POSTLEITZAHL>> <<WOHNORT>>\\nZähler: <<ZÄHLERNUMMER>>\\nVertragsnummer: <<VERTRAG>>\\nFoto ist im Anhang\\nMfg\",\n",
    "\n",
    "    \"Guten Tag,\\nwie gerade telefonisch besprochen sende ich Ihnen den Mietvertrag im Anhang.\\nMeine E.ON Vertragsnummer lautet: <<VERTRAG>>\\nDie Zählernummer für Strom lautet: <<ZÄHLERNUMMER>>\\nAktueller Zählerstand: <<ZÄHLERSTAND>> kWh\\nBitte schalten Sie mir so schnell es geht den Strom frei. Ich lebe seit 1,5 Wochen ohne Strom hier.\\nIch bitte außerdem um eine Rückmeldung auf diese Mailadresse.\\nMit freundlichen Grüßen\\n<<VORNAME>> <<NACHNAME>>\",\n",
    "\n",
    "    \"Sehr geehrte Damen und Herren,\\nich widerrufe hiermit meine Einwilligung in die Verarbeitung meiner\\npersonenbezogenen Daten. Ich fordere Sie darüber hinaus auf, die von Ihnen\\nzu meiner Person gespeicherten personenbezogenen Daten zu löschen und mir\\nanschließend die Löschung unverzüglich zu bestätigen.\\nSollten Gründe gegen die Löschung meiner personenbezogenen Daten sprechen,\\nbitte ich um Angaben der jeweiligen gesetzlichen Grundlage.\\nMit freundlichen Grüßen\\n<<VORNAME>> <<NACHNAME>>\",\n",
    "\n",
    "    \"Sehr geehrte Damen und Herren,\\nhiermit lege ich, <<VORNAME>> <<NACHNAME>>, Vertragsnummer <<VERTRAG>>, bei der Schlussrechnung 2022/2023 Widerspruch ein.\\nDie Wohnungsabnahme war am <<DATUM>>, anbei das Übergabeprotokoll der Hausverwaltung.\\nDer Abrechnungszeitraum vom <<DATUM>>–<<DATUM>> fällt somit nicht mehr in meinen Bemessungszeitraum. Anbei auch die neue Meldebescheinigung.\\nIch bitte hiermit um Klärung der Abrechnung.\\nMit freundlichen Grüßen\\n<<VORNAME>> <<NACHNAME>>\",\n",
    "\n",
    "    \"Sehr geehrte Damen und Herren,\\nSie schreiben mir am <<DATUM>>, dass ich noch ein Guthaben von <<ZAHLUNG>>€ habe. Dieses wurde noch nie zurückbezahlt.\\nDas Konto, das Sie angegeben haben, war richtig, allerdings kam das Geld nie an.\\nBitte nochmal prüfen und mir das Geld zahlen. Im Anhang der Brief.\\nMit freundlichen Grüßen,\\n<<VORNAME>> <<NACHNAME>>\\nGesendet mit <<GESENDET_MIT>>\", \n",
    "\n",
    "    \"Vertragsnummer <<VERTRAG>>\\nHello\\nWir haben den Stromzähler am <<DATUM>> im Büro in <<WOHNORT>> abgegeben. Bei Herrn <<NACHNAME>>.\\nMit freundlichen Grüßen\\n<<FIRMA>>\\nGesendet mit <<GESENDET_MIT>>\",\n",
    "\n",
    "    \"Schönen guten Tag,\\n<<VORNAME>> <<NACHNAME>>, <<DATUM>>\\nIch habe gestern aus Versehen die Stromrechnung überwiesen, die eigentlich per Lastschrift eingezogen wird.\\nGestern habe ich mit einem aus Ihrem Kundenservice telefoniert, der mir gesagt hat, ich solle mich nochmal melden, falls ich das Geld zurück überwiesen haben möchte, statt als Gutschrift.\\nHiermit möchte ich Ihnen mitteilen, dass ich die <<ZAHLUNG>> Euro zurück überwiesen haben möchte.\\nBitte veranlassen Sie dies so schnell wie möglich.\\nMit freundlichen Grüßen\\n<<VORNAME>> <<NACHNAME>>\\nGesendet mit <<GESENDET_MIT>>\",\n",
    "\n",
    "    \"Sehr geehrte Damen und Herren,\\nmein Stromtarif <<TARIF>> läuft noch mit der Preisgarantie von <<ZAHLUNG>> Cent netto (<<ZAHLUNG>> Cent brutto) bis zum <<DATUM>>.\\nWelchen Tarif zu welchen Konditionen können Sie mir ab diesem Zeitpunkt anbieten?\\nKann der Tarif zu gleichen Bedingungen weiter verlängert werden?\\nVielen Dank!\\nMit freundlichen Grüßen\\n<<VORNAME>> <<NACHNAME>>\",\n",
    "\n",
    "    \"Guten Tag.\\nDer nächste Abschlag ist am <<DATUM>> fällig.\\nHabe das Ende Juli mit einem Kollegen am Call Center ausgemacht.\\nBitte um Bearbeitung, dass der Betrag Ende August überwiesen wird.\\nDas Konto ist ausgeglichen.\\nVielen Dank.\\nMit freundlichen Grüßen\\nHerr <<VORNAME>> <<NACHNAME>>\\n<<STRASSE>> <<HAUSNUMMER>>\\n<<POSTLEITZAHL>> <<WOHNORT>>\"\n",
    "    \n",
    "]\n"
   ]
  },
  {
   "cell_type": "code",
   "execution_count": 8,
   "id": "465ff290-6ea8-4a3e-963c-9cc904335e28",
   "metadata": {},
   "outputs": [],
   "source": [
    "# Generating Zählernummer\n",
    "import random \n",
    "import string \n",
    "\n",
    "def generate_generic_zaehlernummer():\n",
    "    options = [\n",
    "        lambda: ''.join(random.choices(string.ascii_uppercase + string.digits, k=12)),         # Alphanumeric\n",
    "        lambda: f\"{random.randint(10000000, 999999999)}\",                                       # Plain number\n",
    "        lambda: f\"{random.randint(1000000,99999999)}-{random.randint(1000,999999)}\",           # Hyphenated\n",
    "        lambda: f\"{random.randint(1000,9999)}.{random.randint(100,999)}\",                      # Decimal style\n",
    "        lambda: f\"{random.randint(1000000000000, 9999999999999)}\",                              # Long number\n",
    "        lambda: f\"{''.join(random.choices(string.ascii_uppercase, k=4))}{random.randint(100000000, 999999999)}\"\n",
    "    ]\n",
    "    return random.choice(options)()"
   ]
  },
  {
   "cell_type": "code",
   "execution_count": 9,
   "id": "4cb99d76-a41f-4820-800f-ef08efe0bae3",
   "metadata": {},
   "outputs": [],
   "source": [
    "# Generating Zählerstand\n",
    "def generate_zaehlerstand():\n",
    "    if random.random() < 0.7:\n",
    "        # Mostly normal-sized values (e.g. 5-6 digits)\n",
    "        value = random.randint(10000, 999999)\n",
    "    else:\n",
    "        # Occasionally large value\n",
    "        value = random.randint(10000000, 999999999)\n",
    "\n",
    "    if random.random() < 0.3:\n",
    "        # 30% chance to make it a float with comma\n",
    "        decimals = round(random.uniform(0.1, 0.99), 2)\n",
    "        return f\"{value},{str(decimals)[2:]}\"\n",
    "    else:\n",
    "        return str(value)"
   ]
  },
  {
   "cell_type": "code",
   "execution_count": 10,
   "id": "d389a6ed-52fe-436b-9863-abe467795383",
   "metadata": {},
   "outputs": [],
   "source": [
    "# Generating Vertragsnummer \n",
    "def generate_vertragsnummer():\n",
    "    base = str(random.randint(400000000, 409999999))  # 9-digit number\n",
    "\n",
    "    if random.random() < 0.3:\n",
    "        # Insert spaces in 30% of cases for realism\n",
    "        return f\"{base[:3]} {base[3:6]} {base[6:]}\"\n",
    "    \n",
    "    return base\n"
   ]
  },
  {
   "cell_type": "code",
   "execution_count": 5,
   "id": "763c5326-a24e-4a5a-abd4-29618dfe35bc",
   "metadata": {},
   "outputs": [
    {
     "name": "stdout",
     "output_type": "stream",
     "text": [
      "✅ Synthetic emails generated and saved to 'data/synthetic/synthetic_emails.txt'\n"
     ]
    }
   ],
   "source": [
    "# Fill placeholders randomly with data from faker\n",
    "\n",
    "from faker import Faker\n",
    "import random\n",
    "\n",
    "fake = Faker(\"de_DE\")\n",
    "\n",
    "def fill_template(template):\n",
    "    titel = random.choice(german_titles)\n",
    "    vorname = fake.first_name()\n",
    "    nachname = fake.last_name()\n",
    "    name = f\"{titel} {vorname} {nachname}\".strip()\n",
    "\n",
    "def fill_template(template):\n",
    "    firma = fake.company()\n",
    "    telefon = fake.phone_number()\n",
    "    email = fake.email()\n",
    "    fax = fake.phone_number()\n",
    "    strasse = fake.street_name()\n",
    "    hausnummer = fake.building_number()\n",
    "    plz = fake.postcode()\n",
    "    ort = fake.city()\n",
    "    #check for correctness\n",
    "    zaehlernummer = generate_zaehlernummer()\n",
    "    zaehlerstand = generate_zaehlerstand()\n",
    "    vertragsnummer = generate_vertragsnummer()\n",
    "    # bei Zahlung: EUR mit masken -> Timon nochmal fragen \n",
    "    # zahlung = str(round(random.uniform(20, 500), 2))\n",
    "    bank = fake.company() + \" Bank\"\n",
    "    iban = fake.iban()\n",
    "    bic = fake.swift()\n",
    "    # checken\n",
    "    # datum = fake.date_between(start_date='-3y', end_date='today').strftime(\"%d. %B %Y\")\n",
    "    # gesendet_mit = random.choice([\"iPhone\", \"Samsung Galaxy\", \"Outlook\", \"Thunderbird\", \"Apple Mail\"])\n",
    "\n",
    "    # wichtig: so um die 100 emails generieren zum Test -> dann nochmal so um die 1000\n",
    "\n",
    "    return (template\n",
    "        .replace(\"<<TITEL>>\", titel)\n",
    "        .replace(\"<<VORNAME>>\", vorname)\n",
    "        .replace(\"<<NACHNAME>>\", nachname)\n",
    "        .replace(\"<<NAME>>\", name)\n",
    "        .replace(\"<<FIRMA>>\", firma)\n",
    "        .replace(\"<<TELEFON>>\", telefon)\n",
    "        .replace(\"<<TELEFONNUMMER>>\", telefon)\n",
    "        .replace(\"<<EMAIL>>\", email)\n",
    "        .replace(\"<<FAX>>\", fax)\n",
    "        .replace(\"<<STRASSE>>\", strasse)\n",
    "        .replace(\"<<HAUSNUMMER>>\", hausnummer)\n",
    "        .replace(\"<<POSTLEITZAHL>>\", plz)\n",
    "        .replace(\"<<WOHNORT>>\", ort)\n",
    "        .replace(\"<<ZÄHLERNUMMER>>\", zaehlernummer)\n",
    "        .replace(\"<<ZÄHLERSTAND>>\", zaehlerstand)\n",
    "        .replace(\"<<VERTRAG>>\", vertragsnummer)\n",
    "        .replace(\"<<VERTRAGSNUMMER>>\", vertragsnummer)\n",
    "        .replace(\"<<ZAHLUNG>>\", zahlung)\n",
    "        .replace(\"<<BANK>>\", bank)\n",
    "        .replace(\"<<IBAN>>\", iban)\n",
    "        .replace(\"<<BIC>>\", bic)\n",
    "        .replace(\"<<DATUM>>\", datum)\n",
    "        .replace(\"<<GESENDET_MIT>>\", gesendet_mit)\n",
    "        .replace(\"<<KONTAKT>>\", gesendet_mit)  # falls du KONTAKT als synonym nutzt\n",
    "    )\n"
   ]
  },
  {
   "cell_type": "code",
   "execution_count": null,
   "id": "af5e3b88-caff-4a2e-8c3c-95e1def9ad87",
   "metadata": {},
   "outputs": [],
   "source": [
    "# Generate mails and save it \n",
    "\n",
    "synthetic_emails = [fill_template(random.choice(templates)) for _ in range(100)]\n",
    "\n",
    "with open(\"data/synthetic/synthetic_emails.txt\", \"w\", encoding=\"utf-8\") as f:\n",
    "    for mail in synthetic_emails:\n",
    "        f.write(mail + \"\\n\" + (\"-\" * 80) + \"\\n\")\n"
   ]
  }
 ],
 "metadata": {
  "kernelspec": {
   "display_name": "Python 3",
   "language": "python",
   "name": "python3"
  },
  "language_info": {
   "codemirror_mode": {
    "name": "ipython",
    "version": 3
   },
   "file_extension": ".py",
   "mimetype": "text/x-python",
   "name": "python",
   "nbconvert_exporter": "python",
   "pygments_lexer": "ipython3",
   "version": "3.10.11"
  }
 },
 "nbformat": 4,
 "nbformat_minor": 5
}
