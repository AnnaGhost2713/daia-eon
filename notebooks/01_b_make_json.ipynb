{
 "cells": [
  {
   "cell_type": "code",
   "execution_count": 6,
   "id": "558fb6de-8d0e-45ee-ad9f-fb0aa326ec6d",
   "metadata": {},
   "outputs": [],
   "source": [
    "import re, json\n",
    "import pandas as pd\n",
    "from pathlib import Path"
   ]
  },
  {
   "cell_type": "code",
   "execution_count": 7,
   "id": "455200a7-dd00-49bb-9098-dad8de825675",
   "metadata": {},
   "outputs": [],
   "source": [
    "# Finegrained placeholder map\n",
    "PLACEHOLDERS = {\n",
    "    \"VORNAME\": {\"VORNAME\"},\n",
    "    \"NACHNAME\": {\"NACHNAME\"},\n",
    "    \"FIRMA\": {\"FIRMA\"},\n",
    "    \"TELEFONNUMMER\": {\"TELEFONNUMMER\"},\n",
    "    \"EMAIL\": {\"EMAIL\"},\n",
    "    \"FAX\": {\"FAX\"},\n",
    "    \"STRASSE\": {\"STRASSE\"},\n",
    "    \"HAUSNUMMER\": {\"HAUSNUMMER\"},\n",
    "    \"POSTLEITZAHL\": {\"POSTLEITZAHL\"},\n",
    "    \"WOHNORT\": {\"WOHNORT\"},\n",
    "    \"ZÄHLERNUMMER\": {\"ZÄHLERNUMMER\"},\n",
    "    \"ZÄHLERSTAND\": {\"ZÄHLERSTAND\"},\n",
    "    \"VERTRAGSNUMMER\": {\"VERTRAGSNUMMER\", \"ANGEBOTSNUMMER\", \"KUNDENNUMMER\"},\n",
    "    \"ZAHLUNG\": {\"ZAHLUNG\"},\n",
    "    \"BANK\": {\"BANK\"},\n",
    "    \"IBAN\": {\"IBAN\"},\n",
    "    \"BIC\": {\"BIC\"},\n",
    "    \"DATUM\": {\"DATUM\"},\n",
    "    \"TITEL\": {\"TITEL\"},\n",
    "    \"GESENDET_MIT\": {\"GESENDET_MIT\"},\n",
    "    \"LINK\": {\"LINK\"},\n",
    "}\n"
   ]
  },
  {
   "cell_type": "code",
   "execution_count": 8,
   "id": "71f859cf-3e46-453b-a1a9-2b3fe85b8aa6",
   "metadata": {},
   "outputs": [
    {
     "name": "stdout",
     "output_type": "stream",
     "text": [
      "✓ Wrote 160 records with spans to data/golden_dataset_with_spans.json\n"
     ]
    }
   ],
   "source": [
    "# ── 2) Helper to map any column → its placeholder label ────────────────\n",
    "def col_to_label(col_name: str) -> str | None:\n",
    "    up = col_name.upper()\n",
    "    for label, keys in PLACEHOLDERS.items():\n",
    "        if up in keys:\n",
    "            return label\n",
    "    return None\n",
    "\n",
    "# ── 3) Load your metadata CSV/Excel ────────────────────────────────────\n",
    "#    Make sure it has a \"TextFile\" column with the filename of each email\n",
    "META_PATH = Path(\"data/Daia_Manual_Labelling_granular.xlsx\")\n",
    "meta = pd.read_excel(META_PATH, dtype=str)\n",
    "\n",
    "# ── 4) Iterate and build JSON records ─────────────────────────────────\n",
    "EMAIL_DIR = Path(\"data/golden_dataset_original\")\n",
    "OUTPUT    = []\n",
    "\n",
    "# Regex to find any placeholder-like span; we'll ignore it here\n",
    "tag_re = re.compile(r\"<<[^>]+>>\")\n",
    "\n",
    "for _, row in meta.iterrows():\n",
    "    fname = row[\"TextFile\"]\n",
    "    email_path = EMAIL_DIR / fname\n",
    "    if not email_path.exists():\n",
    "        print(f\"⚠️  File not found: {fname}\")\n",
    "        continue\n",
    "\n",
    "    text = email_path.read_text(encoding=\"utf-8\", errors=\"ignore\")\n",
    "    labels = []\n",
    "\n",
    "    # For each metadata column (except TextFile), extract spans\n",
    "    for col, val in row.items():\n",
    "        if col == \"TextFile\" or pd.isna(val):\n",
    "            continue\n",
    "\n",
    "        label = col_to_label(col)\n",
    "        if not label:\n",
    "            continue\n",
    "\n",
    "        literal = str(val).strip()\n",
    "        if not literal:\n",
    "            continue\n",
    "\n",
    "        # Find all non-overlapping occurrences of the literal\n",
    "        for m in re.finditer(re.escape(literal), text):\n",
    "            labels.append({\n",
    "                \"start\": m.start(),\n",
    "                \"end\":   m.end(),\n",
    "                \"label\": label\n",
    "            })\n",
    "\n",
    "    OUTPUT.append({\n",
    "        \"file\":   fname,\n",
    "        \"text\":   text,\n",
    "        \"labels\": labels\n",
    "    })\n",
    "\n",
    "# ── 5) Write out the JSON ──────────────────────────────────────────────\n",
    "OUT_PATH = Path(\"data/golden_dataset_with_spans.json\")\n",
    "OUT_PATH.write_text(json.dumps(OUTPUT, ensure_ascii=False, indent=2), encoding=\"utf-8\")\n",
    "print(f\"✓ Wrote {len(OUTPUT)} records with spans to {OUT_PATH}\")"
   ]
  },
  {
   "cell_type": "code",
   "execution_count": null,
   "id": "1db9dc8f-8cb4-4cde-ac6a-bb24ba465212",
   "metadata": {},
   "outputs": [],
   "source": []
  }
 ],
 "metadata": {
  "kernelspec": {
   "display_name": "Python 3",
   "language": "python",
   "name": "python3"
  },
  "language_info": {
   "codemirror_mode": {
    "name": "ipython",
    "version": 3
   },
   "file_extension": ".py",
   "mimetype": "text/x-python",
   "name": "python",
   "nbconvert_exporter": "python",
   "pygments_lexer": "ipython3",
   "version": "3.10.11"
  }
 },
 "nbformat": 4,
 "nbformat_minor": 5
}
