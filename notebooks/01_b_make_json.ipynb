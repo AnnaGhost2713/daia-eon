{
 "cells": [
  {
   "cell_type": "code",
   "execution_count": 14,
   "id": "558fb6de-8d0e-45ee-ad9f-fb0aa326ec6d",
   "metadata": {},
   "outputs": [],
   "source": [
    "import json, re, pathlib"
   ]
  },
  {
   "cell_type": "code",
   "execution_count": 15,
   "id": "455200a7-dd00-49bb-9098-dad8de825675",
   "metadata": {},
   "outputs": [],
   "source": [
    "# Finegrained placeholder map\n",
    "PLACEHOLDERS = {\n",
    "    \"VORNAME\": {\"VORNAME\"},\n",
    "    \"NACHNAME\": {\"NACHNAME\"},\n",
    "    \"FIRMA\": {\"FIRMA\"},\n",
    "    \"TELEFONNUMMER\": {\"TELEFONNUMMER\"},\n",
    "    \"EMAIL\": {\"EMAIL\"},\n",
    "    \"FAX\": {\"FAX\"},\n",
    "    \"STRASSE\": {\"STRASSE\"},\n",
    "    \"HAUSNUMMER\": {\"HAUSNUMMER\"},\n",
    "    \"POSTLEITZAHL\": {\"POSTLEITZAHL\"},\n",
    "    \"WOHNORT\": {\"WOHNORT\"},\n",
    "    \"ZÄHLERNUMMER\": {\"ZÄHLERNUMMER\"},\n",
    "    \"ZÄHLERSTAND\": {\"ZÄHLERSTAND\"},\n",
    "    \"VERTRAGSNUMMER\": {\"VERTRAGSNUMMER\", \"ANGEBOTSNUMMER\", \"KUNDENNUMMER\"},\n",
    "    \"ZAHLUNG\": {\"ZAHLUNG\"},\n",
    "    \"BANK\": {\"BANK\"},\n",
    "    \"IBAN\": {\"IBAN\"},\n",
    "    \"BIC\": {\"BIC\"},\n",
    "    \"DATUM\": {\"DATUM\"},\n",
    "    \"TITEL\": {\"TITEL\"},\n",
    "    \"GESENDET_MIT\": {\"GESENDET_MIT\"},\n",
    "    \"LINK\": {\"LINK\"},\n",
    "}\n"
   ]
  },
  {
   "cell_type": "code",
   "execution_count": 16,
   "id": "bd5d4fee-faeb-40f3-94d0-4d2e688fb570",
   "metadata": {},
   "outputs": [
    {
     "name": "stdout",
     "output_type": "stream",
     "text": [
      "✓ JSON saved to data/templates_with_spans.json with 160 entries\n"
     ]
    }
   ],
   "source": [
    "# 2) Invert it into placeholder→label\n",
    "TAG2LABEL = { f\"<<{t}>>\": t for t in PLACEHOLDERS.keys() }\n",
    "\n",
    "TEMPLATE_DIR = pathlib.Path(\"data/golden_dataset_anonymized_granular\")\n",
    "JSON_OUT     = pathlib.Path(\"data/templates_with_spans.json\")\n",
    "\n",
    "records = []\n",
    "tag_regex = re.compile(r\"<<[^>]+>>\")\n",
    "\n",
    "for p in TEMPLATE_DIR.glob(\"*.txt\"):\n",
    "    text = p.read_text(encoding=\"utf-8\")\n",
    "    labels = []\n",
    "    for m in tag_regex.finditer(text):\n",
    "        tag   = m.group(0)        # \"<<VERTRAGSNUMMER>>\"\n",
    "        start = m.start()\n",
    "        end   = m.end()\n",
    "        label = TAG2LABEL[tag]    # now works\n",
    "        labels.append({\"start\": start, \"end\": end, \"label\": label})\n",
    "    records.append({\"file\": p.name, \"text\": text, \"labels\": labels})\n",
    "\n",
    "JSON_OUT.write_text(json.dumps(records, ensure_ascii=False, indent=2))\n",
    "print(\"✓ JSON saved to\", JSON_OUT, \"with\", len(records), \"entries\")\n"
   ]
  },
  {
   "cell_type": "code",
   "execution_count": null,
   "id": "f957948a-f001-44d8-a348-69223a61fec3",
   "metadata": {},
   "outputs": [],
   "source": []
  }
 ],
 "metadata": {
  "kernelspec": {
   "display_name": "Python 3",
   "language": "python",
   "name": "python3"
  },
  "language_info": {
   "codemirror_mode": {
    "name": "ipython",
    "version": 3
   },
   "file_extension": ".py",
   "mimetype": "text/x-python",
   "name": "python",
   "nbconvert_exporter": "python",
   "pygments_lexer": "ipython3",
   "version": "3.10.11"
  }
 },
 "nbformat": 4,
 "nbformat_minor": 5
}
