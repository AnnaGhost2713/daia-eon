{
 "cells": [
  {
   "metadata": {},
   "cell_type": "markdown",
   "source": "# Splitting of Data mit Fokus auf Real Data, nur Train: 70% der Real Daten,",
   "id": "348b0a3072486b4"
  },
  {
   "cell_type": "code",
   "id": "initial_id",
   "metadata": {
    "collapsed": true,
    "ExecuteTime": {
     "end_time": "2025-06-05T17:36:24.726538Z",
     "start_time": "2025-06-05T17:36:24.714558Z"
    }
   },
   "source": [
    "import json, random\n",
    "from pathlib import Path\n",
    "\n",
    "# Lade echte und synthetische Daten\n",
    "with open(\"../data/piranha_training_data_zusammengefasst.json\", \"r\", encoding=\"utf-8\") as f:\n",
    "    real_data = json.load(f)\n",
    "\n",
    "#with open(\"../data/piranha_synthetic_data.json\", \"r\", encoding=\"utf-8\") as f:\n",
    "#    synthetic_data = json.load(f)\n",
    "\n",
    "random.shuffle(real_data)\n",
    "#random.shuffle(synthetic_data)\n",
    "\n",
    "# Echte Daten splitten\n",
    "n = len(real_data)\n",
    "train_real = real_data[:int(0.7 * n)]\n",
    "dev_data = real_data[int(0.7 * n):int(0.85 * n)]\n",
    "test_data = real_data[int(0.85 * n):]\n",
    "\n",
    "# Optional: 10% synthetische Daten beifügen\n",
    "#synthetic_sample = synthetic_data[:int(0.1 * len(train_real))]\n",
    "train_data = train_real  #+ synthetic_sample\n",
    "random.shuffle(train_data)\n",
    "\n",
    "# Speichern\n",
    "Path(\"../data/real_focus_zusammengefasst\").mkdir(parents=True, exist_ok=True)\n",
    "with open(\"../data/real_focus_zusammengefasst/train_zusammengefasst.json\", \"w\") as f: json.dump(train_data, f, indent=2)\n",
    "with open(\"../data/real_focus_zusammengefasst/dev_zusammengefasst.json\", \"w\") as f: json.dump(dev_data, f, indent=2)\n",
    "with open(\"../data/real_focus_zusammengefasst/test_zusammengefasst.json\", \"w\") as f: json.dump(test_data, f, indent=2)\n"
   ],
   "outputs": [],
   "execution_count": 3
  }
 ],
 "metadata": {
  "kernelspec": {
   "display_name": "Python 3",
   "language": "python",
   "name": "python3"
  },
  "language_info": {
   "codemirror_mode": {
    "name": "ipython",
    "version": 2
   },
   "file_extension": ".py",
   "mimetype": "text/x-python",
   "name": "python",
   "nbconvert_exporter": "python",
   "pygments_lexer": "ipython2",
   "version": "2.7.6"
  }
 },
 "nbformat": 4,
 "nbformat_minor": 5
}
