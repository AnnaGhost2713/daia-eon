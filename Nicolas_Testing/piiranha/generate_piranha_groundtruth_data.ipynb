{
 "cells": [
  {
   "cell_type": "markdown",
   "id": "061c6789",
   "metadata": {},
   "source": [
    "# 📘 Piranha Ground Truth Data Generator\n",
    "Dieses Notebook erzeugt Piranha-kompatible Ground Truth Daten: Aus der Manuell Gelabelten Excel wird eine JSON Datei erzeugt, die die Labels mit Ihrer Position erfasst. Inputs sind das golden_dataset_original und die Excel /data/DAiA Manual Labeling.xlsx, Output ist dann /data/piranha_training_data.json"
   ]
  },
  {
   "cell_type": "code",
   "id": "a81d33d8",
   "metadata": {
    "ExecuteTime": {
     "end_time": "2025-06-11T16:51:26.122429Z",
     "start_time": "2025-06-11T16:51:25.836934Z"
    }
   },
   "source": [
    "import os\n",
    "import re\n",
    "import json\n",
    "import pandas as pd\n",
    "from pathlib import Path\n",
    "\n",
    "GROUPED_PLACEHOLDERS = {\n",
    "    \"TITEL\": [\"TITEL\"],\n",
    "    \"VORNAME\": [\"VORNAME\"],\n",
    "    \"NACHNAHME\": [\"NACHNAME\", \"SKYPE\"],\n",
    "    \"ADRESSE\": [\"ADRESSE\"],\n",
    "    \"VERTRAGSNUMMER\": [\"VERTRAGSNUMMER\"],\n",
    "    \"KUNDENNUMMER\": [\"KUNDENNUMMER\", \"ZUORDNUNGSNUMMER\", \"WLV\"],\n",
    "    \"BETRAG\": [\"ZAHLUNG\"],\n",
    "    \"IBAN\": [\"IBAN\"],\n",
    "    \"BIC\": [\"BIC\"],\n",
    "    \"ZÄHLERSTAND\": [\"ZÄHLERSTAND\"],\n",
    "    \"ZÄHLERNUMMER\": [\"ZÄHLERNUMMER\"],\n",
    "    \"VERBRAUCH\": [\"VERBRAUCH\"],\n",
    "    \"TELEFONNUMMER\": [\"TELEFONNUMMER\"],\n",
    "    \"EMAIL\": [\"EMAIL\", \"MAIL\"],\n",
    "    \"LINK\": [\"LINK\"],\n",
    "    \"GESENDET_MIT\": [\"GESENDET_MIT\"],\n",
    "    \"FAX\": [\"FAX\"],\n",
    "    \"FIRMA\": [\"FIRMA\"],\n",
    "    \"DATUM\": [\"DATUM\"]\n",
    "}\n",
    "\n",
    "def map_column_to_label(col_name):\n",
    "    upper_col = col_name.upper()\n",
    "    for label, keywords in GROUPED_PLACEHOLDERS.items():\n",
    "        for keyword in keywords:\n",
    "            if keyword in upper_col:\n",
    "                return label\n",
    "    return None\n",
    "\n",
    "def generate_piranha_training_data(df, email_folder_path, output_file_path):\n",
    "    training_data = []\n",
    "\n",
    "    for index, row in df.iterrows():\n",
    "        file_name = row[\"TextFile\"]\n",
    "        email_path = os.path.join(email_folder_path, file_name)\n",
    "\n",
    "        try:\n",
    "            with open(email_path, \"r\", encoding=\"utf-8\") as file:\n",
    "                text = file.read()\n",
    "        except FileNotFoundError:\n",
    "            print(f\"Datei nicht gefunden: {file_name}\")\n",
    "            continue\n",
    "\n",
    "        labels = []\n",
    "        for col in row.index:\n",
    "            if pd.isna(row[col]):\n",
    "                continue\n",
    "            label_type = map_column_to_label(col)\n",
    "            if label_type:\n",
    "                value = str(row[col]).strip()\n",
    "                start_idx = text.lower().find(value.lower())\n",
    "                if start_idx != -1:\n",
    "                    end_idx = start_idx + len(value)\n",
    "                    labels.append({\"start\": start_idx, \"end\": end_idx, \"label\": label_type})\n",
    "                else:\n",
    "                    print(f\"Wert nicht gefunden: '{value}' in Datei {file_name}\")\n",
    "\n",
    "        training_data.append({\n",
    "            \"text\": text,\n",
    "            \"labels\": labels\n",
    "        })\n",
    "\n",
    "    with open(output_file_path, \"w\", encoding=\"utf-8\") as f:\n",
    "        json.dump(training_data, f, ensure_ascii=False, indent=2)\n",
    "\n",
    "    print(f\"Piranha-Trainingsdaten gespeichert unter: {output_file_path}\")\n"
   ],
   "outputs": [],
   "execution_count": 1
  },
  {
   "cell_type": "code",
   "id": "06fba372",
   "metadata": {
    "ExecuteTime": {
     "end_time": "2025-06-11T16:51:52.254824Z",
     "start_time": "2025-06-11T16:51:52.198695Z"
    }
   },
   "source": [
    "# 📥 Excel laden und Funktion ausführen\n",
    "df = pd.read_excel(\"../../data/DAiA_Manual_Labeling_zusammengefasst.xlsx\", dtype=str)\n",
    "generate_piranha_training_data(\n",
    "    df,\n",
    "    \"../data/golden_dataset_original_copy\",\n",
    "    \"../data/piranha_ground_truth.json\"\n",
    ")"
   ],
   "outputs": [
    {
     "name": "stdout",
     "output_type": "stream",
     "text": [
      "Piranha-Trainingsdaten gespeichert unter: ../data/piranha_ground_truth.json\n"
     ]
    }
   ],
   "execution_count": 3
  }
 ],
 "metadata": {},
 "nbformat": 4,
 "nbformat_minor": 5
}
